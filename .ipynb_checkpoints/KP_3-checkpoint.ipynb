{
 "cells": [
  {
   "cell_type": "code",
   "execution_count": 84,
   "metadata": {},
   "outputs": [],
   "source": [
    "#### Virtual assistants and  accessing data"
   ]
  },
  {
   "cell_type": "code",
   "execution_count": 95,
   "metadata": {},
   "outputs": [],
   "source": [
    "## SQLite with Python"
   ]
  },
  {
   "cell_type": "code",
   "execution_count": 28,
   "metadata": {},
   "outputs": [],
   "source": [
    "import sqlite3\n",
    "conn = sqlite3.connect('yelp2.db')\n",
    "c = conn.cursor()\n",
    "#c.execute(\"DROP TABLE yelp\")\n",
    "#c.execute(\"CREATE TABLE IF NOT EXISTS hotels(name text, price text, location text, stars int)\")\n",
    "#c.execute(\"INSERT INTO hotels(name, price, location, stars) VALUES('Hotel for Dogs', 'mid', 'east', 3)\")\n",
    "#c.execute(\"INSERT INTO hotels(name, price, location, stars) VALUES('Hotel California', 'mid', 'north', 3)\")\n",
    "#c.execute(\"INSERT INTO hotels(name, price, location, stars) VALUES('Grand Hotel', 'hi', 'south', 5)\")\n",
    "#c.execute(\"INSERT INTO hotels(name, price, location, stars) VALUES('Cozy Cottage', 'lo', 'south', 2)\")\n",
    "#c.execute(\"INSERT INTO hotels(name, price, location, stars) VALUES('Bens BnB', 'hi', 'north', 4)\")\n",
    "#c.execute(\"INSERT INTO hotels(name, price, location, stars) VALUES('The Grand', 'hi', 'west', 5)\")\n",
    "#c.execute(\"INSERT INTO hotels(name, price, location, stars) VALUES('Central Rooms', 'mid', 'center', 3)\")\n",
    "#c.execute(\"commit\")"
   ]
  },
  {
   "cell_type": "code",
   "execution_count": 29,
   "metadata": {},
   "outputs": [
    {
     "data": {
      "text/plain": [
       "<sqlite3.Cursor at 0x1b4bb859880>"
      ]
     },
     "execution_count": 29,
     "metadata": {},
     "output_type": "execute_result"
    }
   ],
   "source": [
    "c.execute(\"SELECT * FROM yelp2\")"
   ]
  },
  {
   "cell_type": "code",
   "execution_count": 30,
   "metadata": {},
   "outputs": [
    {
     "name": "stdout",
     "output_type": "stream",
     "text": [
      "[('Best West Inn', 'lo', 'TRUE', '600 W Van Buren Street\\nPhoenix, AZ 85003', 'free', 'FALSE', 'Phoenix', 1.0, 'low'), ('Quality Inn Airport', 'lo', 'TRUE', '1550 S. 52nd St.\\nTempe, AZ 85281', 'free', 'TRUE', 'Tempe', 1.0, 'low'), ('St Tropez', 'lo', None, '455 E Harmon Avenue\\nEastside\\nLas Vegas, NV 89169', None, 'FALSE', 'Las Vegas', 1.0, 'low'), ('Knights Inn Gila Bend', 'lo', 'TRUE', '1046 East Pima Street\\nGila Bend, AZ 85337', 'free', 'TRUE', 'Gila Bend', 1.0, 'low'), ('Days Inn Mesa - Main St.', 'lo', 'TRUE', '1750 E. Main St.\\nMesa, AZ 85203', 'free', 'TRUE', 'Mesa', 1.0, 'low'), ('Motel 6', 'mid', 'TRUE', '214 S 24th St\\nPhoenix, AZ 85034', 'paid', 'TRUE', 'Phoenix', 1.0, 'low'), ('Mesa Travelodge', 'mid', 'TRUE', '22 South Country Club Drive\\nMesa, AZ 85210', 'free', 'TRUE', 'Mesa', 1.0, 'low'), ('A Victory Inn', 'mid', 'TRUE', '1520 N 84th Dr\\nTolleson, AZ 85353', 'free', 'TRUE', 'Tolleson', 1.0, 'low'), (\"America's Best Value Inn\", 'mid', 'TRUE', '85 W Lake Mead Parkway\\nHenderson, NV 89015', 'paid', 'TRUE', 'Henderson', 1.0, 'low'), ('University Inn and Suites', 'mid', 'TRUE', '902 S Mill Ave\\nTempe, AZ 85281', 'free', 'TRUE', 'Tempe', 1.0, 'low'), ('Wyndham Vacation Ownership', 'lux', 'TRUE', '3475 Las Vegas Blvd S\\nThe Strip\\nLas Vegas, NV 89109', None, 'TRUE', 'Las Vegas', 1.0, 'low'), ('Desert Moon Motel', None, 'TRUE', '1701 Fremont Street\\nDowntown\\nLas Vegas, NV 89101', None, 'TRUE', 'Las Vegas', 1.0, 'low'), ('Days Inn Phoenix West', None, 'TRUE', '1241 N 53rd Ave\\nPhoenix, AZ 85043', 'free', 'TRUE', 'Phoenix', 1.0, 'low'), ('Legacy Suites Extended Stay', None, 'TRUE', '1204 N 91st Ave\\nTolleson, AZ 85353', 'free', 'TRUE', 'Tolleson', 1.0, 'low'), ('Days Inn Airport - Phoenix', 'lo', 'TRUE', '2900 E Van Buren St\\nPhoenix, AZ 85008', 'free', 'TRUE', 'Phoenix', 1.5, 'low'), ('Rodeway Inn Airport', 'lo', 'TRUE', '3541 E Van Buren St\\nPhoenix, AZ 85008', 'free', 'TRUE', 'Phoenix', 1.5, 'low'), ('Super 8 Casa Grande', 'lo', 'TRUE', '2066 E. Florence Blvd.\\nCasa Grande, AZ 85222', 'free', 'TRUE', 'Casa Grande', 1.5, 'low'), ('Quality Inn & Suites at Talavi', 'lo', 'TRUE', '5511 West Bell Road\\nGlendale, AZ 85308', 'free', 'TRUE', 'Glendale', 1.5, 'low'), ('A Victory Inn and Suites', 'lo', 'TRUE', '1711 W Bell Rd\\nPhoenix, AZ 85023', 'free', 'TRUE', 'Phoenix', 1.5, 'low'), ('Days Inn Phoenix Metro Center', 'lo', 'TRUE', '2735 W. Sweetwater Ave.\\nPhoenix, AZ 85029', 'no', 'TRUE', 'Phoenix', 1.5, 'low'), ('Ramada Limited', 'lo', None, '6935 E 5th Ave\\nScottsdale, AZ 85251', None, 'FALSE', 'Scottsdale', 1.5, 'low'), ('Blue Angel Motel', 'lo', 'FALSE', '2110 Fremont St\\nDowntown\\nLas Vegas, NV 89101', 'no', 'FALSE', 'Las Vegas', 1.5, 'low'), ('Super 8 Motel', 'lo', 'TRUE', '4250 Koval Ln\\nEastside\\nLas Vegas, NV 89101', 'free', 'TRUE', 'Las Vegas', 1.5, 'low'), ('Days Inn Phoenix/Tempe-ASU', 'lo', 'TRUE', '1221 East Apache Blvd.\\nTempe, AZ 85281', 'free', 'TRUE', 'Tempe', 1.5, 'low'), ('Motel 6', 'lo', 'TRUE', '1720 S Priest Drive\\nTempe, AZ 85281', 'paid', 'TRUE', 'Tempe', 1.5, 'low'), ('Ramada Peoria', 'lo', 'TRUE', '8955 Nw Grand Ave\\nPeoria, AZ 85345', 'free', 'TRUE', 'Peoria', 1.5, 'low'), ('Baymont Inn And Suites Madison', 'lo', 'TRUE', '4202 E Towne Blvd\\nMadison, WI 53704', 'free', 'FALSE', 'Madison', 1.5, 'low'), ('Extended Stay America - Phoenix - Scottsdale', 'lo', 'TRUE', '10660 N. 69th Street\\nScottsdale, AZ 85254', 'paid', 'TRUE', 'Scottsdale', 1.5, 'low'), ('Motel6', 'lo', 'TRUE', '7445 W Chandler Blvd\\nChandler, AZ 85226', 'free', 'TRUE', 'Chandler', 1.5, 'low'), ('Fortune Hotel & Suites', 'lo', 'TRUE', '325 E Flamingo Rd\\nEastside\\nLas Vegas, NV 89169', 'free', 'TRUE', 'Las Vegas', 1.5, 'low'), ('Extended Stay America - Phoenix - Mesa', 'mid', 'TRUE', '455 W. Baseline Rd.\\nMesa, AZ 85210', 'paid', 'TRUE', 'Mesa', 1.5, 'low'), ('Extended Stay America - Phoenix - Scottsdale - North', 'mid', 'TRUE', '15501 N. Scottsdale Rd.\\nScottsdale, AZ 85254', 'free', 'TRUE', 'Scottsdale', 1.5, 'low'), ('Comfort Inn North', 'mid', None, '910 E Cheyenne Ave\\nNorth Las Vegas, NV 89030', None, 'TRUE', 'North Las Vegas', 1.5, 'low'), ('Las Vegas Hotel', 'mid', 'TRUE', '209 N 7th St\\nDowntown\\nLas Vegas, NV 89101', 'paid', 'TRUE', 'Las Vegas', 1.5, 'low'), ('Travelodge Las Vegas', 'mid', 'TRUE', '2830 Las Vegas Blvd S\\nThe Strip\\nLas Vegas, NV 89109', 'free', 'TRUE', 'Las Vegas', 1.5, 'low'), ('Motel 8', 'mid', 'TRUE', '3961 Las Vegas Boulevard S\\nThe Strip\\nLas Vegas, NV 89119', 'free', 'TRUE', 'Las Vegas', 1.5, 'low'), ('Extended Stay America - Phoenix - Midtown', 'mid', 'TRUE', '217 W. Osborn Rd\\nPhoenix, AZ 85013', 'free', 'TRUE', 'Phoenix', 1.5, 'low'), ('Ramada Plaza Phoenix at Metrocenter', 'mid', 'TRUE', '12027 N 28th Dr\\nPhoenix, AZ 85029', 'free', 'FALSE', 'Phoenix', 1.5, 'low'), ('Cairn Hotel', 'mid', 'TRUE', '10-18 Windsor Street\\nEdinburgh EH7 5JR', 'free', 'TRUE', 'Edinburgh', 1.5, 'low'), ('Nellis Suites', 'mid', 'TRUE', '4555 N Las Vegas Blvd\\nLas Vegas, NV 89115', 'paid', 'TRUE', 'Las Vegas', 1.5, 'low'), ('Travelodge Scottsdale AZ', 'mid', 'TRUE', '6935 E 5th Ave\\nScottsdale, AZ 85251', 'no', 'TRUE', 'Scottsdale', 1.5, 'low'), ('Camelback Sahara Hotel', 'mid', 'TRUE', '502 W Camelback Rd\\nPhoenix, AZ 85013', 'free', 'TRUE', 'Phoenix', 1.5, 'low'), ('Superstition Inn and Suites', 'hi', 'TRUE', '251 E 29th Ave\\nApache Junction, AZ 85219', 'free', 'TRUE', 'Apache Junction', 1.5, 'low'), ('Forever Resorts', None, 'TRUE', '7501 E McCormick Pkwy\\nSte 1\\nPhoenix, AZ 85072', 'no', 'TRUE', 'Phoenix', 1.5, 'low'), ('Days Inn', None, None, '502 W Camelback Rd\\nPhoenix, AZ 85013', 'no', 'FALSE', 'Phoenix', 1.5, 'low'), ('Econo Lodge', 'lo', 'TRUE', '4726 E. Washington Ave.\\nBluff Acres\\nMadison, WI 53704', 'free', 'TRUE', 'Madison', 2.0, 'low'), ('Super 8 Phoenix Downtown', 'lo', 'TRUE', '965 East Van Buren\\nPhoenix, AZ 85006', 'free', 'TRUE', 'Phoenix', 2.0, 'low'), ('Motel 6', 'lo', 'TRUE', '5315 E Van Buren St\\nPhoenix, AZ 85008', None, 'TRUE', 'Phoenix', 2.0, 'low'), ('Econo Lodge', 'lo', 'TRUE', '1150 Las Vegas Blvd S\\nDowntown\\nLas Vegas, NV 89104', 'no', 'TRUE', 'Las Vegas', 2.0, 'low'), ('Motel 6', 'lo', 'TRUE', '4130 N Black Canyon Hwy\\nPhoenix, AZ 85017', 'paid', 'TRUE', 'Phoenix', 2.0, 'low'), ('Homestead Studio Suites Hotel', 'lo', 'TRUE', '2102 W Dunlap Ave\\nPhoenix, AZ 85021', 'free', 'FALSE', 'Phoenix', 2.0, 'low'), ('Motel 6', 'lo', 'TRUE', '8152 N Black Canyon Hwy\\nPhoenix, AZ 85051', 'paid', 'TRUE', 'Phoenix', 2.0, 'low'), ('Motel 6', 'lo', 'TRUE', '1612 N Scottsdale Rd\\nTempe, AZ 85281', 'paid', 'TRUE', 'Tempe', 2.0, 'low'), ('Travelodge Suites Phoenix Mesa', 'lo', 'TRUE', '4244 E. Main St.\\nMesa, AZ 85205', 'free', 'TRUE', 'Mesa', 2.0, 'low'), ('Americas Best Value Inn', 'lo', 'TRUE', '167 E Tropicana Ave\\nSoutheast\\nLas Vegas, NV 89119', 'free', 'TRUE', 'Las Vegas', 2.0, 'low'), ('Extended Stay America - Las Vegas', 'lo', 'TRUE', '1550 E Flamingo Rd\\nEastside\\nLas Vegas, NV 89119', 'paid', 'TRUE', 'Las Vegas', 2.0, 'low'), ('Quality Suites near Old Town Scottsdale', 'lo', 'TRUE', '1635 N Scottsdale Rd.\\nTempe, AZ 85281', 'free', 'TRUE', 'Tempe', 2.0, 'low'), ('Super 8 Phoenix', 'lo', 'TRUE', '17211 N. Black Canyon Hwy\\nPhoenix, AZ 85023', 'free', 'TRUE', 'Phoenix', 2.0, 'low'), ('Motel 6', 'lo', 'TRUE', '2330 W Bell Rd\\nPhoenix, AZ 85023', 'paid', 'TRUE', 'Phoenix', 2.0, 'low'), ('Extended Stay America - Phoenix - Chandler', 'lo', 'TRUE', '5035 E. Chandler Blvd\\nPhoenix, AZ 85048', 'free', 'TRUE', 'Phoenix', 2.0, 'low'), ('Days Inn and Suites Tempe', 'lo', 'TRUE', '1660 W Elliot Rd\\nTempe, AZ 85283', 'free', 'TRUE', 'Tempe', 2.0, 'low'), ('Knights Inn Fairground-Phoenix', 'lo', 'TRUE', '1624 N. Black Canyon Freeway\\nPhoenix, AZ 85009', 'no', 'TRUE', 'Phoenix', 2.0, 'low'), ('Howard Johnson Tropicana', 'lo', 'TRUE', '165 E Tropicana Ave\\nSoutheast\\nLas Vegas, NV 89109', 'free', 'TRUE', 'Las Vegas', 2.0, 'low'), ('Best Western Plus East Towne Suites', 'mid', 'TRUE', '4801 Annamark Drive\\nMadison, WI 53704', 'free', 'TRUE', 'Madison', 2.0, 'low'), ('Motel 6', 'mid', 'TRUE', '1511 S Country Club Dr\\nMesa, AZ 85210', 'paid', 'TRUE', 'Mesa', 2.0, 'low'), ('Hawthorn Suites By Wyndham Chandler', 'mid', 'TRUE', '5858 W. Chandler\\nChandler, AZ 85226', 'free', 'TRUE', 'Chandler', 2.0, 'low'), ('Howard Johnson Las Vegas Strip', 'mid', 'TRUE', '1401 S. Las Vegas Blvd\\nDowntown\\nLas Vegas, NV 89104', 'free', 'TRUE', 'Las Vegas', 2.0, 'low'), ('Motel 6', 'mid', None, '1530 N 52nd Dr\\nPhoenix, AZ 85043', None, 'TRUE', 'Phoenix', 2.0, 'low'), ('Super 8 Motel - Phoenix West I-10', 'mid', 'TRUE', '1242 N. 53Rd Avenue\\nPhoenix, AZ 85043', 'free', 'TRUE', 'Phoenix', 2.0, 'low'), ('Premier Inns At Metro Center Mall', 'mid', 'TRUE', '10402 N Black Canyon Fwy\\nPhoenix, AZ 85051', 'paid', 'TRUE', 'Phoenix', 2.0, 'low'), ('Ramada Tempe', 'mid', 'TRUE', '1915 E Apache Blvd\\nTempe, AZ 85281', 'free', 'FALSE', 'Tempe', 2.0, 'low'), ('Inn Suites Hotels & Suites', 'mid', 'TRUE', '1651 W Baseline Rd\\nTempe, AZ 85283', 'paid', 'TRUE', 'Tempe', 2.0, 'low'), ('Best Western Main Street Inn', 'mid', 'TRUE', '1000 N Main St\\nLas Vegas, NV 89101', 'free', 'TRUE', 'Las Vegas', 2.0, 'low'), ('Thousand Trails Rv Resort', 'mid', 'TRUE', '4295 Boulder Hwy\\nLas Vegas, NV 89121', 'free', 'TRUE', 'Las Vegas', 2.0, 'low'), ('Homestead Studio Suites', 'mid', 'TRUE', '1920 W Isabella Ave\\nMesa, AZ 85202', 'free', 'FALSE', 'Mesa', 2.0, 'low'), ('Extended Stay America - Phoenix - Scottsdale - Old Town', 'mid', 'TRUE', '3560 North Marshall Way\\nScottsdale, AZ 85251', 'free', 'TRUE', 'Scottsdale', 2.0, 'low'), ('Ramada Glendale', 'mid', 'TRUE', '7885 West Arrowhead Town\\nGlendale, AZ 85308', 'free', 'TRUE', 'Glendale', 2.0, 'low'), ('Crestwood Suites Extended Stay Hotels', 'mid', 'TRUE', '2530 E Flamingo Rd\\nEastside\\nLas Vegas, NV 89121', 'free', 'TRUE', 'Las Vegas', 2.0, 'low'), ('Clarion Scottsdale', 'mid', 'TRUE', '5101 N Scottsdale Rd\\nScottsdale, AZ 85250', 'free', 'TRUE', 'Scottsdale', 2.0, 'low'), ('Extended Stay America - Phoenix - Biltmore', 'mid', 'TRUE', '5235 N 16th Street\\nPhoenix, AZ 85016', 'free', 'TRUE', 'Phoenix', 2.0, 'low'), ('Four Points by Sheraton Phoenix North', 'mid', 'TRUE', '10220 North Metro Parkway East\\nPhoenix, AZ 85051', 'free', 'FALSE', 'Phoenix', 2.0, 'low'), ('Jet Luxury Resorts', 'mid', 'TRUE', '6380 Valley View BLVD\\nSuite 114\\nLas Vegas, NV 89118', 'no', 'TRUE', 'Las Vegas', 2.0, 'low'), ('Travelsuites Inn', 'mid', 'TRUE', '2830 Las Vegas Blvd S\\nThe Strip\\nLas Vegas, NV 89109', 'no', 'FALSE', 'Las Vegas', 2.0, 'low'), ('Travelodge Phoenix', 'mid', 'TRUE', '1424 North 50th Ave\\nPhoenix, AZ 85043', 'free', 'TRUE', 'Phoenix', 2.0, 'low'), ('Travelodge Hotel', 'mid', 'TRUE', 'Edinburgh Central Rose Street\\n37-43 Rose Street\\nNew Town\\nEdinburgh EH2 2NH', 'paid', 'TRUE', 'Edinburgh', 2.0, 'low'), ('Howard Johnson Mesa Gilbert', 'mid', 'TRUE', '1625 E. Main St.\\nMesa, AZ 85203', 'free', 'TRUE', 'Mesa', 2.0, 'low'), ('Country Inn & Suites', 'mid', 'TRUE', '808 N Scottsdale Rd\\nTempe, AZ 85281', 'free', 'TRUE', 'Tempe', 2.0, 'low'), ('Stay Suites of America', 'mid', 'TRUE', '5201 Dean Martin Dr\\nLas Vegas, NV 89118', 'free', 'TRUE', 'Las Vegas', 2.0, 'low'), ('Days Inn Buckeye', 'hi', 'TRUE', '25205 W. Yuma Rd.\\nBuckeye, AZ 85326', 'free', 'TRUE', 'Buckeye', 2.0, 'low'), ('Twin Palms Hotel', 'hi', 'TRUE', '225 E Apache Blvd\\nTempe, AZ 85281', 'paid', 'TRUE', 'Tempe', 2.0, 'low'), ('Gold Castle Excalibur', 'hi', 'TRUE', '3850 Las Vegas Blvd S\\nThe Strip\\nLas Vegas, NV 89109', 'free', 'TRUE', 'Las Vegas', 2.0, 'low'), ('Budget Inn Phoenix', 'hi', 'TRUE', '5259 W McDowell Road\\nPhoenix, AZ 85035', 'free', 'TRUE', 'Phoenix', 2.0, 'low'), ('Motel 6', None, None, '5085 Dean Martin Dr\\nLas Vegas, NV 89118', None, 'TRUE', 'Las Vegas', 2.0, 'low'), ('Microtel Inn & Suites Madison', 'lo', 'TRUE', '2139 East Springs Drive\\nMadison, WI 53704', 'no', 'TRUE', 'Madison', 2.5, 'low'), ('Extended Stay America - Phoenix - Chandler', 'lo', 'TRUE', '14245 S. 50th St.\\nPhoenix, AZ 85044', 'free', 'TRUE', 'Phoenix', 2.5, 'low'), ('Red Roof Inn', 'lo', 'TRUE', '7400 W Boston St\\nChandler, AZ 85226', 'free', 'FALSE', 'Chandler', 2.5, 'low'), ('Blue Mist Motel', 'lo', 'TRUE', '40 S Pinal Pkwy\\nFlorence, AZ 85232', 'free', 'TRUE', 'Florence', 2.5, 'low'), ('Holiday House Holiday Motel', 'lo', 'TRUE', '2211 Las Vegas Blvd S\\nThe Strip\\nLas Vegas, NV 89104', 'no', 'TRUE', 'Las Vegas', 2.5, 'low'), ('Best Western Bell Hotel', 'lo', None, '17211 N Black Canyon Hwy\\nPhoenix, AZ 85023', None, 'TRUE', 'Phoenix', 2.5, 'low'), ('Crossland Economy Studios - Phoenix - West', 'lo', 'TRUE', '4861 W. McDowell Rd.\\nPhoenix, AZ 85035', 'free', 'TRUE', 'Phoenix', 2.5, 'low'), ('El Coronado Motel', 'lo', 'TRUE', '212 W Pima St\\nGila Bend, AZ 85337', None, 'TRUE', 'Gila Bend', 2.5, 'low'), ('Homestead Studio Suites Hotel', 'lo', 'TRUE', '3045 S Maryland Pkwy\\nEastside\\nLas Vegas, NV 89109', 'free', 'FALSE', 'Las Vegas', 2.5, 'low'), ('Mardi Gras Hotel & Casino', 'lo', 'TRUE', '3500 Paradise Road\\nEastside\\nLas Vegas, NV 89109', 'free', 'TRUE', 'Las Vegas', 2.5, 'low'), ('Super 8 Las Vegas/Nellis Afb', 'lo', 'TRUE', '4435 Las Vegas Blvd. N.\\nLas Vegas, NV 89115', 'free', 'TRUE', 'Las Vegas', 2.5, 'low'), ('Travelodge Hotels', 'lo', 'TRUE', '46 Dreghorn Link\\nEdinburgh EH13 9QR', 'no', 'TRUE', 'Edinburgh', 2.5, 'low'), ('Northumberland Hotel', 'lo', 'TRUE', '33-35 Craigmillar Park\\nEdinburgh EH16 5PE', 'paid', 'TRUE', 'Edinburgh', 2.5, 'low'), ('Howard Johnson Phoenix Airport/ Downtown Area', 'lo', 'TRUE', '4120 E. Van Buren\\nPhoenix, AZ 85008', 'free', 'TRUE', 'Phoenix', 2.5, 'low'), ('InnPlace Hotel', 'lo', 'TRUE', '10220 N Metro Pkwy E\\nPhoenix, AZ 85051', 'free', 'FALSE', 'Phoenix', 2.5, 'low'), ('Marriott-Madison West', 'mid', 'TRUE', '1313 John Q Hammons Dr\\nMiddleton, WI 53562', 'paid', 'TRUE', 'Middleton', 2.5, 'low'), ('Embassy Suites Hotel', 'mid', None, '1515 N 44th St\\nPhoenix, AZ 85008', None, 'FALSE', 'Phoenix', 2.5, 'low'), ('The Dobson Ranch Inn & Resort', 'mid', 'TRUE', '1666 S Dobson Rd\\nMesa, AZ 85202', 'free', 'TRUE', 'Mesa', 2.5, 'low'), ('La Quinta Inn & Suites Mesa Superstition Springs', 'mid', 'TRUE', '6530 East Superstition Springs Blvd\\nMesa, AZ 85206', 'free', 'TRUE', 'Mesa', 2.5, 'low'), ('Fairfield Inn by Marriott', 'mid', 'TRUE', '13440 N Scottsdale Rd\\nScottsdale, AZ 85254', 'free', 'TRUE', 'Scottsdale', 2.5, 'low'), ('Comfort Inn', 'mid', 'TRUE', '17105 E. Shea Blvd\\nFountain Hills, AZ 85268', 'free', 'TRUE', 'Fountain Hills', 2.5, 'low'), ('Cibola Vista Resort & Spa', 'mid', 'TRUE', '7700 W Arrowhead Towne Ctr\\nGlendale, AZ 85308', 'paid', 'TRUE', 'Glendale', 2.5, 'low'), ('La Quinta Inn & Suites Phoenix West Peoria', 'mid', 'TRUE', '16321 North 83rd Ave\\nPeoria, AZ 85382', 'free', 'TRUE', 'Peoria', 2.5, 'low'), ('Desert Star Motel', 'mid', 'TRUE', '1210 Las Vegas Blvd S\\nDowntown\\nLas Vegas, NV 89104', 'free', 'TRUE', 'Las Vegas', 2.5, 'low'), ('Extended Stay America - Madison', 'mid', 'TRUE', '55 Junction Court\\nJunction Ridge\\nMadison, WI 53717', 'paid', 'TRUE', 'Madison', 2.5, 'low'), ('La Quinta Inn Phoenix Thomas Road', 'mid', 'TRUE', '2725 North Black Canyon Hwy\\nPhoenix, AZ 85009', 'free', 'TRUE', 'Phoenix', 2.5, 'low'), ('Travelers Inn', 'mid', 'TRUE', '5102 W Latham Street\\nPhoenix, AZ 85043', 'free', 'TRUE', 'Phoenix', 2.5, 'low'), ('Days Inn Scottsdale Fashion Square', 'mid', 'TRUE', '4710 N Scottsdale Rd\\nScottsdale, AZ 85251', 'free', 'TRUE', 'Scottsdale', 2.5, 'low'), ('Courtyard Tempe Downtown', 'mid', 'TRUE', '601 South Ash Avenue\\nTempe, AZ 85281', 'free', 'TRUE', 'Tempe', 2.5, 'low'), ('Excalibur Hotel', 'mid', 'TRUE', 'Excalibur Hotel and Casino\\n3850 Las Vegas Blvd S\\nThe Strip\\nLas Vegas, NV 89109', 'no', 'TRUE', 'Las Vegas', 2.5, 'low'), ('Comfort Inn', 'mid', 'TRUE', '4350 Paradise Road\\nEastside\\nLas Vegas, NV 89169', 'free', 'TRUE', 'Las Vegas', 2.5, 'low'), ('Residence Inn', 'mid', 'TRUE', '2020 N Litchfield Road\\nGoodyear, AZ 85338', 'free', 'TRUE', 'Goodyear', 2.5, 'low'), ('Extended Stay America - Phoenix - Airport', 'mid', 'TRUE', '4357 East Oak St\\nPhoenix, AZ 85008', 'free', 'TRUE', 'Phoenix', 2.5, 'low'), ('Siena Suites', 'mid', 'TRUE', '6555 Boulder Hwy\\nSoutheast\\nLas Vegas, NV 89122', 'no', 'TRUE', 'Las Vegas', 2.5, 'low'), ('Crestwood Suites Las Vegas Blvd', 'mid', 'TRUE', '7260 S Las Vegas Blvd\\nSoutheast\\nLas Vegas, NV 89119', 'free', 'TRUE', 'Las Vegas', 2.5, 'low'), ('La Quinta Inn & Suites Las Vegas Airport N Conv.', 'mid', 'TRUE', '3970 Paradise Rd\\nEastside\\nLas Vegas, NV 89109', 'free', 'TRUE', 'Las Vegas', 2.5, 'low'), ('Radisson Hotel Phoenix City Center', 'mid', 'TRUE', '3600 No 2nd Ave\\nPhoenix, AZ 85013', 'free', 'TRUE', 'Phoenix', 2.5, 'low'), ('Emerald Suites', 'mid', 'TRUE', '9145 Las Vegas Blvd S\\nSoutheast\\nLas Vegas, NV 89123', 'free', 'TRUE', 'Las Vegas', 2.5, 'low'), ('Crowne Plaza Kitchener - Waterloo', 'mid', 'TRUE', '105 King Street E\\nKitchener, ON N2G 2K8', 'free', 'TRUE', 'Kitchener', 2.5, 'low'), ('Four Points by Sheraton Tempe', 'mid', 'TRUE', '1333 Rural Rd.\\nTempe, AZ 85281', 'free', 'TRUE', 'Tempe', 2.5, 'low'), ('Travelodge Ambassador Strip Inn', 'mid', 'TRUE', '5075 Koval Lane\\nSoutheast\\nLas Vegas, NV 89119', 'free', 'TRUE', 'Las Vegas', 2.5, 'low'), ('Royal British Hotel', 'mid', 'TRUE', '20 Princes Street\\nNew Town\\nEdinburgh EH2 2AS', 'free', 'TRUE', 'Edinburgh', 2.5, 'low'), ('Hilton Edinburgh Airport Hotel', 'mid', 'TRUE', 'Edinburgh International Airport\\nEdinburgh EH28 8LL', 'paid', 'TRUE', 'Edinburgh', 2.5, 'low'), ('Holiday Inn Phoenix Downtown-North', 'mid', 'TRUE', '212 W. Osborn Road\\nPhoenix, AZ 85013', 'free', 'TRUE', 'Phoenix', 2.5, 'low'), ('BEST WESTERN Phoenix I-17 Metrocenter Inn', 'mid', 'TRUE', '8101 N Black Canyon Hwy\\nPhoenix, AZ 85021', 'free', 'TRUE', 'Phoenix', 2.5, 'low'), ('Extended Stay America - Madison', 'mid', 'TRUE', '45 Junction Court\\nJunction Ridge\\nMadison, WI 53717', None, 'TRUE', 'Madison', 2.5, 'low'), ('The Olde Heidelberg Restaurant Tavern & Motel', 'mid', 'TRUE', '3006 Lobsinger Line\\nOn Regional Road 15\\nHeidelberg, ON N0B', 'no', 'TRUE', 'Heidelberg', 2.5, 'low'), ('Hotel Theodore', 'mid', 'TRUE', '7353 E Indian School Rd\\nScottsdale, AZ 85251', 'paid', 'FALSE', 'Scottsdale', 2.5, 'low'), ('Quality Inn & Suites', 'mid', 'TRUE', '1410 S. Country Club Drive\\nMesa, AZ 85210', 'free', 'TRUE', 'Mesa', 2.5, 'low'), ('Clarion Inn', 'mid', 'TRUE', '951 W. Main St.\\nMesa, AZ 85201', 'free', 'TRUE', 'Mesa', 2.5, 'low'), ('The Phoenix Place Hotel And Suites', 'mid', 'TRUE', '3600 N 2nd Ave\\nPhoenix, AZ 85013', 'free', 'FALSE', 'Phoenix', 2.5, 'low'), ('Comfort Inn West', 'mid', 'TRUE', '1344 N. 27th Ave.\\nPhoenix, AZ 85009', 'free', 'TRUE', 'Phoenix', 2.5, 'low'), (\"Harrah's Hotel\", 'mid', 'TRUE', 'Las Vegas Nv\\nThe Strip\\nLas Vegas, NV', 'no', 'TRUE', 'Las Vegas', 2.5, 'low'), ('Clarion Hotel Phoenix Tech Center', 'hi', 'TRUE', '5121 E. La Puente Ave.\\nI-10 & Elliot Rd.\\nPhoenix, AZ 85044', 'free', 'TRUE', 'Phoenix', 2.5, 'low'), ('Melville Castle Hotel', 'hi', 'TRUE', 'Melville Castle\\nLasswade EH18 1AP', 'no', 'TRUE', 'Lasswade', 2.5, 'low'), ('DoubleTree by Hilton Hotel Phoenix - Gilbert', 'hi', 'TRUE', '1800 S Santan Village Pkwy\\nGilbert, AZ 85295', 'free', 'TRUE', 'Gilbert', 2.5, 'low'), ('Delano Las Vegas', 'hi', 'TRUE', '3940 Las Vegas Blvd S\\nThe Strip\\nLas Vegas, NV 89119', 'free', 'TRUE', 'Las Vegas', 2.5, 'low'), ('Paradise Valley', None, None, '6401 E Lincoln Dr\\nParadise Valley, AZ 85253', None, 'TRUE', 'Paradise Valley', 2.5, 'low'), ('Diamond Inn Motel', None, None, '4605 Las Vegas Blvd S\\nThe Strip\\nLas Vegas, NV 89119', None, 'TRUE', 'Las Vegas', 2.5, 'low'), ('Malibu Bay Suites', None, None, '8440 Las Vegas Blvd S\\nSoutheast\\nLas Vegas, NV 89123', None, 'TRUE', 'Las Vegas', 2.5, 'low'), ('Best Western Central Phoenix Inn', 'lo', 'TRUE', '1100 N Central Ave\\nPhoenix, AZ 85004', 'free', 'TRUE', 'Phoenix', 3.0, 'mid'), ('Apache Junction Motel', 'lo', 'TRUE', '1680 W Apache Trl\\nApache Junction, AZ 85220', 'free', 'TRUE', 'Apache Junction', 3.0, 'mid'), ('Super 8 Motel - Chandler / Phoenix', 'lo', 'TRUE', '7171 W. Chandler Blvd.\\nChandler, AZ 85226', 'free', 'TRUE', 'Chandler', 3.0, 'mid'), ('Road Star Inn', 'lo', 'TRUE', '6900 Seybold Rd\\nMadison, WI 53719', 'free', 'TRUE', 'Madison', 3.0, 'mid'), ('Phoenix Metro North Super 8 Motel', 'lo', 'TRUE', '8130 N. Black Canyon Hwy\\nPhoenix, AZ 85051', 'free', 'TRUE', 'Phoenix', 3.0, 'mid'), ('Royal Resort', 'lo', 'TRUE', '99 Convention Ctr Dr\\nThe Strip\\nLas Vegas, NV 89109', 'paid', 'TRUE', 'Las Vegas', 3.0, 'mid'), ('Travelodge Las Vegas Center Strip', 'lo', 'TRUE', '3735 Las Vegas Boulevard South\\nThe Strip\\nLas Vegas, NV 89109', 'free', 'TRUE', 'Las Vegas', 3.0, 'mid'), ('Super 8 Las Vegas', 'lo', 'TRUE', '4250 S. Koval Lane\\nEastside\\nLas Vegas, NV 89109', 'free', 'TRUE', 'Las Vegas', 3.0, 'mid'), ('Motel 6', 'lo', 'TRUE', '195 E Tropicana Ave\\nSoutheast\\nLas Vegas, NV 89109', 'paid', 'TRUE', 'Las Vegas', 3.0, 'mid'), ('Econo Lodge Airport', 'lo', 'TRUE', '3037 E. Van Buren Street\\nPhoenix, AZ 85008', 'free', 'TRUE', 'Phoenix', 3.0, 'mid'), ('Red Roof Inn', 'lo', 'TRUE', '5215 W Willetta St\\nPhoenix, AZ 85043', 'free', 'TRUE', 'Phoenix', 3.0, 'mid'), ('Motel 6', 'lo', 'TRUE', '6848 E Camelback Rd\\nScottsdale, AZ 85251', 'paid', 'TRUE', 'Scottsdale', 3.0, 'mid'), ('Travelodge Hotels', 'lo', 'TRUE', '24 Eglinton Crescent\\nWest End\\nEdinburgh EH12 5BY', 'paid', 'TRUE', 'Edinburgh', 3.0, 'mid'), ('Extended Stay America - Phoenix - Metro', 'lo', 'TRUE', '11211 N. Black Canyon Hwy\\nPhoenix, AZ 85029', 'free', 'TRUE', 'Phoenix', 3.0, 'mid'), ('Days Inn Las Vegas at Wild Wild West Gambling Hall', 'lo', 'TRUE', '3330 W. Tropicana Ave.\\nLas Vegas, NV 89103', 'free', 'TRUE', 'Las Vegas', 3.0, 'mid'), ('Clarion Hotel and Casino Near Las Vegas Strip', 'lo', 'TRUE', '305 Convention Center Drive\\nEastside\\nLas Vegas, NV 89109', 'free', 'TRUE', 'Las Vegas', 3.0, 'mid'), ('Rodeway Inn Las Vegas Convention Center', 'lo', 'TRUE', '220 Convention Center Drive\\nThe Strip\\nLas Vegas, NV 89109', 'free', 'TRUE', 'Las Vegas', 3.0, 'mid'), ('Super 8 Las Vegas Blvd', 'lo', 'TRUE', '1213 Las Vegas Blvd. South\\nDowntown\\nLas Vegas, NV 89104', 'free', 'TRUE', 'Las Vegas', 3.0, 'mid'), ('Country Inn & Suites by Carlson-Madison', 'mid', 'TRUE', '400 River Pl\\nMonona, WI 53716', 'free', 'TRUE', 'Monona', 3.0, 'mid'), ('Hotel San Carlos', 'mid', 'TRUE', '202 N Central Ave\\nPhoenix, AZ 85004', 'free', 'TRUE', 'Phoenix', 3.0, 'mid'), ('Springhill Suites by Marriott', 'mid', 'TRUE', '802 E Van Buren Street\\nPhoenix, AZ 85006', 'free', 'TRUE', 'Phoenix', 3.0, 'mid'), ('Phoenix Airport Marriott', 'mid', 'TRUE', '1101 N 44th Street\\nPhoenix, AZ 85008', 'paid', 'TRUE', 'Phoenix', 3.0, 'mid'), ('Residence Inn Phoenix Airport', 'mid', 'TRUE', '801 N 44th St\\nPhoenix, AZ 85008', 'free', 'TRUE', 'Phoenix', 3.0, 'mid'), ('Hilton Garden Inn-Phoenix Midtown', 'mid', 'TRUE', '4000 N Central Ave\\nPhoenix, AZ 85012', 'free', 'TRUE', 'Phoenix', 3.0, 'mid'), ('Embassy Suites Phoenix - Biltmore', 'mid', 'TRUE', '2630 E Camelback Rd\\nPhoenix, AZ 85016', 'paid', 'TRUE', 'Phoenix', 3.0, 'mid'), ('Embassy Suites Hotel Phoenix-Airport At 24th Street', 'mid', 'TRUE', '2333 E Thomas Rd\\nPhoenix, AZ 85016', 'paid', 'TRUE', 'Phoenix', 3.0, 'mid'), ('Hilton Phoenix Airport', 'mid', 'TRUE', '2435 S 47th St\\nPhoenix, AZ 85034', 'paid', 'TRUE', 'Phoenix', 3.0, 'mid'), ('Hilton Garden Inn Phoenix Airport', 'mid', 'TRUE', '3422 E Elwood St\\nPhoenix, AZ 85040', 'free', 'TRUE', 'Phoenix', 3.0, 'mid'), ('Jaffotel Mesa Hotel', 'mid', 'TRUE', '1563 S Gilbert Rd\\nMesa, AZ 85204', 'free', 'TRUE', 'Mesa', 3.0, 'mid'), ('Courtyard Phoenix Mesa', 'mid', 'TRUE', '1221 South Westwood\\nMesa, AZ 85210', 'free', 'TRUE', 'Mesa', 3.0, 'mid'), ('Fairfield Inn by Marriott', 'mid', 'TRUE', '1405 S Westwood\\nMesa, AZ 85210', 'free', 'TRUE', 'Mesa', 3.0, 'mid'), ('Hilton P H X East-Mesa', 'mid', 'TRUE', '1011 W Holmes Ave\\nMesa, AZ 85210', 'free', 'TRUE', 'Mesa', 3.0, 'mid'), ('Comfort Inn', 'mid', 'TRUE', '2145 E. Florence Blvd.\\nCasa Grande, AZ 85122', 'free', 'TRUE', 'Casa Grande', 3.0, 'mid'), ('Quality Inn', 'mid', 'TRUE', '255 North Kyrene Rd.\\nChandler, AZ 85226', 'free', 'TRUE', 'Chandler', 3.0, 'mid'), ('Homewood Suites By Hilton', 'mid', 'TRUE', '9880 N Scottsdale Rd\\nScottsdale, AZ 85253', 'free', 'TRUE', 'Scottsdale', 3.0, 'mid'), ('Scottsdale Links Resort', 'mid', 'TRUE', '16858 N Perimeter Dr\\nScottsdale, AZ 85260', 'paid', 'TRUE', 'Scottsdale', 3.0, 'mid'), ('La Quinta Inn & Suites Phoenix Scottsdale', 'mid', 'TRUE', '8888 East Shea Blvd\\nScottsdale, AZ 85260', 'free', 'TRUE', 'Scottsdale', 3.0, 'mid'), ('Hawthorn Suites By Wyndham Tempe', 'mid', 'TRUE', '2301 E. Southern Ave.\\nTempe, AZ 85282', 'free', 'TRUE', 'Tempe', 3.0, 'mid'), ('Fiesta Resort Conference Center', 'mid', 'TRUE', '2100 S Priest Dr\\nTempe, AZ 85282', 'free', 'FALSE', 'Tempe', 3.0, 'mid'), ('BEST WESTERN PLUS Phoenix Goodyear Inn', 'mid', 'TRUE', '55 N Litchfield Rd\\nGoodyear, AZ 85338', 'free', 'TRUE', 'Goodyear', 3.0, 'mid'), ('Comfort Suites Peoria Sports Complex', 'mid', 'TRUE', '8473 West Paradise Ln.\\nPeoria, AZ 85382', 'free', 'TRUE', 'Peoria', 3.0, 'mid'), ('La Quinta Inn & Suites Las Vegas Summerlin Tech', 'mid', 'TRUE', '7101 Cascade Valley Ct\\nLas Vegas, NV 89128', 'free', 'TRUE', 'Las Vegas', 3.0, 'mid'), ('Quality Inn & Suites', 'mid', 'TRUE', '2969 Cahill Main\\nMadison, WI 53711', 'free', 'TRUE', 'Madison', 3.0, 'mid'), ('University Inn Madison', 'mid', 'TRUE', '441 N Frances St\\nCapitol\\nMadison, WI 53703', 'free', 'FALSE', 'Madison', 3.0, 'mid'), ('Holiday Inn Express', 'mid', 'TRUE', '722 John Nolen Dr\\nMadison, WI 53713', 'free', 'TRUE', 'Madison', 3.0, 'mid'), ('Baymont Inn And Suites Madison', 'mid', 'TRUE', '8102 Excelsior Drive\\nMadison, WI 53717', 'free', 'TRUE', 'Madison', 3.0, 'mid'), ('BEST WESTERN West Towne Suites', 'mid', 'TRUE', '650 Grand Canyon Dr\\nMadison, WI 53719', 'free', 'TRUE', 'Madison', 3.0, 'mid'), ('Quality Inn & Suites', 'mid', 'TRUE', '5050 N Black Canyon Hwy\\nPhoenix, AZ 85017', 'free', 'TRUE', 'Phoenix', 3.0, 'mid'), ('Comfort Suites at Metro Center', 'mid', 'TRUE', '10210 N. 26th Dr.\\nPhoenix, AZ 85021', 'free', 'TRUE', 'Phoenix', 3.0, 'mid'), ('Sheraton Crescent Hotel', 'mid', 'TRUE', '2620 West Dunlap Avenue\\nPhoenix, AZ 85021', 'paid', 'TRUE', 'Phoenix', 3.0, 'mid'), ('TownePlace Suites Phoenix North', 'mid', 'TRUE', '9425 N. Black Canyon Highway\\nPhoenix, AZ 85021', 'free', 'TRUE', 'Phoenix', 3.0, 'mid'), ('BEST WESTERN Mezona Inn', 'mid', 'TRUE', '250 W Main St\\nMesa, AZ 85201', 'free', 'TRUE', 'Mesa', 3.0, 'mid'), ('Scottsdale Villa Mirage', 'mid', 'TRUE', '7887 E Princess Blvd\\nScottsdale, AZ 85255', 'paid', 'TRUE', 'Scottsdale', 3.0, 'mid'), ('Hampton Inn & Suites', 'mid', 'TRUE', '1429 N Scottsdale Rd\\nTempe, AZ 85281', 'free', 'FALSE', 'Tempe', 3.0, 'mid'), ('Sheraton Phoenix Airport Hotel Tempe', 'mid', 'TRUE', '1600 South 52nd Street\\nTempe, AZ 85281', 'free', 'TRUE', 'Tempe', 3.0, 'mid'), ('Holiday Inn', 'mid', 'TRUE', '1031 Apache Blvd\\nTempe, AZ 85281', 'free', 'TRUE', 'Tempe', 3.0, 'mid'), ('BEST WESTERN Inn & Suites Of Sun City', 'mid', 'TRUE', '11201 Grand Ave\\nYoungtown, AZ 85363', 'free', 'TRUE', 'Youngtown', 3.0, 'mid'), ('Hawthorn Suites By Wyndham Henderson', 'mid', 'TRUE', '910 S. Boulder Hwy\\nHenderson, NV 89015', 'free', 'TRUE', 'Henderson', 3.0, 'mid'), ('Club De Soleil', 'mid', 'TRUE', '5625 W Tropicana Ave\\nLas Vegas, NV 89103', 'paid', 'TRUE', 'Las Vegas', 3.0, 'mid'), ('Blue Moon Resort', 'mid', 'TRUE', '2651 Westwood Dr\\nLas Vegas, NV 89109', 'free', 'TRUE', 'Las Vegas', 3.0, 'mid'), ('Fairfield Inn Marriott', 'mid', 'TRUE', '3850 Paradise Road\\nEastside\\nLas Vegas, NV 89169', 'free', 'TRUE', 'Las Vegas', 3.0, 'mid'), (\"Hitchin' Post Rv Park\", 'mid', 'TRUE', '3640 Las Vegas Boulevard N\\nLas Vegas, NV 89115', 'free', 'TRUE', 'Las Vegas', 3.0, 'mid'), ('Best Western McCarran Inn', 'mid', 'TRUE', '4970 Paradise Rd\\nSoutheast\\nLas Vegas, NV 89119', 'free', 'TRUE', 'Las Vegas', 3.0, 'mid'), ('Cancun Resort', 'mid', 'TRUE', '8335 Las Vegas Blvd S\\nSoutheast\\nLas Vegas, NV 89123', 'paid', 'TRUE', 'Las Vegas', 3.0, 'mid'), ('Best Western Plus Inn On The Park', 'mid', 'TRUE', '22 S Carroll Street\\nCapitol\\nMadison, WI 53703', 'free', 'TRUE', 'Madison', 3.0, 'mid'), ('Grace Inn', 'mid', 'TRUE', '10831 S 51st St\\nPhoenix, AZ 85044', 'paid', 'FALSE', 'Phoenix', 3.0, 'mid'), ('Crowne Plaza Phoenix Airport', 'mid', 'TRUE', '4300 East Washington Street\\nPhoenix, AZ 85034', 'free', 'TRUE', 'Phoenix', 3.0, 'mid'), ('La Quinta Inn Phoenix - Arcadia', 'mid', 'TRUE', '4727 East Thomas Rd\\nPhoenix, AZ 85018', 'free', 'TRUE', 'Phoenix', 3.0, 'mid'), ('InnSuites Hotel Tempe/Phoenix Airport', 'mid', 'TRUE', '1651 W Baseline Rd\\nTempe, AZ 85283', 'free', 'TRUE', 'Tempe', 3.0, 'mid'), ('Radisson Hotel Phoenix Airport', 'mid', 'TRUE', '427 N 44th St\\nPhoenix, AZ 85008', 'free', 'TRUE', 'Phoenix', 3.0, 'mid'), ('Residence Inn Phoenix', 'mid', 'TRUE', '8242 N Black Canyon Hwy\\nPhoenix, AZ 85051', 'free', 'TRUE', 'Phoenix', 3.0, 'mid'), ('Wingate By Wyndham', 'mid', 'TRUE', '14255 North 87th Street\\nScottsdale, AZ 85260', 'free', 'TRUE', 'Scottsdale', 3.0, 'mid'), ('Springhill Suites Chandler', 'mid', 'TRUE', '225 N Metro Boulevard\\nChandler, AZ 85226', 'free', 'TRUE', 'Chandler', 3.0, 'mid'), ('Millennium Resort and Villas Scottsdale', 'mid', 'TRUE', '7401 N Scottsdale Rd\\nScottsdale, AZ 85253', 'free', 'TRUE', 'Scottsdale', 3.0, 'mid'), ('Phoenix Marriott Mesa', 'mid', 'TRUE', '200 N Centennial Way\\nMesa, AZ 85201', 'free', 'TRUE', 'Mesa', 3.0, 'mid'), ('Aston MonteLago Village Resort', 'mid', 'TRUE', '30 Strada di Villaggio\\nHenderson, NV 89011', 'paid', 'TRUE', 'Henderson', 3.0, 'mid'), ('Emerald Suites', 'mid', 'TRUE', '4777 Cameron Street\\nLas Vegas, NV 89103', 'free', 'TRUE', 'Las Vegas', 3.0, 'mid'), ('Grandview Resorts at Las Vegas', 'mid', 'TRUE', '9940 Las Vegas Blvd S\\nSoutheast\\nLas Vegas, NV 89183', 'paid', 'TRUE', 'Las Vegas', 3.0, 'mid'), ('Waterloo Inn', 'mid', 'TRUE', '475 King St N\\nWaterloo, ON N2J 2Z5', 'free', 'TRUE', 'Waterloo', 3.0, 'mid'), ('Embassy Suites', 'mid', 'TRUE', '2577 W Greenway Rd\\nPhoenix, AZ 85023', 'free', 'TRUE', 'Phoenix', 3.0, 'mid'), ('Jurys Inn', 'mid', 'TRUE', '43 Jeffrey Street\\nOld Town\\nEdinburgh EH1 1DH', 'no', 'TRUE', 'Edinburgh', 3.0, 'mid'), ('Ibis', 'mid', 'TRUE', '6 Hunter Square\\nNewington\\nEdinburgh EH1 1QW', 'paid', 'TRUE', 'Edinburgh', 3.0, 'mid'), ('Apex City Hotel', 'mid', 'TRUE', '61 Grassmarket\\nGrassmarket\\nEdinburgh EH1 2JF', 'free', 'TRUE', 'Edinburgh', 3.0, 'mid'), ('Hilton Garden Inn Phoenix North Happy Valley', 'mid', 'TRUE', '1940 W Pinnacle Peak Rd\\nPhoenix, AZ 85027', 'free', 'TRUE', 'Phoenix', 3.0, 'mid'), ('Howard Johnson Madison', 'mid', 'TRUE', '3841 E.Washington Ave\\nMayfair Park\\nMadison, WI 53704', 'free', 'TRUE', 'Madison', 3.0, 'mid'), ('BEST WESTERN PLUS Sundial', 'mid', 'TRUE', '7320 E Camelback Rd\\nScottsdale, AZ 85251', 'free', 'TRUE', 'Scottsdale', 3.0, 'mid'), ('The Arizona Royal Villa', 'mid', 'TRUE', '4312 N 12th street\\nPhoenix, AZ 85014', 'free', 'TRUE', 'Phoenix', 3.0, 'mid'), ('Comfort Inn', 'mid', 'TRUE', '2641 W. Union Hills Drive\\nPhoenix, AZ 85027', 'free', 'TRUE', 'Phoenix', 3.0, 'mid'), ('BEST WESTERN Legacy Inn & Suites', 'mid', 'TRUE', '4470 S Power Rd\\nMesa, AZ 85212', 'free', 'TRUE', 'Mesa', 3.0, 'mid'), ('Comfort Inn & Suites', 'mid', 'TRUE', '13337 W. Grand Ave.\\nSurprise, AZ 85374', 'free', 'TRUE', 'Surprise', 3.0, 'mid'), ('Rumor Boutique Resort', 'mid', 'TRUE', '455 E Harmon Ave\\nEastside\\nLas Vegas, NV 89169', 'free', 'TRUE', 'Las Vegas', 3.0, 'mid'), ('Radisson Hotel', 'mid', 'TRUE', '7475 W Chandler Blvd\\nChandler, AZ 85226', 'free', 'TRUE', 'Chandler', 3.0, 'mid'), ('Comfort Suites Old Town', 'mid', 'TRUE', '3275 N. Drinkwater Blvd.\\nScottsdale, AZ 85251', 'free', 'TRUE', 'Scottsdale', 3.0, 'mid'), ('Ramada Las Vegas', 'mid', 'TRUE', '325 E Flamingo Rd\\nEastside\\nLas Vegas, NV 89169', 'free', 'TRUE', 'Las Vegas', 3.0, 'mid'), ('Extended Stay America - Las Vegas - Valley View', 'mid', 'TRUE', '4270 S. Valley View Blvd.\\nLas Vegas, NV 89103', 'paid', 'TRUE', 'Las Vegas', 3.0, 'mid'), ('Luxury Suites International', 'mid', 'TRUE', '145 E Harmon Ave\\nEastside\\nLas Vegas, NV 89109', 'free', 'TRUE', 'Las Vegas', 3.0, 'mid'), ('Westgate Flamingo Bay', 'mid', 'TRUE', '5625 W Flamingo Rd\\nLas Vegas, NV 89103', 'free', 'TRUE', 'Las Vegas', 3.0, 'mid'), ('Harrahs Phoenix Ak-Chin', 'mid', 'TRUE', '15406 Maricopa Rd\\nMaricopa, AZ 85139', 'free', 'TRUE', 'Maricopa', 3.0, 'mid'), ('Homewood Suites by Hilton Phoenix Metro Center', 'mid', 'TRUE', '2536 West Beryl Ave\\nPhoenix, AZ 85021', 'paid', 'TRUE', 'Phoenix', 3.0, 'mid'), ('Westgate Painted Mountain Golf', 'mid', 'TRUE', '6302 E McKellips Rd\\nMesa, AZ 85215', 'paid', 'TRUE', 'Mesa', 3.0, 'mid'), ('Holiday Inn Express & Suites', 'mid', 'TRUE', '240 W Hwy\\nSte 287\\nFlorence, AZ 85132', 'free', 'TRUE', 'Florence', 3.0, 'mid'), ('Baymont Inn And Suites Las Vegas', 'mid', 'TRUE', '55 E Robindale Rd\\nSoutheast\\nLas Vegas, NV 89123', 'free', 'TRUE', 'Las Vegas', 3.0, 'mid'), ('Hilton Lake Las Vegas Resort & Spa', 'mid', 'TRUE', '1610 Lake Las Vegas Pkwy\\nHenderson, NV 89011', 'free', 'TRUE', 'Henderson', 3.0, 'mid'), ('The Metro Plaza Hotel', 'mid', 'TRUE', '10220 N Metro Pkwy E\\nPhoenix, AZ 85051', 'free', 'TRUE', 'Phoenix', 3.0, 'mid'), ('Country Inn & Suites by Carlson-Mesa', 'hi', 'TRUE', '6650 E Superstition Springs\\nMesa, AZ 85206', 'free', 'TRUE', 'Mesa', 3.0, 'mid'), ('Scottsdale Hilton Resort & Villas', 'hi', 'TRUE', '6333 North Scottsdale Rd\\nScottsdale, AZ 85250', 'free', 'TRUE', 'Scottsdale', 3.0, 'mid'), ('La Quinta Inn', 'hi', 'TRUE', '4975 S Valley View Blvd\\nLas Vegas, NV 89118', 'no', 'FALSE', 'Las Vegas', 3.0, 'mid'), ('Scottsdale Camelback Resort', 'hi', 'TRUE', '6302 E Camelback Rd\\nScottsdale, AZ 85251', 'paid', 'TRUE', 'Scottsdale', 3.0, 'mid'), ('Scottsdale Resort Club', 'hi', 'TRUE', '8235 E Indian Bend Rd\\nScottsdale, AZ 85250', None, 'TRUE', 'Scottsdale', 3.0, 'mid'), ('Sleep Inn Airport', 'hi', 'TRUE', '2621 S. 47th Pl.\\nPhoenix, AZ 85034', 'free', 'TRUE', 'Phoenix', 3.0, 'mid'), ('Thistle Hotel Edinburgh', 'hi', 'TRUE', 'Leith Street\\nNew Town\\nEdinburgh EH1 3AT', 'free', 'TRUE', 'Edinburgh', 3.0, 'mid'), ('The Radisson Sas Hotel Edinburgh', 'hi', None, '80 High Street\\nNewington\\nEdinburgh EH1 1TH', None, 'TRUE', 'Edinburgh', 3.0, 'mid'), ('The Carlton Hotel', 'hi', 'TRUE', '19 N Bridge\\nOld Town\\nEdinburgh EH1 1SD', 'free', 'TRUE', 'Edinburgh', 3.0, 'mid'), ('Days Inn Madison', 'hi', 'TRUE', '4402 East Broadway Service Road\\nMadison, WI 53716', 'free', 'TRUE', 'Madison', 3.0, 'mid'), ('Best Western Plus Kitchener - Waterloo', 'hi', 'TRUE', '2899 King Street\\nKitchener, ON N2A 1A6', 'free', 'TRUE', 'Kitchener', 3.0, 'mid'), ('Holiday express leith', 'hi', None, 'Ocean Drive\\nLeith\\nEdinburgh EH6 6QQ', None, 'TRUE', 'Edinburgh', 3.0, 'mid'), ('Sahara Las Vegas Hotel And Casino', 'hi', 'TRUE', 'The Strip\\nLas Vegas, NV 89109', None, 'TRUE', 'Las Vegas', 3.0, 'mid'), ('Rio Poker Room', 'lux', 'TRUE', '3700 W Flamingo Rd\\nLas Vegas, NV 89103', 'paid', 'TRUE', 'Las Vegas', 3.0, 'mid'), ('DC Ranch', None, None, '20715 Market St\\nScottsdale, AZ 85255', None, 'FALSE', 'Scottsdale', 3.0, 'mid'), ('Super 8 Goodyear/Phoenix', None, None, '840 N. Dysart Road\\nGoodyear, AZ 85338', None, 'TRUE', 'Goodyear', 3.0, 'mid'), ('Wyndham Phoenix', None, None, '50 E Adams St\\nPhoenix, AZ 85004', None, 'FALSE', 'Phoenix', 3.0, 'mid'), ('BEST WESTERN Superstition Springs Inn', 'lo', 'TRUE', '1342 S Power Rd\\nMesa, AZ 85206', 'no', 'TRUE', 'Mesa', 3.5, 'mid'), ('Quality Inn & Suites of the Sun Cities', 'lo', 'TRUE', '16741 N. Greasewood Street\\nSurprise, AZ 85374', 'free', 'TRUE', 'Surprise', 3.5, 'mid'), ('Budget Loge Downtown', 'lo', 'TRUE', '402 W Van Buren St\\nPhoenix, AZ 85003', 'free', 'TRUE', 'Phoenix', 3.5, 'mid'), ('SpringHill Suites Phoenix North', 'lo', 'TRUE', '9425 N. Black Canyon Highway\\nPhoenix, AZ 85021', 'free', 'TRUE', 'Phoenix', 3.5, 'mid'), ('BEST WESTERN PLUS Casino Royale', 'lo', 'TRUE', '3411 Las Vegas Blvd S\\nThe Strip\\nLas Vegas, NV 89109', 'free', 'TRUE', 'Las Vegas', 3.5, 'mid'), ('La Quinta Inn Las Vegas Nellis', 'lo', 'TRUE', '4288 North Nellis Blvd\\nLas Vegas, NV 89115', 'free', 'TRUE', 'Las Vegas', 3.5, 'mid'), ('Happi Inn', 'lo', None, '3939 Las Vegas Blvd S\\nThe Strip\\nLas Vegas, NV 89119', None, 'TRUE', 'Las Vegas', 3.5, 'mid'), ('Highland Inn', 'lo', 'TRUE', '8025 Dean Martin Drive\\nSouthwest\\nLas Vegas, NV 89139', 'free', 'TRUE', 'Las Vegas', 3.5, 'mid'), ('Tahiti', 'lo', 'TRUE', '5101 W Tropicana Ave\\nLas Vegas, NV 89103', 'paid', 'TRUE', 'Las Vegas', 3.5, 'mid'), ('Hampton Inn & Suites by Hilton', 'lo', 'TRUE', '4355 King St E\\nKitchener, ON N2P 2E9', 'free', 'TRUE', 'Kitchener', 3.5, 'mid'), ('Premier Inn', 'lo', 'TRUE', '8399 W Lynwood St\\nTolleson, AZ 85353', 'paid', 'TRUE', 'Tolleson', 3.5, 'mid'), ('Premier Inn Edinburgh Central', 'lo', 'TRUE', '82 Lauriston Place\\nOld Town\\nEdinburgh EH3 9DG', 'free', 'TRUE', 'Edinburgh', 3.5, 'mid'), ('American Executive Inn', 'lo', 'TRUE', '1554 W Main St\\nMesa, AZ 85201', 'free', 'TRUE', 'Mesa', 3.5, 'mid'), ('Fairfield Inn & Suites Madison West', 'mid', 'TRUE', '8212 Greenway Blvd\\nMiddleton, WI 53562', 'free', 'TRUE', 'Middleton', 3.5, 'mid'), ('Comfort Inn & Suites Airport', 'mid', 'TRUE', '4822 E. Washington Ave.\\nBluff Acres\\nMadison, WI 53704', 'free', 'TRUE', 'Madison', 3.5, 'mid'), ('Hampton Inn Madison East Towne Mall Area', 'mid', 'TRUE', '4820 Hayes Rd\\nBluff Acres\\nMadison, WI 53704', 'free', 'TRUE', 'Madison', 3.5, 'mid'), ('Best Western Inntowner And The Highland Club', 'mid', 'TRUE', '2424 University Ave\\nRegent\\nMadison, WI 53726', 'free', 'TRUE', 'Madison', 3.5, 'mid'), ('DoubleTree Suites by Hilton - Phoenix', 'mid', 'TRUE', '320 North 44th Street\\nPhoenix, AZ 85008', 'paid', 'TRUE', 'Phoenix', 3.5, 'mid'), ('Hampton Inn Airport N', 'mid', 'TRUE', '601 N 44th St\\nPhoenix, AZ 85008', 'free', 'TRUE', 'Phoenix', 3.5, 'mid'), ('Homewood Suites', 'mid', 'TRUE', '2001 E Highland Avenue\\nPhoenix, AZ 85016', 'free', 'TRUE', 'Phoenix', 3.5, 'mid'), ('BEST WESTERN Innsuites Phoenix Hotel & Suites', 'mid', 'TRUE', '1615 E Northern Ave\\nPhoenix, AZ 85020', 'free', 'TRUE', 'Phoenix', 3.5, 'mid'), ('Courtyard Phoenix Airport', 'mid', 'TRUE', '2621 South 47th Street\\nPhoenix, AZ 85034', 'free', 'TRUE', 'Phoenix', 3.5, 'mid'), ('BEST WESTERN Airport Inn', 'mid', 'TRUE', '2425 S 24th St\\nPhoenix, AZ 85034', 'free', 'TRUE', 'Phoenix', 3.5, 'mid'), ('La Quinta Inn & Suites Phoenix Chandler', 'mid', 'TRUE', '15241 South 50th St\\nPhoenix, AZ 85044', 'free', 'TRUE', 'Phoenix', 3.5, 'mid'), ('Super 8 Mesa / Gilbert', 'mid', 'TRUE', '1550 S. Gilbert Rd.\\nMesa, AZ 85204', 'free', 'TRUE', 'Mesa', 3.5, 'mid'), ('Sleep Inn Mesa', 'mid', 'TRUE', '6347 E Southern Avenue\\nMesa, AZ 85206', 'free', 'TRUE', 'Mesa', 3.5, 'mid'), ('Hilton Hotel', 'mid', 'TRUE', '1011 W Holmes Ave\\nMesa, AZ 85210', 'paid', 'TRUE', 'Mesa', 3.5, 'mid'), ('La Quinta Inn & Suites Phoenix Mesa West', 'mid', 'TRUE', '902 West Grove Ave\\nMesa, AZ 85210', 'free', 'TRUE', 'Mesa', 3.5, 'mid'), ('BEST WESTERN PLUS Casa Grande', 'mid', 'TRUE', '665 N Via Del Cielo Rd\\nCasa Grande, AZ 85122', 'free', 'TRUE', 'Casa Grande', 3.5, 'mid'), ('Homewood Suites by Hilton-Chandler', 'mid', 'TRUE', '7373 W Detroit St\\nChandler, AZ 85226', 'free', 'TRUE', 'Chandler', 3.5, 'mid'), ('Courtyard Phoenix Chandler', 'mid', 'TRUE', '920 N 54th Street\\nChandler, AZ 85226', 'free', 'TRUE', 'Chandler', 3.5, 'mid'), ('Fairfield Inn by Marriott', 'mid', 'TRUE', '7425 W Chandler Blvd\\nChandler, AZ 85226', 'free', 'TRUE', 'Chandler', 3.5, 'mid'), ('Doubletree Scottsdale-Paradise Valley Resort', 'mid', 'TRUE', '5401 N Scottsdale Rd\\nScottsdale, AZ 85250', 'free', 'TRUE', 'Scottsdale', 3.5, 'mid'), ('Scottsdale Marriott at McDowell Mountains', 'mid', 'TRUE', '16770 North Perimeter Drive\\nScottsdale, AZ 85260', 'paid', 'TRUE', 'Scottsdale', 3.5, 'mid'), ('Residence Inn', 'mid', 'TRUE', '5075 S Priest Dr\\nTempe, AZ 85282', 'free', 'TRUE', 'Tempe', 3.5, 'mid'), ('Super 8 Wickenburg', 'mid', 'TRUE', '1021 North Tegner\\nWickenburg, AZ 85358', 'free', 'TRUE', 'Wickenburg', 3.5, 'mid'), ('Courtyard Las Vegas Henderson/Green Valley', 'mid', 'TRUE', '2800 N Green Valley Pkwy\\nHenderson, NV 89014', 'free', 'TRUE', 'Henderson', 3.5, 'mid'), ('Hampton Inn and Suites', 'mid', 'TRUE', '421 Astaire Drive\\nHenderson, NV 89014', 'free', 'TRUE', 'Henderson', 3.5, 'mid'), ('Hampton Inn Tropicana', 'mid', 'TRUE', '4975 S Dean Martin Dr\\nLas Vegas, NV 89118', 'free', 'TRUE', 'Las Vegas', 3.5, 'mid'), ('Sheraton Madison Hotel', 'mid', 'TRUE', '706 John Nolen Dr\\nMadison, WI 53713', 'free', 'TRUE', 'Madison', 3.5, 'mid'), ('Clarion Suites at the Alliant Energy Center', 'mid', 'TRUE', '2110 Rimrock Road\\nMadison, WI 53713', 'free', 'TRUE', 'Madison', 3.5, 'mid'), ('Comfort Suites', 'mid', 'TRUE', '1253 John Q. Hammons Dr.\\nMadison, WI 53717', 'free', 'TRUE', 'Madison', 3.5, 'mid'), ('Radisson Inn', 'mid', 'TRUE', '517 Grand Canyon Dr\\nMadison, WI 53719', 'free', 'TRUE', 'Madison', 3.5, 'mid'), ('Courtyard Phoenix North', 'mid', 'TRUE', '9631 N Black Canyon Hwy\\nPhoenix, AZ 85021', 'free', 'TRUE', 'Phoenix', 3.5, 'mid'), ('Ramada Inn Phoenix North', 'mid', 'TRUE', '12027 N 28th Dr\\nPhoenix, AZ 85029', 'free', 'FALSE', 'Phoenix', 3.5, 'mid'), ('BEST WESTERN Inn Of Chandler', 'mid', 'TRUE', '950 N Arizona Ave\\nChandler, AZ 85225', 'free', 'TRUE', 'Chandler', 3.5, 'mid'), ('Courtyard Scottsdale Old Town', 'mid', 'TRUE', '3311 North Scottsdale Road\\nScottsdale, AZ 85251', 'free', 'TRUE', 'Scottsdale', 3.5, 'mid'), ('Hilton Garden Inn Scottsdale', 'mid', 'TRUE', '7324 E Indian School Rd\\nScottsdale, AZ 85251', 'free', 'TRUE', 'Scottsdale', 3.5, 'mid'), ('El Dorado', 'mid', 'TRUE', '6825 E 4th St\\nScottsdale, AZ 85251', 'free', 'TRUE', 'Scottsdale', 3.5, 'mid'), ('Courtyard Scottsdale at Mayo Clinic', 'mid', 'TRUE', '13444 E Shea Blvd\\nScottsdale, AZ 85259', 'free', 'TRUE', 'Scottsdale', 3.5, 'mid'), ('Red Roof Inns', 'mid', 'TRUE', '2135 W 15th Street\\nTempe, AZ 85281', 'free', 'TRUE', 'Tempe', 3.5, 'mid'), ('Homestead Studio Suites Hotel', 'mid', 'TRUE', '2165 W 15th St\\nTempe, AZ 85281', 'paid', 'TRUE', 'Tempe', 3.5, 'mid'), ('Quality Inn At ASU', 'mid', 'TRUE', '1375 E. University Dr.\\nTempe, AZ 85281', None, 'TRUE', 'Tempe', 3.5, 'mid'), ('BEST WESTERN Inn Of Tempe', 'mid', 'TRUE', '670 N Scottsdale Rd\\nTempe, AZ 85281', 'free', 'TRUE', 'Tempe', 3.5, 'mid'), ('Tempe Mission Palms Hotel', 'mid', 'TRUE', '60 E 5th St\\nSte 101\\nTempe, AZ 85281', 'free', 'TRUE', 'Tempe', 3.5, 'mid'), ('La Quinta Inn Phoenix Sky Harbor Airport', 'mid', 'TRUE', '911 South 48th St\\nTempe, AZ 85281', 'free', 'TRUE', 'Tempe', 3.5, 'mid'), ('Springhill Suites by Marriott', 'mid', 'TRUE', '1601 W Rio Salado Parkway\\nTempe, AZ 85281', 'free', 'TRUE', 'Tempe', 3.5, 'mid'), ('Ramada Tempe, Az', 'mid', 'TRUE', '1701 West Baseline Road\\nTempe, AZ 85283', 'free', 'TRUE', 'Tempe', 3.5, 'mid'), ('BEST WESTERN Space Age Lodge', 'mid', 'TRUE', '401 E Pima\\nGila Bend, AZ 85337', 'free', 'TRUE', 'Gila Bend', 3.5, 'mid'), ('Holiday Inn Express', 'mid', None, '4540 Donovan Way\\nNorth Las Vegas, NV 89081', None, 'FALSE', 'North Las Vegas', 3.5, 'mid'), ('Polo Towers', 'mid', 'TRUE', '3745 Las Vegas Blvd S\\nThe Strip\\nLas Vegas, NV 89109', 'paid', 'TRUE', 'Las Vegas', 3.5, 'mid'), ('Residence Inn Las Vegas - Hughes Center', 'mid', 'TRUE', '370 Hughes Center Dr\\nEastside\\nLas Vegas, NV 89169', 'free', 'TRUE', 'Las Vegas', 3.5, 'mid'), ('Las Vegas Marriott', 'mid', 'TRUE', '325 Convention Center Drive\\nEastside\\nLas Vegas, NV 89109', 'paid', 'TRUE', 'Las Vegas', 3.5, 'mid'), ('Somerset House Motel', 'mid', None, '294 Convention Center Dr\\nEastside\\nLas Vegas, NV 89109', None, 'TRUE', 'Las Vegas', 3.5, 'mid'), ('Embassy Suites Convention Center Las Vegas', 'mid', 'TRUE', '3600 Paradise Rd\\nEastside\\nLas Vegas, NV 89169', 'free', 'TRUE', 'Las Vegas', 3.5, 'mid'), ('Hampton Inn', 'mid', 'TRUE', '7100 Cascade Valley Ct\\nLas Vegas, NV 89128', 'free', 'TRUE', 'Las Vegas', 3.5, 'mid'), ('Motel 6', 'mid', 'TRUE', '4125 Boulder Hwy\\nLas Vegas, NV 89121', 'paid', 'TRUE', 'Las Vegas', 3.5, 'mid'), ('Cliffs At Peace Canyon', 'mid', 'TRUE', '4550 S Grand Canyon Dr\\nSpring Valley\\nLas Vegas, NV 89147', 'paid', 'TRUE', 'Las Vegas', 3.5, 'mid'), ('The Jockey Club', 'mid', 'TRUE', '3700 Las Vegas Blvd S\\nThe Strip\\nLas Vegas, NV 89109', 'free', 'TRUE', 'Las Vegas', 3.5, 'mid'), ('Hilton Grand Vacations Suites', 'mid', 'TRUE', '2650 Las Vegas Blvd S\\nThe Strip\\nLas Vegas, NV 89109', 'free', 'TRUE', 'Las Vegas', 3.5, 'mid'), ('Residence Inn Las Vegas - Convention Center', 'mid', 'TRUE', '3225 Paradise Road\\nEastside\\nLas Vegas, NV 89109', 'free', 'TRUE', 'Las Vegas', 3.5, 'mid'), ('Renaissance Phoenix Downtown Hotel', 'mid', 'TRUE', '50 East Adams Street\\nPhoenix, AZ 85004', 'paid', 'TRUE', 'Phoenix', 3.5, 'mid'), ('Pointe Hilton Squaw Peak Resort', 'mid', 'TRUE', '7677 N 16th St\\nPhoenix, AZ 85020', 'paid', 'TRUE', 'Phoenix', 3.5, 'mid'), ('La Quinta Inn Phoenix North', 'mid', 'TRUE', '2510 W Greenway Rd\\nPhoenix, AZ 85023', 'free', 'TRUE', 'Phoenix', 3.5, 'mid'), ('Courtyard Phoenix Camelback', 'mid', 'TRUE', '2101 East Camelback Road\\nPhoenix, AZ 85016', 'free', 'TRUE', 'Phoenix', 3.5, 'mid'), ('Comfort Inn I-10 West at 51st Ave', 'mid', 'TRUE', '5152 Latham Street\\nI-10 at 51st avenue\\nPhoenix, AZ 85043', 'free', 'TRUE', 'Phoenix', 3.5, 'mid'), ('Courtyard Las Vegas - Summerlin', 'mid', 'TRUE', '1901 North Rainbow Blvd\\nLas Vegas, NV 89108', 'free', 'TRUE', 'Las Vegas', 3.5, 'mid'), ('The Meridian', 'mid', 'TRUE', '230 E Flamingo Rd\\nEastside\\nLas Vegas, NV 89169', None, 'FALSE', 'Las Vegas', 3.5, 'mid'), ('Hilton Garden Inn Las Vegas Strip South', 'mid', 'TRUE', '7830 S Las Vegas Blvd\\nSoutheast\\nLas Vegas, NV 89123', 'free', 'TRUE', 'Las Vegas', 3.5, 'mid'), ('Residence Inn Las Vegas South', 'mid', 'TRUE', '5875 Dean Martin Dr\\nLas Vegas, NV 89118', 'free', 'TRUE', 'Las Vegas', 3.5, 'mid'), ('Atrium Suites Hotel', 'mid', None, '4255 Paradise Rd\\nEastside\\nLas Vegas, NV 89169', None, 'FALSE', 'Las Vegas', 3.5, 'mid'), ('Fairfield Inn & Suites', 'mid', 'TRUE', '5775 Dean Martin Dr\\nLas Vegas, NV 89118', 'free', 'TRUE', 'Las Vegas', 3.5, 'mid'), ('Double Tree Club Las Vegas Airport', 'mid', 'TRUE', '7250 Pollock Dr\\nSoutheast\\nLas Vegas, NV 89119', 'paid', 'TRUE', 'Las Vegas', 3.5, 'mid'), ('BEST WESTERN PLUS Scottsdale Thunderbird Suites', 'mid', 'TRUE', '7515 E Butherus Dr\\nScottsdale, AZ 85260', 'free', 'TRUE', 'Scottsdale', 3.5, 'mid'), ('Hyatt Place Tempe/Phoenix Airport', 'mid', 'TRUE', '1413 W Rio Salado Pkwy\\nTempe, AZ 85281', 'free', 'TRUE', 'Tempe', 3.5, 'mid'), ('Residence Inn Las Vegas Henderson/Green Valley', 'mid', 'TRUE', '2190 Olympic Ave\\nHenderson, NV 89014', 'free', 'TRUE', 'Henderson', 3.5, 'mid'), ('Homewood Suites by Hilton', 'mid', 'TRUE', '230 Hidden Well Rd\\nSoutheast\\nLas Vegas, NV 89119', 'free', 'TRUE', 'Las Vegas', 3.5, 'mid'), ('Frederick House Hotel', 'mid', 'TRUE', '42 Frederick Street\\nNew Town\\nNew Town\\nEdinburgh EH2 1EX', 'free', 'TRUE', 'Edinburgh', 3.5, 'mid'), ('Hilton Edinburgh Grosvenor', 'mid', 'TRUE', 'Grosvenor Street\\nHaymarket\\nWest End\\nEdinburgh EH12 5EF', 'paid', 'TRUE', 'Edinburgh', 3.5, 'mid'), ('Murrayfield Hotel', 'mid', 'TRUE', '18 Corstorphine Rd\\nEdinburgh EH12 6HN', 'no', 'TRUE', 'Edinburgh', 3.5, 'mid'), ('Malmaison', 'mid', 'TRUE', '1Tower Place\\nLeith\\nEdinburgh EH6 7BZ', 'free', 'TRUE', 'Edinburgh', 3.5, 'mid'), ('The George Hotel', 'mid', 'TRUE', '19-21 George St\\nNew Town\\nEdinburgh EH2 2PB', 'no', 'TRUE', 'Edinburgh', 3.5, 'mid'), ('Apex International Hotel', 'mid', 'TRUE', '31-35 Grassmarket\\nGrassmarket\\nEdinburgh EH1 2HS', 'free', 'TRUE', 'Edinburgh', 3.5, 'mid'), ('Hampton Hotel', 'mid', 'TRUE', '14 Corstorphine Road\\nEdinburgh EH12 6HN', 'free', 'TRUE', 'Edinburgh', 3.5, 'mid'), ('The Hudson Hotel', 'mid', 'TRUE', '7 Hope Street\\nNew Town\\nEdinburgh EH2 4EL', 'free', 'TRUE', 'Edinburgh', 3.5, 'mid'), ('Old Waverley Hotel', 'mid', 'TRUE', '43 Princes Street\\nNew Town\\nEdinburgh EH2 2BY', 'paid', 'TRUE', 'Edinburgh', 3.5, 'mid'), ('Links Hotel & Bar', 'mid', None, '4 Alvanley Terrace\\nThe Meadows\\nEdinburgh EH9 1DU', 'free', 'TRUE', 'Edinburgh', 3.5, 'mid'), ('Travelodge Hotels', 'mid', 'TRUE', '33 St Marys St\\nNewington\\nEdinburgh EH1 1TA', 'no', 'TRUE', 'Edinburgh', 3.5, 'mid'), ('Dunstane House Hotel', 'mid', 'TRUE', '4 W Coates\\nHaymarket\\nEdinburgh EH12 5JQ', 'free', 'TRUE', 'Edinburgh', 3.5, 'mid'), ('Kings Manor Hotel', 'mid', 'TRUE', '100 Milton Road East\\nEdinburgh EH15 2NP', 'free', 'TRUE', 'Edinburgh', 3.5, 'mid'), ('TownPlace Suites by Marriott', 'mid', 'TRUE', '10740 N 90th St\\nScottsdale, AZ 85260', 'free', 'TRUE', 'Scottsdale', 3.5, 'mid'), ('Aloft Tempe', 'mid', 'TRUE', '951 East Playa Del Norte Drive\\nTempe, AZ 85281', 'free', 'TRUE', 'Tempe', 3.5, 'mid'), ('Hilton Grand Vacations Suites at the Flamingo', 'mid', 'TRUE', '3575 Las Vegas Blvd S\\nThe Strip\\nLas Vegas, NV 89109', 'free', 'TRUE', 'Las Vegas', 3.5, 'mid'), ('Fairfield Inn & Suites Phoenix Midtown', 'mid', 'TRUE', '2520 N Central Ave\\nPhoenix, AZ 85004', 'free', 'TRUE', 'Phoenix', 3.5, 'mid'), ('Hilton Garden Inn Phoenix Airport North', 'mid', 'TRUE', '3838 E. Van Buren\\nPhoenix, AZ 85008', 'free', 'TRUE', 'Phoenix', 3.5, 'mid'), ('La Quinta Inn & Suites Phoenix I-10 West', 'mid', 'TRUE', '4929 West McDowell Rd\\nPhoenix, AZ 85035', 'free', 'TRUE', 'Phoenix', 3.5, 'mid'), ('Aloft Phoenix-Airport', 'mid', 'TRUE', '4450 E Washington\\nPhoenix, AZ 85034', 'free', 'TRUE', 'Phoenix', 3.5, 'mid'), ('Comfort Inn & Suites', 'mid', 'TRUE', '5025 County Hwy. V\\nDeForest, WI 53532', 'free', 'TRUE', 'DeForest', 3.5, 'mid'), ('Country Inn & Suites - Madison West', 'mid', 'TRUE', '2212 Deming Way\\nMiddleton, WI 53562', 'free', 'TRUE', 'Middleton', 3.5, 'mid'), ('Planet Hollywood Towers', 'mid', 'TRUE', 'Westgate Resorts\\n80 E Harmon Ave\\nEastside\\nLas Vegas, NV 89109', 'paid', 'FALSE', 'Las Vegas', 3.5, 'mid'), ('Hilton Garden Inn Las Vegas/Henderson', 'mid', 'TRUE', '1340 W Warm Springs Rd\\nHenderson, NV 89014', 'free', 'TRUE', 'Henderson', 3.5, 'mid'), ('Wingate By Wyndham', 'mid', 'TRUE', '3041 St. Rose Parkway\\nSoutheast\\nHenderson, NV 89052', 'free', 'TRUE', 'Henderson', 3.5, 'mid'), ('Kenneth Mackenzie Suite', 'mid', None, '7 Richmond Place\\nNewington\\nEdinburgh EH8 9', None, 'TRUE', 'Edinburgh', 3.5, 'mid'), ('Sleep Inn & Suites', 'mid', 'TRUE', '4802 Tradewinds Parkway\\nMadison, WI 53718', 'free', 'TRUE', 'Madison', 3.5, 'mid'), ('Residence Inn Madison East', 'mid', 'TRUE', '4862 Hayes Rd\\nBluff Acres\\nMadison, WI 53704', 'free', 'TRUE', 'Madison', 3.5, 'mid'), ('Best Western Plus', 'mid', 'TRUE', '8669 W Sahara Ave\\nThe Lakes\\nLas Vegas, NV 89117', 'free', 'TRUE', 'Las Vegas', 3.5, 'mid'), ('BEST WESTERN PLUS Tempe By The Mall', 'mid', 'TRUE', '5300 S Priest Dr\\nTempe, AZ 85283', 'free', 'TRUE', 'Tempe', 3.5, 'mid'), ('Holiday Inn', 'mid', None, '132 Corstorphine Road\\nEdinburgh EH12 7', None, 'TRUE', 'Edinburgh', 3.5, 'mid'), ('Elara a Hilton Grand Vacations Club', 'mid', 'TRUE', '80 E Harmon Ave\\nEastside\\nLas Vegas, NV 89109', 'paid', 'TRUE', 'Las Vegas', 3.5, 'mid'), ('Baymont Inn And Suites Las Vegas', 'mid', 'TRUE', '4055 Palos Verdes St.\\nEastside\\nLas Vegas, NV 89119', 'free', 'TRUE', 'Las Vegas', 3.5, 'mid'), ('Edinburgh Park -The Gyle', 'mid', 'TRUE', '1 Lochside Court\\nEdinburgh Park\\nEdinburgh EH12 9FX', 'free', 'TRUE', 'Edinburgh', 3.5, 'mid'), ('Comfort Inn', 'mid', 'TRUE', '7400 W. Boston St\\nChandler, AZ 85226', 'free', 'TRUE', 'Chandler', 3.5, 'mid'), ('Days Hotel - Scottsdale', 'mid', 'TRUE', '5101 N Scottsdale Rd.\\nScottsdale, AZ 85250', 'free', 'TRUE', 'Scottsdale', 3.5, 'mid'), ('Doubletree By Hilton', 'mid', 'TRUE', '2100 S Priest Dr\\nTempe, AZ 85282', 'free', 'TRUE', 'Tempe', 3.5, 'mid'), ('Crossland Economy Studios - Las Vegas', 'mid', 'TRUE', '4240 Boulder Highway\\nLas Vegas, NV 89121', 'free', 'TRUE', 'Las Vegas', 3.5, 'mid'), ('Red Roof Inn', 'mid', 'TRUE', '4350 Paradise Rd\\nEastside\\nLas Vegas, NV 89169', 'free', 'TRUE', 'Las Vegas', 3.5, 'mid'), ('The Hotel at Mandalay Bay', 'mid', 'TRUE', '3950 Las Vegas Blvd S\\nNorthwest\\nLas Vegas, NV 89119', 'free', 'TRUE', 'Las Vegas', 3.5, 'mid'), ('Four Points by Sheraton Phoenix South Mountain', 'mid', 'TRUE', '10831 South 51st St\\nPhoenix, AZ 85044', 'free', 'TRUE', 'Phoenix', 3.5, 'mid'), ('Phoenix Marriott Tempe at The Buttes', 'hi', 'TRUE', '2000 Westcourt Way\\nTempe, AZ 85282', 'paid', 'TRUE', 'Tempe', 3.5, 'mid'), ('Residence Inn Phoenix Glendale/Peoria', 'hi', 'TRUE', '8435 West Paradise Lane\\nPeoria, AZ 85382', 'free', 'TRUE', 'Peoria', 3.5, 'mid'), ('The Edgewater', 'hi', 'TRUE', '666 Wisconsin Ave\\nCapitol\\nMadison, WI 53703', None, 'FALSE', 'Madison', 3.5, 'mid'), ('Pointe Hilton Tapatio Cliffs Resort', 'hi', 'TRUE', '11111 N 7th St\\nPhoenix, AZ 85020', 'paid', 'TRUE', 'Phoenix', 3.5, 'mid'), ('Days Inn Surprise', 'hi', 'TRUE', '12477 W. Bell Rd.\\nSurprise, AZ 85374', 'free', 'TRUE', 'Surprise', 3.5, 'mid'), ('W Scottsdale', 'hi', 'TRUE', '7277 East Camelback Rd\\nScottsdale, AZ 85251', 'paid', 'TRUE', 'Scottsdale', 3.5, 'mid'), ('Jurys Edinburgh Inn', 'hi', 'TRUE', '43 Jeffrey Street\\nOld Town\\nEdinburgh EH1 1DH', None, 'TRUE', 'Edinburgh', 3.5, 'mid'), ('Rutland Hotel', 'hi', 'TRUE', '1-3 Rutland Street\\nWest End\\nEdinburgh EH1 2AE', 'free', 'TRUE', 'Edinburgh', 3.5, 'mid'), ('Kildonan Lodge Hotel', 'hi', 'TRUE', '27 Craigmillar Park\\nEdinburgh EH16 5PE', 'free', 'TRUE', 'Edinburgh', 3.5, 'mid'), ('Edinburgh Marriott Hotel', 'hi', 'TRUE', '111 Glasgow Road\\nEdinburgh EH12 8NF', 'paid', 'TRUE', 'Edinburgh', 3.5, 'mid'), ('Le Monde', 'hi', 'TRUE', '16 George Street\\nNew Town\\nEdinburgh EH2 2PF', 'free', 'TRUE', 'Edinburgh', 3.5, 'mid'), ('SpringHill Suites Phoenix Sports & Entertainment District', 'hi', 'TRUE', '7370 N Zanjero Blvd\\nGlendale, AZ 85305', 'free', 'TRUE', 'Glendale', 3.5, 'mid'), ('DC Ranch', 'hi', 'TRUE', '20555 N Pima Rd Ste 140\\nScottsdale, AZ 85255', 'free', 'TRUE', 'Scottsdale', 3.5, 'mid'), ('Metropolitan Hotel', 'hi', None, '4-6 Picardy Pl\\nNew Town\\nEdinburgh EH1 3JT', None, 'TRUE', 'Edinburgh', 3.5, 'mid'), ('Blue Rainbow ApartHotel - Edinburgh', 'hi', 'TRUE', 'York Buildings\\nQueen St\\nNew Town\\nEdinburgh EH2 1HY', 'paid', 'TRUE', 'Edinburgh', 3.5, 'mid'), ('Venezia At The Venetian', 'hi', 'TRUE', '3355 Las Vegas Blvd S\\nThe Strip\\nLas Vegas, NV 89109', 'paid', 'TRUE', 'Las Vegas', 3.5, 'mid'), ('The Westin Lake Las Vegas Resort & Spa', 'hi', 'TRUE', '101 MonteLago Boulevard\\nHenderson, NV 89011', 'free', 'TRUE', 'Henderson', 3.5, 'mid'), ('Prestige At the Palazzo', 'hi', 'TRUE', '3325 S Las Vegas Blvd\\nThe Strip\\nLas Vegas, NV 89109', 'free', 'TRUE', 'Las Vegas', 3.5, 'mid'), ('The Shops at Crystals', 'lux', 'TRUE', '3780 Las Vegas Blvd S\\nThe Strip\\nLas Vegas, NV 89109', 'no', 'TRUE', 'Las Vegas', 3.5, 'mid'), ('Destination Inn', None, None, '547 King St N\\nWaterloo, ON N2L 5Z7', None, 'TRUE', 'Waterloo', 3.5, 'mid'), ('Holiday Inn Express Hotel Edinburgh City Centre', None, None, 'Picardy Place\\nTop Of Leith St\\nNew Town\\nEdinburgh EH1 3JT', None, 'TRUE', 'Edinburgh', 3.5, 'mid'), ('Agenda', None, None, '92-98 ST. Johns Road\\nEdinburgh EH12 8AT', None, 'FALSE', 'Edinburgh', 3.5, 'mid'), ('The Place', None, None, 'York Place\\nNew Town\\nEdinburgh EH1', None, 'TRUE', 'Edinburgh', 3.5, 'mid'), ('Extended Stay America - Phoenix - Airport', 'lo', 'TRUE', '3421 E. Elwood St.\\nPhoenix, AZ 85040', 'free', 'TRUE', 'Phoenix', 4.0, 'hi'), ('Super 8 Madison South', 'lo', 'TRUE', '1602 West Beltline Highway\\nMadison, WI 53713', 'free', 'TRUE', 'Madison', 4.0, 'hi'), ('BEST WESTERN Papago Inn & Resort', 'lo', 'TRUE', '7017 E McDowell Rd\\nScottsdale, AZ 85257', 'free', 'TRUE', 'Scottsdale', 4.0, 'hi'), ('La Quinta Inn & Suites Las Vegas RedRock/Summerlin', 'lo', 'TRUE', '9570 West Sahara\\nWestside\\nLas Vegas, NV 89117', 'free', 'TRUE', 'Las Vegas', 4.0, 'hi'), ('The Volcano', 'lo', 'FALSE', 'The Mirage Hotel and  Casino\\n3400 Las Vegas Blvd S\\nThe Strip\\nLas Vegas, NV 89109', 'no', 'TRUE', 'Las Vegas', 4.0, 'hi'), ('The Grassmarket Hotel', 'lo', 'TRUE', '94 Grassmarket\\nGrassmarket\\nEdinburgh EH1 2JR', 'free', 'TRUE', 'Edinburgh', 4.0, 'hi'), ('Microtel Inn & Suites', 'lo', 'TRUE', '55 E Robindale Road\\nSoutheast\\nLas Vegas, NV 89123', 'free', 'FALSE', 'Las Vegas', 4.0, 'hi'), ('Tonto Basin Inn', 'lo', 'TRUE', 'PO Box 299\\nTonto Basin, AZ 85553', 'free', 'TRUE', 'Tonto Basin', 4.0, 'hi'), ('Royal House', 'lo', 'TRUE', '99 Convention Center Dr\\nThe Strip\\nLas Vegas, NV 89109', 'paid', 'FALSE', 'Las Vegas', 4.0, 'hi'), ('Hilton Garden Inn Madison West/Middleton', 'mid', 'TRUE', '1801 Deming Way\\nMiddleton, WI 53562', 'free', 'TRUE', 'Middleton', 4.0, 'hi'), ('Courtyard by Marriot - Madison East', 'mid', 'TRUE', '2502 Crossroads Dr\\nHigh Crossing\\nMadison, WI 53718', 'free', 'TRUE', 'Madison', 4.0, 'hi'), ('Hilton Suites-Phoenix Plaza', 'mid', 'TRUE', '10 E Thomas Rd\\nPhoenix, AZ 85012', 'paid', 'TRUE', 'Phoenix', 4.0, 'hi'), ('Embassy Suites Phoenix Scottsdale', 'mid', 'TRUE', '4415 E Paradise Village Pkwy S\\nPhoenix, AZ 85032', 'paid', 'TRUE', 'Phoenix', 4.0, 'hi'), ('Days Hotel Mesa Country Club', 'mid', 'TRUE', '333 West Juanita Avenue\\nMesa, AZ 85210', 'free', 'TRUE', 'Mesa', 4.0, 'hi'), ('Hampton Inn Chandler', 'mid', 'TRUE', '7333 W Detroit St\\nChandler, AZ 85226', 'free', 'TRUE', 'Chandler', 4.0, 'hi'), ('Windmill Inns & Suites', 'mid', 'TRUE', '3535 W Chandler Blvd\\nChandler, AZ 85226', 'free', 'TRUE', 'Chandler', 4.0, 'hi'), ('Chaparral Suites Scottsdale', 'mid', 'TRUE', '5001 N Scottsdale Rd\\nScottsdale, AZ 85250', 'free', 'TRUE', 'Scottsdale', 4.0, 'hi'), ('Sleep Inn at North Scottsdale Road', 'mid', 'TRUE', '16630 N. Scottsdale Road\\nScottsdale, AZ 85254', 'free', 'TRUE', 'Scottsdale', 4.0, 'hi'), ('Gainey Suites Hotel', 'mid', 'TRUE', '7300 E Gainey Suites Dr\\nScottsdale, AZ 85258', 'free', 'TRUE', 'Scottsdale', 4.0, 'hi'), ('Country Inn & Suites by Carlson-Scottsdale', 'mid', 'TRUE', '10801 N 89th Pl\\nScottsdale, AZ 85260', 'free', 'TRUE', 'Scottsdale', 4.0, 'hi'), ('Inn at Eagle Mountain', 'mid', 'TRUE', '9800 N Summer Hill Blvd\\nFountain Hills, AZ 85268', 'free', 'TRUE', 'Fountain Hills', 4.0, 'hi'), ('BEST WESTERN Rancho Grande', 'mid', 'TRUE', '293 E Wickenburg Way\\nWickenburg, AZ 85390', 'free', 'TRUE', 'Wickenburg', 4.0, 'hi'), ('Desert Paradise Resort', 'mid', 'TRUE', '5165 S Decatur Blvd\\nLas Vegas, NV 89118', 'paid', 'TRUE', 'Las Vegas', 4.0, 'hi'), ('Hotel Ruby Marie', 'mid', 'TRUE', '524 E Wilson St\\nCapitol\\nMadison, WI 53703', 'free', 'TRUE', 'Madison', 4.0, 'hi'), ('Hampton Inn Phoenix-Midtown-Downtown Area', 'mid', 'TRUE', '160 W Catalina Dr\\nPhoenix, AZ 85013', 'free', 'TRUE', 'Phoenix', 4.0, 'hi'), ('Fairfield Inn by Marriott', 'mid', 'TRUE', '17017 N Black Canyon Hwy\\nPhoenix, AZ 85023', 'free', 'TRUE', 'Phoenix', 4.0, 'hi'), ('Country Inn & Suites', 'mid', 'TRUE', '20221 N 29th Ave\\nPhoenix, AZ 85027', 'free', 'TRUE', 'Phoenix', 4.0, 'hi'), ('Sleep Inn North', 'mid', 'TRUE', '18235 N. 27th Ave\\nPhoenix, AZ 85053', 'free', 'TRUE', 'Phoenix', 4.0, 'hi'), ('Red Roof Inns', 'mid', 'TRUE', '17222 N Black Canyon Hwy\\nPhoenix, AZ 85053', 'free', 'TRUE', 'Phoenix', 4.0, 'hi'), ('Scottsdale Marriot Suites Old Town', 'mid', 'TRUE', '7325 East 3rd Avenue\\nScottsdale, AZ 85251', 'paid', 'TRUE', 'Scottsdale', 4.0, 'hi'), ('Residence Inn Scottsdale Paradise Valley', 'mid', 'TRUE', '6040 North Scottsdale Road\\nScottsdale, AZ 85253', 'free', 'TRUE', 'Scottsdale', 4.0, 'hi'), ('Residence Inn by Marriott', 'mid', 'TRUE', '17011 N Scottsdale Rd\\nScottsdale, AZ 85255', 'free', 'TRUE', 'Scottsdale', 4.0, 'hi'), ('Sheraton Desert Oasis Villas', 'mid', 'TRUE', '17700 N Hayden Rd\\nScottsdale, AZ 85255', 'free', 'TRUE', 'Scottsdale', 4.0, 'hi'), ('Courtyard by Marriott', 'mid', 'TRUE', '17010 N Scottsdale Road\\nScottsdale, AZ 85255', 'free', 'TRUE', 'Scottsdale', 4.0, 'hi'), ('Springhill Suites by Marriott', 'mid', 'TRUE', '17020 N Scottsdale Rd\\nScottsdale, AZ 85255', 'free', 'TRUE', 'Scottsdale', 4.0, 'hi'), ('Hospitality Suite Resort', 'mid', 'TRUE', '409 N Scottsdale Rd\\nScottsdale, AZ 85257', 'free', 'TRUE', 'Scottsdale', 4.0, 'hi'), ('Fairfield Inn by Marriott', 'mid', 'TRUE', '4702 E University Dr\\nPhoenix, AZ 85034', 'free', 'TRUE', 'Phoenix', 4.0, 'hi'), ('TownePlace Suites Tempe at Arizona Mills Mall', 'mid', 'TRUE', '5223 South Priest Drive\\nTempe, AZ 85283', 'free', 'TRUE', 'Tempe', 4.0, 'hi'), ('Springhill Suites by Marriott at Arizona Mills Mall', 'mid', 'TRUE', '5211 S Priest Dr\\nTempe, AZ 85283', 'free', 'TRUE', 'Tempe', 4.0, 'hi'), ('Space Age Lodge', 'mid', 'TRUE', '401 E Pima St\\nGila Bend, AZ 85337', 'free', 'TRUE', 'Gila Bend', 4.0, 'hi'), ('Hilton Grand Vacations Las Vegas Convention Center', 'mid', 'TRUE', 'Las Vegas Convention Center\\n455 Karen Ave\\nEastside\\nLas Vegas, NV 89109', 'free', 'TRUE', 'Las Vegas', 4.0, 'hi'), ('Courtyard by Marriott', 'mid', 'TRUE', '3275 Paradise Rd\\nEastside\\nLas Vegas, NV 89109', 'free', 'TRUE', 'Las Vegas', 4.0, 'hi'), ('Doubletree by Hilton Hotel', 'mid', 'TRUE', '7250 Pollock Dr\\nSoutheast\\nLas Vegas, NV 89119', 'free', 'TRUE', 'Las Vegas', 4.0, 'hi'), (\"Marriott's Grand Chateau\", 'mid', 'TRUE', '75 East Harmon Ave\\nEastside\\nLas Vegas, NV 89109', 'free', 'TRUE', 'Las Vegas', 4.0, 'hi'), ('Hyatt Place', 'mid', 'TRUE', '7300 E 3rd Ave\\nScottsdale, AZ 85251', 'free', 'TRUE', 'Scottsdale', 4.0, 'hi'), ('Comfort Inn & Suites Las Vegas - Nellis', 'mid', 'TRUE', '4375 E. Craig Road\\nLas Vegas, NV 89115', 'free', 'TRUE', 'Las Vegas', 4.0, 'hi'), ('Hampton Inn Surprise', 'mid', 'TRUE', '14783 W Grand Avenue\\nSurprise, AZ 85374', 'free', 'TRUE', 'Surprise', 4.0, 'hi'), ('Hilton Garden Inn Scottsdale North/Perimeter Center', 'mid', 'TRUE', '8550 East Princess Drive\\nScottsdale, AZ 85255', 'free', 'TRUE', 'Scottsdale', 4.0, 'hi'), (\"America's Choice Inn & Suites\", 'mid', 'TRUE', '2888 Butterfield Trl\\nGila Bend, AZ 85337', 'free', 'TRUE', 'Gila Bend', 4.0, 'hi'), ('Hilton Garden Inn Phoenix/Avondale', 'mid', 'TRUE', '11460 West Hilton Way\\nAvondale, AZ 85323', 'free', 'TRUE', 'Avondale', 4.0, 'hi'), ('Homewood Suites Henderson South Las Vegas', 'mid', 'TRUE', '10450 S Eastern Ave\\nAnthem\\nHenderson, NV 89052', 'free', 'TRUE', 'Henderson', 4.0, 'hi'), ('Courtyard', 'mid', 'TRUE', '5845 Dean Martin Drive\\nLas Vegas, NV 89118', 'free', 'TRUE', 'Las Vegas', 4.0, 'hi'), ('The Platinum Hotel', 'mid', 'TRUE', '211 E Flamingo Rd\\nEastside\\nLas Vegas, NV 89169', 'free', 'TRUE', 'Las Vegas', 4.0, 'hi'), ('HYATT House Scottsdale/Old Town', 'mid', 'TRUE', '4245 North Drinkwater Boulevard\\nScottsdale, AZ 85251', 'free', 'TRUE', 'Scottsdale', 4.0, 'hi'), ('Hyatt Place - North Phoenix', 'mid', 'TRUE', '10838 N 25th Ave\\nPhoenix, AZ 85029', 'free', 'TRUE', 'Phoenix', 4.0, 'hi'), ('Nellis Inn', 'mid', 'TRUE', 'Nellis AFB\\n5941 Fitzgerald Blvd\\nLas Vegas, NV 89191', 'free', 'TRUE', 'Las Vegas', 4.0, 'hi'), ('Hyatt Place', 'mid', 'TRUE', '4520 Paradise Rd\\nEastside\\nLas Vegas, NV 89169', 'free', 'TRUE', 'Las Vegas', 4.0, 'hi'), ('Courtyard by Marriott Waterloo St. Jacobs', 'mid', None, '50 Benjamin Road\\nWaterloo, ON N2V 2J9', None, 'TRUE', 'Waterloo', 4.0, 'hi'), ('Point Hotel', 'mid', 'TRUE', '34-36 Bread Street\\nOld Town\\nEdinburgh EH3 9AF', 'paid', 'FALSE', 'Edinburgh', 4.0, 'hi'), ('Radisson Blu Hotel', 'mid', 'TRUE', '80 High Street\\nThe Royal Mile\\nOld Town\\nEdinburgh EH1 1TH', 'free', 'TRUE', 'Edinburgh', 4.0, 'hi'), ('Apex Waterloo Place Hotel', 'mid', 'TRUE', '23 - 27 Waterloo Place\\nEdinburgh EH1 3BH', 'free', 'TRUE', 'Edinburgh', 4.0, 'hi'), ('Ten Hill Place Hotel', 'mid', 'TRUE', '10 Hill Place\\nNewington\\nEdinburgh EH8 9DS', 'free', 'TRUE', 'Edinburgh', 4.0, 'hi'), ('Element Las Vegas Summerlin', 'mid', 'TRUE', '10555 Discovery Drive\\nSouth Summerlin\\nLas Vegas, NV 89135', 'free', 'TRUE', 'Las Vegas', 4.0, 'hi'), ('Residence Inn Phoenix Desert View At Mayo Clinic', 'mid', 'TRUE', '5665 E. Mayo Boulevard\\nPhoenix, AZ 85054', 'free', 'TRUE', 'Phoenix', 4.0, 'hi'), ('Comfort Suites Univ. of Phoenix Stadium Area', 'mid', 'TRUE', '9824 W Camelback Rd\\nGlendale, AZ 85305', 'free', 'TRUE', 'Glendale', 4.0, 'hi'), ('M Resort Spa Casino', 'mid', 'TRUE', '12300 Las Vegas Blvd S\\nHenderson, NV 89044', 'paid', 'TRUE', 'Henderson', 4.0, 'hi'), ('Residence Inn Phoenix Glendale', 'mid', 'TRUE', '7350 N Zanjero Blvd\\nGlendale, AZ 85305', 'free', 'TRUE', 'Glendale', 4.0, 'hi'), ('Courtyard Phoenix North/Happy Valley', 'mid', 'TRUE', '2029 West Whispering Wind Drive\\nPhoenix, AZ 85085', 'free', 'TRUE', 'Phoenix', 4.0, 'hi'), ('Hilton Phoenix Chandler', 'mid', 'TRUE', '2929 W Frye Rd\\nChandler, AZ 85224', 'paid', 'TRUE', 'Chandler', 4.0, 'hi'), ('Courtyard Phoenix West/Avondale', 'mid', 'TRUE', '1650 N 95th Lane\\nPhoenix, AZ 85037', 'free', 'TRUE', 'Phoenix', 4.0, 'hi'), ('Hampton Inn and Suites', 'mid', 'TRUE', '2000 N Litchfield Rd\\nGoodyear, AZ 85395', 'free', 'TRUE', 'Goodyear', 4.0, 'hi'), ('Hampton Inn & Suites Phoenix North/Happy Valley', 'mid', 'TRUE', '2550 W Charlotte Dr\\nPhoenix, AZ 85085', 'free', 'TRUE', 'Phoenix', 4.0, 'hi'), ('Hampton Inn Phoenix-Biltmore', 'mid', 'TRUE', '2310 E Highland Ave\\nPhoenix, AZ 85016', 'free', 'TRUE', 'Phoenix', 4.0, 'hi'), ('SpringHill Suites Las Vegas Henderson', 'mid', 'TRUE', '1481 Paseo Verde Pkwy\\nHenderson, NV 89012', 'free', 'TRUE', 'Henderson', 4.0, 'hi'), ('TownePlace Suites by Marriott', 'mid', 'TRUE', '1471 Paseo Verde Pkwy\\nHenderson, NV 89012', 'free', 'TRUE', 'Henderson', 4.0, 'hi'), ('Cambria Suites', 'mid', 'TRUE', '5045 Eastpark Blvd\\nMadison, WI 53718', 'free', 'TRUE', 'Madison', 4.0, 'hi'), ('SpringHill Suites Las Vegas Convention Center', 'mid', 'TRUE', '2989 Paradise Rd\\nEastside\\nLas Vegas, NV 89109', 'free', 'TRUE', 'Las Vegas', 4.0, 'hi'), ('Fairfield Inn & Suites Madison East', 'mid', 'TRUE', '2702 Crossroads Dr\\nHigh Crossing\\nMadison, WI 53718', 'free', 'TRUE', 'Madison', 4.0, 'hi'), ('Country Inn & Suites by Carlson', 'mid', None, '6275 Nesbitt Rd\\nFitchburg, WI 53719', 'free', 'TRUE', 'Fitchburg', 4.0, 'hi'), ('Residence Inn by Marriott', 'mid', 'TRUE', '8400 Market St\\nMiddleton, WI 53562', 'free', 'TRUE', 'Middleton', 4.0, 'hi'), ('Hampton Inn & Suites-Madison West', 'mid', 'TRUE', '483 Commerce Dr\\nMadison, WI 53719', 'free', 'TRUE', 'Madison', 4.0, 'hi'), ('Hyatt Place Madison', 'mid', 'TRUE', '333 W Washington Ave\\nCapitol\\nMadison, WI 53703', 'free', 'TRUE', 'Madison', 4.0, 'hi'), ('Comfort Inn & Suites Downtown', 'mid', 'TRUE', '651 E. Main Street\\nMesa, AZ 85203', 'free', 'TRUE', 'Mesa', 4.0, 'hi'), ('Homewood Suites by Hilton Chandler Fashion Center', 'mid', 'TRUE', '1221 S Spectrum Blvd\\nChandler, AZ 85286', 'free', 'TRUE', 'Chandler', 4.0, 'hi'), ('Hampton Inn & Suites Phoenix Glendale/Westgate City Center', 'mid', 'TRUE', '6630 N 95th Ave\\nGlendale, AZ 85305', 'free', 'TRUE', 'Glendale', 4.0, 'hi'), ('Hyatt Place', 'mid', 'TRUE', '3275 S Market St\\nGilbert, AZ 85297', 'free', 'TRUE', 'Gilbert', 4.0, 'hi'), ('Ph Towers', 'mid', 'TRUE', '3667 Las Vegas Blvd S\\nThe Strip\\nLas Vegas, NV 89109', 'free', 'FALSE', 'Las Vegas', 4.0, 'hi'), ('Hampton Inn Las Vegas/North Speedway', 'mid', 'TRUE', '2852 E Craig Rd\\nNorth Las Vegas, NV 89030', 'free', 'TRUE', 'North Las Vegas', 4.0, 'hi'), ('Hampton Inn & Suites Las Vegas-Red Rock/Summerlin', 'mid', 'TRUE', '4280 S Grand Canyon Dr\\nSpring Valley\\nLas Vegas, NV 89147', 'free', 'TRUE', 'Las Vegas', 4.0, 'hi'), ('Best Western PLUS North Las Vegas Inn & Suites', 'mid', 'TRUE', '4540 Donovan Way\\nLas Vegas, NV 89081', 'free', 'TRUE', 'Las Vegas', 4.0, 'hi'), ('Hampton Inn & Suites Las Vegas Airport', 'mid', 'TRUE', '6575 S Eastern Ave\\nSoutheast\\nLas Vegas, NV 89119', 'free', 'TRUE', 'Las Vegas', 4.0, 'hi'), ('Holiday Inn Hotel & Suites Phoenix Airport', 'mid', 'TRUE', '3220 S. 48th Street\\nPhoenix, AZ 85040', 'free', 'TRUE', 'Phoenix', 4.0, 'hi'), ('Hampton Inn & Suites', 'mid', 'TRUE', '3265 S Market St\\nGilbert, AZ 85297', 'free', 'TRUE', 'Gilbert', 4.0, 'hi'), ('AmericInn Hotel & Suites Madison South', 'mid', 'TRUE', '101 W Broadway\\nMadison, WI 53716', 'free', 'TRUE', 'Madison', 4.0, 'hi'), ('Americas Best Value Inn', 'mid', 'TRUE', '424 W Van Buren St\\nPhoenix, AZ 85003', 'free', 'TRUE', 'Phoenix', 4.0, 'hi'), ('BEST WESTERN PLUS Henderson Hotel', 'mid', 'TRUE', '1553 N Boulder Hwy\\nHenderson, NV 89011', 'free', 'TRUE', 'Henderson', 4.0, 'hi'), ('Courtyard Phoenix Chandler/Fashion Center', 'mid', 'TRUE', '1100 South Price Road\\nChandler, AZ 85286', 'free', 'TRUE', 'Chandler', 4.0, 'hi'), ('The Pool At the M Resort', 'mid', 'TRUE', '12300 S Las Vegas Blvd\\nHenderson, NV 89044', 'no', 'TRUE', 'Henderson', 4.0, 'hi'), ('Homewood Suites', 'mid', 'TRUE', '4750 E Cotton Ctr Blvd\\nPhoenix, AZ 85040', 'free', 'TRUE', 'Phoenix', 4.0, 'hi'), ('The Saguaro', 'mid', 'TRUE', '4000 N Drinkwater Blvd\\nScottsdale, AZ 85251', 'paid', 'TRUE', 'Scottsdale', 4.0, 'hi'), ('La Quinta Inn & Suites Madison American Center', 'mid', 'TRUE', '5217 East Terrace Dr\\nMadison, WI 53718', 'free', 'TRUE', 'Madison', 4.0, 'hi'), ('Howard Johnson Old Town Scottsdale', 'mid', 'TRUE', '7110 E. Indian School Rd.\\nScottsdale, AZ 85251', 'free', 'TRUE', 'Scottsdale', 4.0, 'hi'), ('Hotel Indigo', 'mid', 'TRUE', '59 York Place\\nNew Town\\nEdinburgh EH1', 'free', 'TRUE', 'Edinburgh', 4.0, 'hi'), ('Novotel Edinburgh Centre', 'mid', 'TRUE', '80 Lauriston Place\\nOld Town\\nEdinburgh EH3', 'free', 'TRUE', 'Edinburgh', 4.0, 'hi'), ('Big Bus Tours/Open Top Sightseeing', 'mid', 'TRUE', '320 W Utah Ave\\nDowntown\\nLas Vegas, NV 89102', 'no', 'TRUE', 'Las Vegas', 4.0, 'hi'), ('Springhill Suites Marriott', 'mid', 'TRUE', '2910 E Craig Rd\\nNorth Las Vegas, NV 89081', 'free', 'TRUE', 'North Las Vegas', 4.0, 'hi'), ('Fairfield Inn & Suites Phoenix Chandler/Fashion Center', 'mid', 'TRUE', '1100 South Price Road\\nChandler, AZ 85286', 'free', 'TRUE', 'Chandler', 4.0, 'hi'), ('Courtyard by Marriott', 'mid', 'TRUE', '5845 Dean Martin Blvd\\nClark County, NV 89118', 'free', 'TRUE', 'Clark County', 4.0, 'hi'), ('Motel One', 'mid', 'TRUE', 'Market Street\\nOld Town\\nEdinburgh EH1', 'free', 'TRUE', 'Edinburgh', 4.0, 'hi'), ('Express By Holiday Inn', 'mid', None, '16 Picardy Place\\nNew Town\\nEdinburgh EH1', None, 'TRUE', 'Edinburgh', 4.0, 'hi'), ('Howard Johnson Las Vegas/Near Nellis AFB', 'mid', 'TRUE', '5300 E. Craig Road\\nLas Vegas, NV 78409', 'free', 'TRUE', 'Las Vegas', 4.0, 'hi'), ('Furnace Creek Ranch', 'mid', None, 'Death Valley National Park\\nCalifornia\\nLas Vegas, NV', 'paid', 'TRUE', 'Las Vegas', 4.0, 'hi'), ('Double Tree  By Hilton', 'mid', 'TRUE', '5401 N Scottsdale Rd\\nScottsdale, AZ 85250', 'free', 'TRUE', 'Scottsdale', 4.0, 'hi'), ('The Ritz-Carlton, Phoenix', 'hi', 'TRUE', '2401 East Camelback Road\\nPhoenix, AZ 85016', 'paid', 'TRUE', 'Phoenix', 4.0, 'hi'), ('The Westin Kierland Resort & Spa', 'hi', 'TRUE', '6902 East Greenway Parkway\\nScottsdale, AZ 85254', 'paid', 'TRUE', 'Scottsdale', 4.0, 'hi'), ('Hermosa Inn', 'hi', 'TRUE', '5532 N Palo Cristi Rd\\nParadise Valley, AZ 85253', 'free', 'TRUE', 'Paradise Valley', 4.0, 'hi'), ('THEhotel at Mandalay Bay', 'hi', 'TRUE', '3950 Las Vegas Blvd S\\nThe Strip\\nLas Vegas, NV 89119', 'free', 'TRUE', 'Las Vegas', 4.0, 'hi'), ('JW Marriott Phoenix Desert Ridge Resort & Spa', 'hi', 'TRUE', '5350 East Marriott Drive\\nPhoenix, AZ 85054', 'paid', 'TRUE', 'Phoenix', 4.0, 'hi'), ('The Signature at MGM Grand', 'hi', 'TRUE', 'The Signature at MGM Grand\\n145 E Harmon\\nEastside\\nLas Vegas, NV 89109', 'free', 'TRUE', 'Las Vegas', 4.0, 'hi'), ('Loews Lake Las Vegas Resort', 'hi', 'TRUE', '101 Montelago Blvd\\nHenderson, NV 89011', 'free', 'FALSE', 'Henderson', 4.0, 'hi'), ('Hotel Valley Ho', 'hi', 'TRUE', '6850 E Main St\\nScottsdale, AZ 85251', 'paid', 'TRUE', 'Scottsdale', 4.0, 'hi'), ('Trump Hotel', 'hi', 'TRUE', '2000 Fashion Show Dr\\nThe Strip\\nLas Vegas, NV 89109', 'free', 'TRUE', 'Las Vegas', 4.0, 'hi'), ('JW Marriott Las Vegas Resort & Spa', 'hi', 'TRUE', '221 N Rampart Blvd\\nWestside\\nLas Vegas, NV 89145', 'paid', 'TRUE', 'Las Vegas', 4.0, 'hi'), ('Renaissance Glendale Hotel & Spa', 'hi', 'TRUE', '9495 W Coyotes Blvd\\nGlendale, AZ 85305', 'paid', 'TRUE', 'Glendale', 4.0, 'hi'), ('Sheraton Phoenix Downtown Hotel', 'hi', 'TRUE', '340 North 3rd Street\\nPhoenix, AZ 85004', 'paid', 'TRUE', 'Phoenix', 4.0, 'hi'), ('Waterloo Hotel', 'hi', 'TRUE', '2 King St N\\nWaterloo, ON N2L 1S7', 'free', 'TRUE', 'Waterloo', 4.0, 'hi'), ('Bonham Hotel', 'hi', 'TRUE', '35 Drumsheugh Gardens\\nWest End\\nEdinburgh EH3 7RN', 'free', 'TRUE', 'Edinburgh', 4.0, 'hi'), ('Glasshouse Hotel', 'hi', 'TRUE', '2 Greenside Pl\\nEdinburgh EH1 3AA', 'free', 'TRUE', 'Edinburgh', 4.0, 'hi'), ('Dalhousie Castle Hotel', 'hi', 'TRUE', 'Dalhousie Castle\\nBonnyrigg EH19 3JB', 'free', 'TRUE', 'Bonnyrigg', 4.0, 'hi'), ('Montelucia Resort & Spa', 'hi', 'TRUE', '4949 E Lincoln Dr\\nScottsdale, AZ 85253', 'paid', 'TRUE', 'Scottsdale', 4.0, 'hi'), ('Westin Kierland Villas', 'hi', 'TRUE', '15620 N. Clubgate Dr\\nScottsdale, AZ 85254', 'free', 'TRUE', 'Scottsdale', 4.0, 'hi'), ('Vdara', 'hi', 'TRUE', 'Vdara Las Vegas\\n2600 W Harmon Ave\\nThe Strip\\nLas Vegas, NV 89158', 'free', 'TRUE', 'Las Vegas', 4.0, 'hi'), ('Edinburgh Capital Hotel', 'hi', 'TRUE', '187 Clermiston Rd\\nEdinburgh EH12 6UG', 'paid', 'TRUE', 'Edinburgh', 4.0, 'hi'), ('The Westin Phoenix Downtown', 'hi', 'TRUE', '333 North Central Avenue\\nPhoenix, AZ 85004', 'paid', 'TRUE', 'Phoenix', 4.0, 'hi'), ('Waldorf Astoria Edinburgh - The Caledonian', 'hi', 'TRUE', 'Princes Street\\nWest End\\nEdinburgh EH1 2AB', 'paid', 'TRUE', 'Edinburgh', 4.0, 'hi'), ('Luxor Hotel', 'hi', 'TRUE', 'Trilogy Dr 3537\\nNorthwest\\nLas Vegas, NV 89108', 'no', 'TRUE', 'Las Vegas', 4.0, 'hi'), ('Norton House Hotel', 'hi', 'TRUE', 'Newbridge\\nEdinburgh EH28 8LX', 'free', 'TRUE', 'Edinburgh', 4.0, 'hi'), ('The Phoenician', 'lux', 'TRUE', '6000 East Camelback Road\\nScottsdale, AZ 85251', 'paid', 'TRUE', 'Scottsdale', 4.0, 'hi'), ('Gold Canyon Golf Resort', 'lux', 'TRUE', '6100 S Kings Ranch Rd\\nGold Canyon, AZ 85118', 'no', 'TRUE', 'Gold Canyon', 4.0, 'hi'), ('Langdon Hall', 'lux', 'TRUE', '1 Langdon Drive\\nCambridge, ON N3H 4R8', 'free', 'TRUE', 'Cambridge', 4.0, 'hi'), ('Macdonald Holyrood Hotel', 'lux', 'TRUE', '81 Holyrood Road\\nOld Town\\nEdinburgh EH8 8AU', 'free', 'TRUE', 'Edinburgh', 4.0, 'hi'), ('Caleo Resort and Spa', None, None, '4925 N. Scottsdale Rd.\\nScottsdale, AZ 85250', None, 'FALSE', 'Scottsdale', 4.0, 'hi'), ('Ellersly House', None, 'TRUE', 'Ellersly Road\\nEdinburgh EH12 6HZ', 'free', 'TRUE', 'Edinburgh', 4.0, 'hi'), ('Grandstay Residential Suites', 'lo', 'TRUE', '5317 High Crossing Blvd\\nHigh Crossing\\nMadison, WI 53718', 'free', 'TRUE', 'Madison', 4.5, 'hi'), ('Budget Rent Flamingo Hotel', 'lo', None, 'Las Vegas Boulevard South 3555\\nThe Strip\\nLas Vegas, NV 89109', None, 'TRUE', 'Las Vegas', 4.5, 'hi'), ('Holiday Inn Express', 'mid', 'TRUE', '620 N. 6th St.\\nPhoenix, AZ 85004', 'free', 'TRUE', 'Phoenix', 4.5, 'hi'), ('Hampton Inn Phoenix Airport', 'mid', 'TRUE', '4234 S 48th St\\nPhoenix, AZ 85040', 'free', 'FALSE', 'Phoenix', 4.5, 'hi'), ('Springhill Suites by Marriott', 'mid', 'TRUE', '7810 W Bell Rd\\nGlendale, AZ 85308', 'free', 'TRUE', 'Glendale', 4.5, 'hi'), ('Windmill Inns & Suites', 'mid', 'TRUE', '12545 W Bell Rd\\nSurprise, AZ 85374', 'free', 'TRUE', 'Surprise', 4.5, 'hi'), ('Comfort Suites Airport', 'mid', 'TRUE', '1625 S. 52nd St.\\nTempe, AZ 85281', 'free', 'TRUE', 'Tempe', 4.5, 'hi'), ('Yucca Motel', 'mid', 'TRUE', '836 E Pima Street\\nGila Bend, AZ 85337', 'free', 'TRUE', 'Gila Bend', 4.5, 'hi'), ('Homewood Suites Phoenix', 'mid', 'TRUE', '11450 W Hilton Way\\nAvondale, AZ 85323', 'no', 'TRUE', 'Avondale', 4.5, 'hi'), ('Hampton Inn and Suites', 'mid', 'TRUE', '3245 St Rose Pkwy\\nSoutheast\\nHenderson, NV 89052', 'free', 'TRUE', 'Henderson', 4.5, 'hi'), ('Radisson Hotel Kitchener', 'mid', 'TRUE', '2960 King Street E\\nKitchener, ON N2A 1A9', 'free', 'TRUE', 'Kitchener', 4.5, 'hi'), ('A Haven Town House', 'mid', 'TRUE', '180 Ferry Road\\nLeith\\nEdinburgh EH6 4NS', 'free', 'TRUE', 'Edinburgh', 4.5, 'hi'), ('Royal Scots Club', 'mid', 'TRUE', '29 - 31 Abercromby Place\\nNew Town\\nEdinburgh EH3 6QE', 'free', 'TRUE', 'Edinburgh', 4.5, 'hi'), ('Rockville House Hotel', 'mid', None, '2 Joppa Pans\\nEdinburgh EH15 2HF', None, 'TRUE', 'Edinburgh', 4.5, 'hi'), ('Homewood Suites by Hilton Madison West', 'mid', 'TRUE', '479 Commerce Dr\\nMadison, WI 53719', 'free', 'TRUE', 'Madison', 4.5, 'hi'), ('Channings Hotel', 'mid', 'TRUE', '12-16 South Learmouth Gardens\\nEdinburgh EH4 1EZ', 'free', 'TRUE', 'Edinburgh', 4.5, 'hi'), ('Residence Inn Phoenix North/Happy Valley', 'mid', 'TRUE', '2035 W Whispering Wind Drive\\nPhoenix, AZ 85085', 'free', 'TRUE', 'Phoenix', 4.5, 'hi'), ('Hyatt Place', 'mid', 'TRUE', '1422 W Bass Pro Dr\\nMesa, AZ 85201', 'free', 'TRUE', 'Mesa', 4.5, 'hi'), ('Comfort Inn & Suites', 'mid', 'TRUE', '475 Marks Street\\nHenderson, NV 89014', 'free', 'TRUE', 'Henderson', 4.5, 'hi'), ('Holiday Inn Express Hotel & Suites Phoenix-Glendale', 'mid', 'TRUE', '9310 W Cabela Dr\\nGlendale, AZ 85305', 'free', 'TRUE', 'Glendale', 4.5, 'hi'), ('Thunderbird Executive Inn', 'mid', 'TRUE', '15249 N 59th Ave\\nGlendale, AZ 85306', 'free', 'TRUE', 'Glendale', 4.5, 'hi'), ('Drury Inn & Suites', 'mid', 'TRUE', '2335 W Pinnacle Peak Rd\\nPhoenix, AZ 85027', 'free', 'TRUE', 'Phoenix', 4.5, 'hi'), ('Hampton Inn & Suites Phoenix Chandler/Fashion Center', 'mid', 'TRUE', '1231 S Spectrum Blvd\\nChandler, AZ 85286', 'free', 'TRUE', 'Chandler', 4.5, 'hi'), ('La Quinta Inn & Suites Las Vegas Airport South', 'mid', 'TRUE', '6560 Surrey St\\nSoutheast\\nLas Vegas, NV 89119', 'free', 'TRUE', 'Las Vegas', 4.5, 'hi'), ('AmericInn Madison West', 'mid', 'TRUE', '516 Grand Canyon Dr\\nMadison, WI 53719', 'free', 'TRUE', 'Madison', 4.5, 'hi'), ('Drury Inn and Suites Phoenix Airport', 'mid', 'TRUE', '3333 E University Dr\\nPhoenix, AZ 85040', 'free', 'TRUE', 'Phoenix', 4.5, 'hi'), ('HotelRED', 'mid', 'TRUE', '1501 Monroe St\\nVilas\\nMadison, WI 53711', 'free', 'TRUE', 'Madison', 4.5, 'hi'), ('Scottsdale Salt River', 'mid', 'TRUE', '5201 North Pima Road\\nScottsdale, AZ 85250', 'free', 'TRUE', 'Scottsdale', 4.5, 'hi'), ('Hampton Inn & Suites', 'mid', 'TRUE', '9550 E Indian Bend Rd\\nScottsdale, AZ 85250', 'free', 'TRUE', 'Scottsdale', 4.5, 'hi'), ('Tutto In The Bellagio', 'mid', 'TRUE', '3600 Las Vegas Blvd S\\nEastside\\nLas Vegas, NV 89109', 'no', 'TRUE', 'Las Vegas', 4.5, 'hi'), ('Courtyard Marriott', 'mid', 'TRUE', '1901 N Rainbow Blvd\\nLas Vegas, NV 89108', 'free', 'TRUE', 'Las Vegas', 4.5, 'hi'), ('Residence Inn Tempe Downtown/University', 'mid', 'TRUE', '510 South Forest Avenue\\nTempe, AZ 85281', 'free', 'TRUE', 'Tempe', 4.5, 'hi'), ('La Quinta Inn & Suites Las Vegas Tropicana', 'mid', 'TRUE', '4975 S. Valley View Blvd\\nLas Vegas, NV 89118', 'free', 'TRUE', 'Las Vegas', 4.5, 'hi'), ('Red Lion Inn & Suites Tempe', 'mid', 'TRUE', '1429 N Scottsdale Rd\\nTempe, AZ 85281', 'free', 'TRUE', 'Tempe', 4.5, 'hi'), ('Sanctuary Resort on Camelback', 'hi', 'TRUE', '5700 East McDonald Drive\\nParadise Valley, AZ 85253', 'free', 'TRUE', 'Paradise Valley', 4.5, 'hi'), ('The Smoke Tree Resort', 'hi', 'TRUE', '7101 E Lincoln Dr\\nScottsdale, AZ 85253', 'free', 'TRUE', 'Scottsdale', 4.5, 'hi'), ('Ritz Carlton Lake Las Vegas', 'hi', 'TRUE', '1610 Lake Las Vegas Pkwy\\nHenderson, NV 89011', None, 'FALSE', 'Henderson', 4.5, 'hi'), ('Marriott Hotels Resorts Suites', 'hi', 'TRUE', '325 Convention Center Dr\\nEastside\\nLas Vegas, NV 89109', None, 'TRUE', 'Las Vegas', 4.5, 'hi'), ('Four Seasons Hotel Las Vegas', 'hi', 'TRUE', '3960 S Las Vegas Blvd\\nThe Strip\\nLas Vegas, NV 89119', 'paid', 'TRUE', 'Las Vegas', 4.5, 'hi'), ('The Caledonian Hilton Hotel', 'hi', 'TRUE', '4 Princes Street\\nOld Town\\nEdinburgh EH1 2AB', 'paid', 'FALSE', 'Edinburgh', 4.5, 'hi'), ('Dakota Forthbridge Hotel', 'hi', None, 'Ferrymuir Retail Park\\nSouth Queensferry EH30 9QZ', 'free', 'TRUE', 'South Queensferry', 4.5, 'hi'), ('Prestonfield', 'hi', 'TRUE', 'Prestonfield House\\nPriestfield Road\\nEdinburgh EH16 5UT', 'free', 'TRUE', 'Edinburgh', 4.5, 'hi'), ('Hotel 32', 'hi', 'TRUE', 'Monte Carlo Hotel and Casino\\n3770 Las Vegas Blvd S\\nThe Strip\\nLas Vegas, NV 89115', 'free', 'TRUE', 'Las Vegas', 4.5, 'hi'), ('Four Points by Sheraton Cambridge Kitchener, Ontario', 'hi', 'TRUE', '210 Preston Parkway\\nCambridge, ON N3H 5N1', 'free', 'TRUE', 'Cambridge', 4.5, 'hi'), ('Fraser Suites', 'hi', 'TRUE', '12-26 St Giles Street\\nOld Town\\nEdinburgh EH1 1PT', 'free', 'TRUE', 'Edinburgh', 4.5, 'hi'), ('Malmaison Hotel', 'hi', 'TRUE', 'One Tower Place\\nLeith\\nEdinburgh EH6 7BZ', 'free', 'TRUE', 'Edinburgh', 4.5, 'hi'), ('Four Seasons Resort Scottsdale at Troon North', 'lux', 'TRUE', '10600 E Crescent Moon Dr\\nScottsdale, AZ 85262', 'free', 'TRUE', 'Scottsdale', 4.5, 'hi'), ('Skylofts at MGM Grand', 'lux', 'TRUE', '3799 Las Vegas Blvd S\\nEastside\\nLas Vegas, NV 89109', 'free', 'TRUE', 'Las Vegas', 4.5, 'hi'), ('The Canyon Suites at The Phoenician', 'lux', 'TRUE', '6000 East Camelback Road\\nScottsdale, AZ 85251', 'free', 'TRUE', 'Scottsdale', 4.5, 'hi'), ('HGVClub', None, None, '455 Karen Ave\\nEastside\\nLas Vegas, NV 89109', None, 'TRUE', 'Las Vegas', 4.5, 'hi'), ('Holyrood Aparthotel', None, None, '1 Nether Bakehouse\\nOld Town\\nEdinburgh EH8 8PE', None, 'TRUE', 'Edinburgh', 4.5, 'hi'), ('Las Vegas Motor Coach Resort', 'mid', 'TRUE', '8175 Arville St\\nSouthwest\\nLas Vegas, NV 89139', 'paid', 'TRUE', 'Las Vegas', 5.0, 'hi'), ('The Sun Inn', 'mid', 'TRUE', 'Lothianbridge\\nDalkeith EH22 4TR', 'free', 'TRUE', 'Dalkeith', 5.0, 'hi'), ('Comfort Suites', 'mid', 'TRUE', '15575 W. Roosevelt St\\nGoodyear, AZ 85338', 'free', 'TRUE', 'Goodyear', 5.0, 'hi'), ('Robertsmith Ranch Resort', 'mid', None, '6350 W Tara Ave\\nWestside\\nLas Vegas, NV 89146', 'free', 'TRUE', 'Las Vegas', 5.0, 'hi'), ('Hampton Inn & Suites Las Vegas South', 'mid', 'TRUE', '3245 St Rose Pkwy\\nSoutheast\\nHenderson, NV 89052', 'free', 'TRUE', 'Henderson', 5.0, 'hi'), ('Residence Inn by Marriott', 'mid', 'TRUE', '16418 N Bullard Ave\\nSurprise, AZ 85374', 'free', 'TRUE', 'Surprise', 5.0, 'hi'), ('Princes Street Suites', 'mid', 'TRUE', '16 Waterloo Pl\\nEdinburgh EH1 3EG', 'free', 'TRUE', 'Edinburgh', 5.0, 'hi'), ('Hampton Inn & Suites Madison Downtown', 'mid', 'TRUE', '440 W Johnson St\\nCapitol\\nMadison, WI 53703', 'free', 'TRUE', 'Madison', 5.0, 'hi'), ('Meridian Luxury Resorts', 'hi', 'FALSE', '250 E Flamingo Rd\\nEastside\\nLas Vegas, NV 89169', None, 'TRUE', 'Las Vegas', 5.0, 'hi'), ('Nira Caledonia', 'hi', 'TRUE', '10 Gloucester Place\\nNew Town\\nEdinburgh EH3 6EF', 'free', 'TRUE', 'Edinburgh', 5.0, 'hi'), ('The Knight Residence', 'lux', 'TRUE', '12 Lauriston Street\\nOld Town\\nEdinburgh EH3 9DJ', None, 'TRUE', 'Edinburgh', 5.0, 'hi'), ('Wynn Esplanade - Wynn Hotel', 'lux', 'TRUE', '3131 S Las Vegas Blvd\\nThe Strip\\nLas Vegas, NV 89109', 'paid', 'TRUE', 'Las Vegas', 5.0, 'hi'), ('Residence Inn Edinburgh', None, 'TRUE', '36 Simpson Loan Quartermile\\nEdinburgh EH3 9GG', 'free', 'TRUE', 'Edinburgh', 5.0, 'hi')]"
     ]
    },
    {
     "name": "stdout",
     "output_type": "stream",
     "text": [
      "\n"
     ]
    }
   ],
   "source": [
    "print(c.fetchall())"
   ]
  },
  {
   "cell_type": "code",
   "execution_count": 24,
   "metadata": {},
   "outputs": [],
   "source": [
    "## Exploring a DB with  natural language"
   ]
  },
  {
   "cell_type": "code",
   "execution_count": 25,
   "metadata": {},
   "outputs": [],
   "source": [
    "# Parameters from text"
   ]
  },
  {
   "cell_type": "code",
   "execution_count": 31,
   "metadata": {},
   "outputs": [
    {
     "name": "stdout",
     "output_type": "stream",
     "text": [
      "Fitting 2 folds for each of 6 candidates, totalling 12 fits\n"
     ]
    },
    {
     "name": "stderr",
     "output_type": "stream",
     "text": [
      "[Parallel(n_jobs=1)]: Using backend SequentialBackend with 1 concurrent workers.\n",
      "[Parallel(n_jobs=1)]: Done  12 out of  12 | elapsed:    0.0s finished\n"
     ]
    }
   ],
   "source": [
    "# Import necessary modules\n",
    "from rasa_nlu.training_data import load_data\n",
    "from rasa_nlu.config import RasaNLUModelConfig\n",
    "from rasa_nlu.model import Trainer\n",
    "from rasa_nlu import config\n",
    "\n",
    "# Create a trainer that uses this config\n",
    "trainer = Trainer(config.load(r\"\\Users\\lklio\\Documents\\ai\\nlu.yml\"))\n",
    "\n",
    "# Load the training data\n",
    "training_data = load_data(r'C:\\Users\\lklio\\Documents\\ai\\nlu.md')\n",
    "\n",
    "# Create an interpreter by training the model\n",
    "interpreter = trainer.train(training_data)"
   ]
  },
  {
   "cell_type": "code",
   "execution_count": 37,
   "metadata": {},
   "outputs": [],
   "source": [
    "message = \"I want a high rating hotel in Las Vegas city\""
   ]
  },
  {
   "cell_type": "code",
   "execution_count": 38,
   "metadata": {},
   "outputs": [
    {
     "data": {
      "text/plain": [
       "{'intent': {'name': 'restaurant_search', 'confidence': 0.5243401685203588},\n",
       " 'entities': [],\n",
       " 'intent_ranking': [{'name': 'restaurant_search',\n",
       "   'confidence': 0.5243401685203588},\n",
       "  {'name': 'hotel_search', 'confidence': 0.1388587827426688},\n",
       "  {'name': 'greet', 'confidence': 0.10472884516199767},\n",
       "  {'name': 'affirm', 'confidence': 0.09992739631875726},\n",
       "  {'name': 'goodbye', 'confidence': 0.08435939724122694},\n",
       "  {'name': 'location', 'confidence': 0.047785410014990266}],\n",
       " 'text': 'I want a high rating hotel in Las Vegas city'}"
      ]
     },
     "execution_count": 38,
     "metadata": {},
     "output_type": "execute_result"
    }
   ],
   "source": [
    "data = interpreter.parse(message)\n",
    "data"
   ]
  },
  {
   "cell_type": "code",
   "execution_count": 39,
   "metadata": {},
   "outputs": [
    {
     "data": {
      "text/plain": [
       "{}"
      ]
     },
     "execution_count": 39,
     "metadata": {},
     "output_type": "execute_result"
    }
   ],
   "source": [
    "params = {}\n",
    "for ent in data[\"entities\"]:\n",
    "    params[ent[\"entity\"]] = ent[\"value\"]\n",
    "params"
   ]
  },
  {
   "cell_type": "code",
   "execution_count": 90,
   "metadata": {},
   "outputs": [],
   "source": [
    "## Creating a query from parameters"
   ]
  },
  {
   "cell_type": "code",
   "execution_count": 91,
   "metadata": {},
   "outputs": [],
   "source": [
    "query = \"select name FROM hotels\""
   ]
  },
  {
   "cell_type": "code",
   "execution_count": 92,
   "metadata": {},
   "outputs": [],
   "source": [
    "filters = [\"{}=?\".format(k) for k in params.keys()]"
   ]
  },
  {
   "cell_type": "code",
   "execution_count": 93,
   "metadata": {},
   "outputs": [
    {
     "data": {
      "text/plain": [
       "['location=?']"
      ]
     },
     "execution_count": 93,
     "metadata": {},
     "output_type": "execute_result"
    }
   ],
   "source": [
    "filters"
   ]
  },
  {
   "cell_type": "code",
   "execution_count": 94,
   "metadata": {},
   "outputs": [],
   "source": [
    "conditions = \" and \".join(filters)"
   ]
  },
  {
   "cell_type": "code",
   "execution_count": 73,
   "metadata": {},
   "outputs": [
    {
     "data": {
      "text/plain": [
       "'location=?'"
      ]
     },
     "execution_count": 73,
     "metadata": {},
     "output_type": "execute_result"
    }
   ],
   "source": [
    "conditions"
   ]
  },
  {
   "cell_type": "code",
   "execution_count": 74,
   "metadata": {},
   "outputs": [],
   "source": [
    "final_q = \" WHERE \".join([query, conditions])"
   ]
  },
  {
   "cell_type": "code",
   "execution_count": 75,
   "metadata": {},
   "outputs": [
    {
     "data": {
      "text/plain": [
       "'select name FROM hotels WHERE location=?'"
      ]
     },
     "execution_count": 75,
     "metadata": {},
     "output_type": "execute_result"
    }
   ],
   "source": [
    "final_q"
   ]
  },
  {
   "cell_type": "code",
   "execution_count": 76,
   "metadata": {},
   "outputs": [],
   "source": [
    "## Responses"
   ]
  },
  {
   "cell_type": "code",
   "execution_count": 77,
   "metadata": {},
   "outputs": [],
   "source": [
    "responses = [\n",
    "    \"I'm sorry :( I couldn't find anything like that\",  \n",
    "    \"what about {}?\",\n",
    "    \"{} is one option, but I know others too :)\"\n",
    "]"
   ]
  },
  {
   "cell_type": "code",
   "execution_count": 78,
   "metadata": {},
   "outputs": [],
   "source": [
    "results = c.fetchall() "
   ]
  },
  {
   "cell_type": "code",
   "execution_count": 79,
   "metadata": {},
   "outputs": [
    {
     "data": {
      "text/plain": [
       "0"
      ]
     },
     "execution_count": 79,
     "metadata": {},
     "output_type": "execute_result"
    }
   ],
   "source": [
    "len(results)"
   ]
  },
  {
   "cell_type": "code",
   "execution_count": 80,
   "metadata": {},
   "outputs": [],
   "source": [
    "index = min(len(results), len(responses)-1)  "
   ]
  },
  {
   "cell_type": "code",
   "execution_count": 81,
   "metadata": {},
   "outputs": [
    {
     "data": {
      "text/plain": [
       "\"I'm sorry :( I couldn't find anything like that\""
      ]
     },
     "execution_count": 81,
     "metadata": {},
     "output_type": "execute_result"
    }
   ],
   "source": [
    "responses[index]"
   ]
  },
  {
   "cell_type": "code",
   "execution_count": null,
   "metadata": {},
   "outputs": [],
   "source": [
    "## Basic Memory"
   ]
  },
  {
   "cell_type": "code",
   "execution_count": null,
   "metadata": {},
   "outputs": [],
   "source": [
    "def respond(message, params):\n",
    "    # update params with entities in message   \n",
    "    # run query\n",
    "    # pick response\n",
    "    return response, params"
   ]
  },
  {
   "cell_type": "code",
   "execution_count": null,
   "metadata": {},
   "outputs": [],
   "source": [
    "# initialise params. params has memory\n",
    "params = {}"
   ]
  },
  {
   "cell_type": "code",
   "execution_count": null,
   "metadata": {},
   "outputs": [],
   "source": [
    "# message comes in\n",
    "response, params = respond(message, params)"
   ]
  },
  {
   "cell_type": "code",
   "execution_count": null,
   "metadata": {},
   "outputs": [],
   "source": [
    "## Catching negations\n",
    "import spacy\n",
    "nlp = spacy.load(\"en_core_web_md\")"
   ]
  },
  {
   "cell_type": "code",
   "execution_count": null,
   "metadata": {},
   "outputs": [],
   "source": [
    "doc = nlp('not sushi, maybe pizza?')"
   ]
  },
  {
   "cell_type": "code",
   "execution_count": null,
   "metadata": {},
   "outputs": [],
   "source": [
    "indices = [1, 4]"
   ]
  },
  {
   "cell_type": "code",
   "execution_count": null,
   "metadata": {},
   "outputs": [],
   "source": [
    "ents, negated_ents = [], []"
   ]
  },
  {
   "cell_type": "code",
   "execution_count": null,
   "metadata": {},
   "outputs": [],
   "source": [
    "start = 0\n",
    "for i in indices:\n",
    "    phrase = \"{}\".format(doc[start:i])\n",
    "    if \"not\" in phrase or \"n't\" in phrase: \n",
    "        negated_ents.append(doc[i])\n",
    "        print(negated_ents)\n",
    "    else:\n",
    "        ents.append(doc[i])\n",
    "        print(ents)\n",
    "        start = i\n",
    "\n",
    "print(ents)\n",
    "print(negated_ents)"
   ]
  },
  {
   "cell_type": "code",
   "execution_count": null,
   "metadata": {},
   "outputs": [],
   "source": []
  }
 ],
 "metadata": {
  "kernelspec": {
   "display_name": "Python 3",
   "language": "python",
   "name": "python3"
  },
  "language_info": {
   "codemirror_mode": {
    "name": "ipython",
    "version": 3
   },
   "file_extension": ".py",
   "mimetype": "text/x-python",
   "name": "python",
   "nbconvert_exporter": "python",
   "pygments_lexer": "ipython3",
   "version": "3.7.3"
  }
 },
 "nbformat": 4,
 "nbformat_minor": 2
}
