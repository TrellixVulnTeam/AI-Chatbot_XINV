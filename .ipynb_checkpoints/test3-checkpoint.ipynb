{
 "cells": [
  {
   "cell_type": "code",
   "execution_count": 32,
   "metadata": {},
   "outputs": [],
   "source": [
    "#### Virtual assistants and  accessing data"
   ]
  },
  {
   "cell_type": "code",
   "execution_count": 33,
   "metadata": {},
   "outputs": [],
   "source": [
    "## SQL statements in Python "
   ]
  },
  {
   "cell_type": "code",
   "execution_count": 2,
   "metadata": {},
   "outputs": [
    {
     "name": "stdout",
     "output_type": "stream",
     "text": [
      "[('Jaffotel Mesa Hotel', 'mid', 'TRUE', '1563 S Gilbert Rd\\nMesa, AZ 85204', 'free', 'TRUE', 'Mesa', 3.0, 'mid'), ('Courtyard Phoenix Mesa', 'mid', 'TRUE', '1221 South Westwood\\nMesa, AZ 85210', 'free', 'TRUE', 'Mesa', 3.0, 'mid'), ('Fairfield Inn by Marriott', 'mid', 'TRUE', '1405 S Westwood\\nMesa, AZ 85210', 'free', 'TRUE', 'Mesa', 3.0, 'mid'), ('Hilton P H X East-Mesa', 'mid', 'TRUE', '1011 W Holmes Ave\\nMesa, AZ 85210', 'free', 'TRUE', 'Mesa', 3.0, 'mid'), ('BEST WESTERN Mezona Inn', 'mid', 'TRUE', '250 W Main St\\nMesa, AZ 85201', 'free', 'TRUE', 'Mesa', 3.0, 'mid'), ('Phoenix Marriott Mesa', 'mid', 'TRUE', '200 N Centennial Way\\nMesa, AZ 85201', 'free', 'TRUE', 'Mesa', 3.0, 'mid'), ('BEST WESTERN Legacy Inn & Suites', 'mid', 'TRUE', '4470 S Power Rd\\nMesa, AZ 85212', 'free', 'TRUE', 'Mesa', 3.0, 'mid'), ('Westgate Painted Mountain Golf', 'mid', 'TRUE', '6302 E McKellips Rd\\nMesa, AZ 85215', 'paid', 'TRUE', 'Mesa', 3.0, 'mid'), ('Country Inn & Suites by Carlson-Mesa', 'hi', 'TRUE', '6650 E Superstition Springs\\nMesa, AZ 85206', 'free', 'TRUE', 'Mesa', 3.0, 'mid'), ('BEST WESTERN Superstition Springs Inn', 'lo', 'TRUE', '1342 S Power Rd\\nMesa, AZ 85206', 'no', 'TRUE', 'Mesa', 3.5, 'mid'), ('American Executive Inn', 'lo', 'TRUE', '1554 W Main St\\nMesa, AZ 85201', 'free', 'TRUE', 'Mesa', 3.5, 'mid'), ('Super 8 Mesa / Gilbert', 'mid', 'TRUE', '1550 S. Gilbert Rd.\\nMesa, AZ 85204', 'free', 'TRUE', 'Mesa', 3.5, 'mid'), ('Sleep Inn Mesa', 'mid', 'TRUE', '6347 E Southern Avenue\\nMesa, AZ 85206', 'free', 'TRUE', 'Mesa', 3.5, 'mid'), ('Hilton Hotel', 'mid', 'TRUE', '1011 W Holmes Ave\\nMesa, AZ 85210', 'paid', 'TRUE', 'Mesa', 3.5, 'mid'), ('La Quinta Inn & Suites Phoenix Mesa West', 'mid', 'TRUE', '902 West Grove Ave\\nMesa, AZ 85210', 'free', 'TRUE', 'Mesa', 3.5, 'mid')]\n"
     ]
    }
   ],
   "source": [
    "# Import sqlite3\n",
    "import sqlite3\n",
    "\n",
    "# Open connection to DB\n",
    "conn = sqlite3.connect('yelp2.db')\n",
    "\n",
    "# Create a cursor\n",
    "c = conn.cursor()\n",
    "\n",
    "# Define area and ratings\n",
    "location, ratings = \"Mesa\", \"mid\"\n",
    "t = (location, ratings)\n",
    "\n",
    "# Execute the query\n",
    "c.execute('SELECT * FROM yelp2 WHERE location=? AND ratings=?', t)\n",
    "\n",
    "# Print the results\n",
    "print(c.fetchall())"
   ]
  },
  {
   "cell_type": "code",
   "execution_count": 3,
   "metadata": {},
   "outputs": [],
   "source": [
    "## Creating queries from parameters"
   ]
  },
  {
   "cell_type": "code",
   "execution_count": 4,
   "metadata": {},
   "outputs": [],
   "source": [
    "# Define find_hotels()\n",
    "def find_hotels(params):\n",
    "    # Create the base query\n",
    "    query = 'SELECT * FROM yelp2'\n",
    "    # Add filter clauses for each of the parameters\n",
    "    if len(params) > 0:\n",
    "        filters = [\"{}=?\".format(k) for k in params]\n",
    "        query += \" WHERE \" + \" and \".join(filters)\n",
    "    # Create the tuple of values\n",
    "    t = tuple(params.values())\n",
    "    \n",
    "    # Open connection to DB\n",
    "    conn = sqlite3.connect(\"yelp2.db\")\n",
    "    # Create a cursor\n",
    "    c = conn.cursor()\n",
    "    # Execute the query\n",
    "    c.execute(query,t)\n",
    "    # Return the results\n",
    "    return c.fetchall()"
   ]
  },
  {
   "cell_type": "code",
   "execution_count": 5,
   "metadata": {},
   "outputs": [],
   "source": [
    "## Using your custom function to find hotels"
   ]
  },
  {
   "cell_type": "code",
   "execution_count": 6,
   "metadata": {},
   "outputs": [
    {
     "name": "stdout",
     "output_type": "stream",
     "text": [
      "[('La Quinta Inn & Suites Las Vegas Summerlin Tech', 'mid', 'TRUE', '7101 Cascade Valley Ct\\nLas Vegas, NV 89128', 'free', 'TRUE', 'Las Vegas', 3.0, 'mid'), ('Club De Soleil', 'mid', 'TRUE', '5625 W Tropicana Ave\\nLas Vegas, NV 89103', 'paid', 'TRUE', 'Las Vegas', 3.0, 'mid'), ('Blue Moon Resort', 'mid', 'TRUE', '2651 Westwood Dr\\nLas Vegas, NV 89109', 'free', 'TRUE', 'Las Vegas', 3.0, 'mid'), ('Fairfield Inn Marriott', 'mid', 'TRUE', '3850 Paradise Road\\nEastside\\nLas Vegas, NV 89169', 'free', 'TRUE', 'Las Vegas', 3.0, 'mid'), (\"Hitchin' Post Rv Park\", 'mid', 'TRUE', '3640 Las Vegas Boulevard N\\nLas Vegas, NV 89115', 'free', 'TRUE', 'Las Vegas', 3.0, 'mid'), ('Best Western McCarran Inn', 'mid', 'TRUE', '4970 Paradise Rd\\nSoutheast\\nLas Vegas, NV 89119', 'free', 'TRUE', 'Las Vegas', 3.0, 'mid'), ('Cancun Resort', 'mid', 'TRUE', '8335 Las Vegas Blvd S\\nSoutheast\\nLas Vegas, NV 89123', 'paid', 'TRUE', 'Las Vegas', 3.0, 'mid'), ('Emerald Suites', 'mid', 'TRUE', '4777 Cameron Street\\nLas Vegas, NV 89103', 'free', 'TRUE', 'Las Vegas', 3.0, 'mid'), ('Grandview Resorts at Las Vegas', 'mid', 'TRUE', '9940 Las Vegas Blvd S\\nSoutheast\\nLas Vegas, NV 89183', 'paid', 'TRUE', 'Las Vegas', 3.0, 'mid'), ('Rumor Boutique Resort', 'mid', 'TRUE', '455 E Harmon Ave\\nEastside\\nLas Vegas, NV 89169', 'free', 'TRUE', 'Las Vegas', 3.0, 'mid'), ('Ramada Las Vegas', 'mid', 'TRUE', '325 E Flamingo Rd\\nEastside\\nLas Vegas, NV 89169', 'free', 'TRUE', 'Las Vegas', 3.0, 'mid'), ('Extended Stay America - Las Vegas - Valley View', 'mid', 'TRUE', '4270 S. Valley View Blvd.\\nLas Vegas, NV 89103', 'paid', 'TRUE', 'Las Vegas', 3.0, 'mid'), ('Luxury Suites International', 'mid', 'TRUE', '145 E Harmon Ave\\nEastside\\nLas Vegas, NV 89109', 'free', 'TRUE', 'Las Vegas', 3.0, 'mid'), ('Westgate Flamingo Bay', 'mid', 'TRUE', '5625 W Flamingo Rd\\nLas Vegas, NV 89103', 'free', 'TRUE', 'Las Vegas', 3.0, 'mid'), ('Baymont Inn And Suites Las Vegas', 'mid', 'TRUE', '55 E Robindale Rd\\nSoutheast\\nLas Vegas, NV 89123', 'free', 'TRUE', 'Las Vegas', 3.0, 'mid'), ('Hampton Inn Tropicana', 'mid', 'TRUE', '4975 S Dean Martin Dr\\nLas Vegas, NV 89118', 'free', 'TRUE', 'Las Vegas', 3.5, 'mid'), ('Polo Towers', 'mid', 'TRUE', '3745 Las Vegas Blvd S\\nThe Strip\\nLas Vegas, NV 89109', 'paid', 'TRUE', 'Las Vegas', 3.5, 'mid'), ('Residence Inn Las Vegas - Hughes Center', 'mid', 'TRUE', '370 Hughes Center Dr\\nEastside\\nLas Vegas, NV 89169', 'free', 'TRUE', 'Las Vegas', 3.5, 'mid'), ('Las Vegas Marriott', 'mid', 'TRUE', '325 Convention Center Drive\\nEastside\\nLas Vegas, NV 89109', 'paid', 'TRUE', 'Las Vegas', 3.5, 'mid'), ('Somerset House Motel', 'mid', None, '294 Convention Center Dr\\nEastside\\nLas Vegas, NV 89109', None, 'TRUE', 'Las Vegas', 3.5, 'mid'), ('Embassy Suites Convention Center Las Vegas', 'mid', 'TRUE', '3600 Paradise Rd\\nEastside\\nLas Vegas, NV 89169', 'free', 'TRUE', 'Las Vegas', 3.5, 'mid'), ('Hampton Inn', 'mid', 'TRUE', '7100 Cascade Valley Ct\\nLas Vegas, NV 89128', 'free', 'TRUE', 'Las Vegas', 3.5, 'mid'), ('Motel 6', 'mid', 'TRUE', '4125 Boulder Hwy\\nLas Vegas, NV 89121', 'paid', 'TRUE', 'Las Vegas', 3.5, 'mid'), ('Cliffs At Peace Canyon', 'mid', 'TRUE', '4550 S Grand Canyon Dr\\nSpring Valley\\nLas Vegas, NV 89147', 'paid', 'TRUE', 'Las Vegas', 3.5, 'mid'), ('The Jockey Club', 'mid', 'TRUE', '3700 Las Vegas Blvd S\\nThe Strip\\nLas Vegas, NV 89109', 'free', 'TRUE', 'Las Vegas', 3.5, 'mid'), ('Hilton Grand Vacations Suites', 'mid', 'TRUE', '2650 Las Vegas Blvd S\\nThe Strip\\nLas Vegas, NV 89109', 'free', 'TRUE', 'Las Vegas', 3.5, 'mid'), ('Residence Inn Las Vegas - Convention Center', 'mid', 'TRUE', '3225 Paradise Road\\nEastside\\nLas Vegas, NV 89109', 'free', 'TRUE', 'Las Vegas', 3.5, 'mid'), ('Courtyard Las Vegas - Summerlin', 'mid', 'TRUE', '1901 North Rainbow Blvd\\nLas Vegas, NV 89108', 'free', 'TRUE', 'Las Vegas', 3.5, 'mid'), ('The Meridian', 'mid', 'TRUE', '230 E Flamingo Rd\\nEastside\\nLas Vegas, NV 89169', None, 'FALSE', 'Las Vegas', 3.5, 'mid'), ('Hilton Garden Inn Las Vegas Strip South', 'mid', 'TRUE', '7830 S Las Vegas Blvd\\nSoutheast\\nLas Vegas, NV 89123', 'free', 'TRUE', 'Las Vegas', 3.5, 'mid'), ('Residence Inn Las Vegas South', 'mid', 'TRUE', '5875 Dean Martin Dr\\nLas Vegas, NV 89118', 'free', 'TRUE', 'Las Vegas', 3.5, 'mid'), ('Atrium Suites Hotel', 'mid', None, '4255 Paradise Rd\\nEastside\\nLas Vegas, NV 89169', None, 'FALSE', 'Las Vegas', 3.5, 'mid'), ('Fairfield Inn & Suites', 'mid', 'TRUE', '5775 Dean Martin Dr\\nLas Vegas, NV 89118', 'free', 'TRUE', 'Las Vegas', 3.5, 'mid'), ('Double Tree Club Las Vegas Airport', 'mid', 'TRUE', '7250 Pollock Dr\\nSoutheast\\nLas Vegas, NV 89119', 'paid', 'TRUE', 'Las Vegas', 3.5, 'mid'), ('Homewood Suites by Hilton', 'mid', 'TRUE', '230 Hidden Well Rd\\nSoutheast\\nLas Vegas, NV 89119', 'free', 'TRUE', 'Las Vegas', 3.5, 'mid'), ('Hilton Grand Vacations Suites at the Flamingo', 'mid', 'TRUE', '3575 Las Vegas Blvd S\\nThe Strip\\nLas Vegas, NV 89109', 'free', 'TRUE', 'Las Vegas', 3.5, 'mid'), ('Planet Hollywood Towers', 'mid', 'TRUE', 'Westgate Resorts\\n80 E Harmon Ave\\nEastside\\nLas Vegas, NV 89109', 'paid', 'FALSE', 'Las Vegas', 3.5, 'mid'), ('Best Western Plus', 'mid', 'TRUE', '8669 W Sahara Ave\\nThe Lakes\\nLas Vegas, NV 89117', 'free', 'TRUE', 'Las Vegas', 3.5, 'mid'), ('Elara a Hilton Grand Vacations Club', 'mid', 'TRUE', '80 E Harmon Ave\\nEastside\\nLas Vegas, NV 89109', 'paid', 'TRUE', 'Las Vegas', 3.5, 'mid'), ('Baymont Inn And Suites Las Vegas', 'mid', 'TRUE', '4055 Palos Verdes St.\\nEastside\\nLas Vegas, NV 89119', 'free', 'TRUE', 'Las Vegas', 3.5, 'mid'), ('Crossland Economy Studios - Las Vegas', 'mid', 'TRUE', '4240 Boulder Highway\\nLas Vegas, NV 89121', 'free', 'TRUE', 'Las Vegas', 3.5, 'mid'), ('Red Roof Inn', 'mid', 'TRUE', '4350 Paradise Rd\\nEastside\\nLas Vegas, NV 89169', 'free', 'TRUE', 'Las Vegas', 3.5, 'mid'), ('The Hotel at Mandalay Bay', 'mid', 'TRUE', '3950 Las Vegas Blvd S\\nNorthwest\\nLas Vegas, NV 89119', 'free', 'TRUE', 'Las Vegas', 3.5, 'mid')]\n"
     ]
    }
   ],
   "source": [
    "# Create the dictionary of column names and values\n",
    "params = {\"location\": \"Las Vegas\",\"ratings\": \"mid\",\"price\":\"mid\"}\n",
    "\n",
    "# Find the hotels that match the parameters\n",
    "print(find_hotels(params))"
   ]
  },
  {
   "cell_type": "code",
   "execution_count": 7,
   "metadata": {},
   "outputs": [],
   "source": [
    "## Creating SQL from natural language"
   ]
  },
  {
   "cell_type": "code",
   "execution_count": 8,
   "metadata": {},
   "outputs": [
    {
     "name": "stderr",
     "output_type": "stream",
     "text": [
      "C:\\Users\\lklio\\Anaconda3\\lib\\site-packages\\rasa_nlu\\training_data\\training_data.py:184: UserWarning: Entity 'cuisine' has only 1 training examples! minimum is 2, training may fail.\n",
      "  self.MIN_EXAMPLES_PER_ENTITY))\n",
      "C:\\Users\\lklio\\Anaconda3\\lib\\site-packages\\rasa_nlu\\training_data\\training_data.py:184: UserWarning: Entity 'rating' has only 1 training examples! minimum is 2, training may fail.\n",
      "  self.MIN_EXAMPLES_PER_ENTITY))\n",
      "C:\\Users\\lklio\\Anaconda3\\lib\\site-packages\\rasa_nlu\\training_data\\training_data.py:184: UserWarning: Entity 'wifi' has only 1 training examples! minimum is 2, training may fail.\n",
      "  self.MIN_EXAMPLES_PER_ENTITY))\n"
     ]
    },
    {
     "name": "stdout",
     "output_type": "stream",
     "text": [
      "Fitting 2 folds for each of 6 candidates, totalling 12 fits\n"
     ]
    },
    {
     "name": "stderr",
     "output_type": "stream",
     "text": [
      "[Parallel(n_jobs=1)]: Using backend SequentialBackend with 1 concurrent workers.\n",
      "C:\\Users\\lklio\\Anaconda3\\lib\\site-packages\\sklearn\\metrics\\classification.py:1143: UndefinedMetricWarning: F-score is ill-defined and being set to 0.0 in labels with no predicted samples.\n",
      "  'precision', 'predicted', average, warn_for)\n",
      "C:\\Users\\lklio\\Anaconda3\\lib\\site-packages\\sklearn\\metrics\\classification.py:1143: UndefinedMetricWarning: F-score is ill-defined and being set to 0.0 in labels with no predicted samples.\n",
      "  'precision', 'predicted', average, warn_for)\n",
      "C:\\Users\\lklio\\Anaconda3\\lib\\site-packages\\sklearn\\metrics\\classification.py:1143: UndefinedMetricWarning: F-score is ill-defined and being set to 0.0 in labels with no predicted samples.\n",
      "  'precision', 'predicted', average, warn_for)\n",
      "C:\\Users\\lklio\\Anaconda3\\lib\\site-packages\\sklearn\\metrics\\classification.py:1143: UndefinedMetricWarning: F-score is ill-defined and being set to 0.0 in labels with no predicted samples.\n",
      "  'precision', 'predicted', average, warn_for)\n",
      "C:\\Users\\lklio\\Anaconda3\\lib\\site-packages\\sklearn\\metrics\\classification.py:1143: UndefinedMetricWarning: F-score is ill-defined and being set to 0.0 in labels with no predicted samples.\n",
      "  'precision', 'predicted', average, warn_for)\n",
      "C:\\Users\\lklio\\Anaconda3\\lib\\site-packages\\sklearn\\metrics\\classification.py:1143: UndefinedMetricWarning: F-score is ill-defined and being set to 0.0 in labels with no predicted samples.\n",
      "  'precision', 'predicted', average, warn_for)\n",
      "[Parallel(n_jobs=1)]: Done  12 out of  12 | elapsed:    0.1s finished\n"
     ]
    }
   ],
   "source": [
    "# Import necessary modules\n",
    "from rasa_nlu.training_data import load_data\n",
    "from rasa_nlu.config import RasaNLUModelConfig\n",
    "from rasa_nlu.model import Trainer\n",
    "from rasa_nlu import config\n",
    "\n",
    "# Create a trainer that uses this config\n",
    "trainer = Trainer(config.load(r\"\\Users\\lklio\\Documents\\ai\\rasa_nlu-master\\sample_configs\\config_spacy.yml\"))\n",
    "\n",
    "# Load the training data\n",
    "training_data = load_data(r'C:\\Users\\lklio\\Documents\\ai\\nlu.md')\n",
    "\n",
    "# Create an interpreter by training the model\n",
    "interpreter = trainer.train(training_data)\n",
    "\n",
    "responses = [\n",
    "    \"I'm sorry :( I couldn't find anything like that\", \n",
    "    '{} is a great hotel!', \n",
    "    '{} or {} would work!', \n",
    "    '{} is one option, but I know others too :)'\n",
    "]"
   ]
  },
  {
   "cell_type": "code",
   "execution_count": 9,
   "metadata": {},
   "outputs": [
    {
     "name": "stdout",
     "output_type": "stream",
     "text": [
      "I'm sorry :( I couldn't find anything like that\n"
     ]
    }
   ],
   "source": [
    "# Define respond()\n",
    "def respond(message):\n",
    "    # Extract the entities\n",
    "    entities = interpreter.parse(message)[\"entities\"]\n",
    "    # Initialize an empty params dictionary\n",
    "    params = {}\n",
    "    # Fill the dictionary with entities\n",
    "    for ent in entities:\n",
    "        params[ent[\"entity\"]] = str(ent[\"value\"])\n",
    "\n",
    "    # Find hotels that match the dictionary\n",
    "    results = find_hotels(params)\n",
    "    # Get the names of the hotels and index of the response\n",
    "    names = [r[0] for r in results]\n",
    "    index = min(len(results),3)\n",
    "    # Select the nth element of the responses array\n",
    "    return responses[index].format(*names)\n",
    "\n",
    "print(respond(\"I want a cheap hotel in Las Vegas\"))"
   ]
  },
  {
   "cell_type": "code",
   "execution_count": 46,
   "metadata": {},
   "outputs": [],
   "source": [
    "#### Incremental slot filling and negation"
   ]
  },
  {
   "cell_type": "code",
   "execution_count": 47,
   "metadata": {},
   "outputs": [],
   "source": [
    "## Refining your search"
   ]
  },
  {
   "cell_type": "code",
   "execution_count": 48,
   "metadata": {},
   "outputs": [
    {
     "name": "stdout",
     "output_type": "stream",
     "text": [
      "USER: I want an expensive hotel\n",
      "BOT: Superstition Inn and Suites is one option, but I know others too :)\n",
      "USER: in the north of town\n",
      "BOT: I'm sorry :( I couldn't find anything like that\n"
     ]
    }
   ],
   "source": [
    "# Define a respond function, taking the message and existing params as input\n",
    "def respond(message, params):\n",
    "    # Extract the entities\n",
    "    entities = interpreter.parse(message)[\"entities\"]\n",
    "    # Fill the dictionary with entities\n",
    "    for ent in entities:\n",
    "        params[ent[\"entity\"]] = str(ent[\"value\"])\n",
    "\n",
    "    # Find the hotels\n",
    "    results = find_hotels(params)\n",
    "    names = [r[0] for r in results]\n",
    "    n = min(len(results), 3)\n",
    "    # Return the appropriate response\n",
    "    return responses[n].format(*names), params\n",
    "\n",
    "# Initialize params dictionary\n",
    "params = {}\n",
    "\n",
    "# Pass the messages to the bot\n",
    "for message in [\"I want an expensive hotel\", \"in the north of town\"]:\n",
    "    print(\"USER: {}\".format(message))\n",
    "    response, params = respond(message, params)\n",
    "    print(\"BOT: {}\".format(response))"
   ]
  },
  {
   "cell_type": "code",
   "execution_count": 49,
   "metadata": {},
   "outputs": [],
   "source": [
    "## Basic negation"
   ]
  },
  {
   "cell_type": "code",
   "execution_count": 50,
   "metadata": {},
   "outputs": [],
   "source": [
    "tests= [\n",
    "    (\"no I don't want to be in the south\", {'south': False}), \n",
    "    ('no it should be in the south', {'south': True}), \n",
    "    ('no in the south not the north', {'north': False, 'south': True}), \n",
    "    ('not north', {'north': False})\n",
    "]"
   ]
  },
  {
   "cell_type": "code",
   "execution_count": 14,
   "metadata": {},
   "outputs": [],
   "source": [
    "## Filtering with excluded slots"
   ]
  },
  {
   "cell_type": "code",
   "execution_count": 15,
   "metadata": {},
   "outputs": [],
   "source": [
    "def negated_ents(phrase, ent_vals):\n",
    "    ents = [e for e in ent_vals if e in phrase]\n",
    "    ends = sorted([phrase.index(e) + len(e) for e in ents])\n",
    "    start = 0\n",
    "    chunks = []\n",
    "    for end in ends:\n",
    "        chunks.append(phrase[start:end])\n",
    "        start = end\n",
    "    result = {}\n",
    "    for chunk in chunks:\n",
    "        for ent in ents:\n",
    "            if ent in chunk:\n",
    "                if \"not\" in chunk or \"n't\" in chunk:\n",
    "                    result[ent] = False\n",
    "                else:\n",
    "                    result[ent] = True\n",
    "    return result\n",
    "\n",
    "def find_hotels(params, neg_params):\n",
    "    query = 'SELECT * FROM hotels'\n",
    "    if len(params) > 0:\n",
    "        filters = [\"{}=?\".format(k) for k in params] + [\"{}!=?\".format(k) for k in neg_params] \n",
    "        query += \" WHERE \" + \" and \".join(filters)\n",
    "    t = tuple(params.values())\n",
    "    \n",
    "    # open connection to DB\n",
    "    conn = sqlite3.connect('hotels.db')\n",
    "    # create a cursor\n",
    "    c = conn.cursor()\n",
    "    c.execute(query, t)\n",
    "    return c.fetchall()"
   ]
  },
  {
   "cell_type": "code",
   "execution_count": 16,
   "metadata": {},
   "outputs": [
    {
     "name": "stdout",
     "output_type": "stream",
     "text": [
      "USER: I want a cheap hotel\n",
      "BOT: Cozy Cottage is a great hotel!\n",
      "USER: but not in the north of town\n",
      "BOT: I'm sorry :( I couldn't find anything like that\n"
     ]
    }
   ],
   "source": [
    "# Define the respond function\n",
    "def respond(message, params, neg_params):\n",
    "    # Extract the entities\n",
    "    entities = interpreter.parse(message)[\"entities\"]\n",
    "    ent_vals = [e[\"value\"] for e in entities]\n",
    "    # Look for negated entities\n",
    "    negated = negated_ents(message, ent_vals)\n",
    "    for ent in entities:\n",
    "        if ent[\"value\"] in negated and negated[ent[\"value\"]]:\n",
    "            neg_params[ent[\"entity\"]] = str(ent[\"value\"])\n",
    "        else:\n",
    "            params[ent[\"entity\"]] = str(ent[\"value\"])\n",
    "    # Find the hotels\n",
    "    results = find_hotels(params, neg_params)\n",
    "    names = [r[0] for r in results]\n",
    "    n = min(len(results),3)\n",
    "    # Return the correct response\n",
    "    return responses[n].format(*names), params, neg_params\n",
    "\n",
    "# Initialize params and neg_params\n",
    "params = {}\n",
    "neg_params = {}\n",
    "\n",
    "# Pass the messages to the bot\n",
    "for message in [\"I want a cheap hotel\", \"but not in the north of town\"]:\n",
    "    print(\"USER: {}\".format(message))\n",
    "    response, params, neg_params = respond(message, params, neg_params)\n",
    "    print(\"BOT: {}\".format(response))\n"
   ]
  },
  {
   "cell_type": "code",
   "execution_count": null,
   "metadata": {},
   "outputs": [],
   "source": []
  },
  {
   "cell_type": "code",
   "execution_count": null,
   "metadata": {},
   "outputs": [],
   "source": []
  }
 ],
 "metadata": {
  "kernelspec": {
   "display_name": "Python 3",
   "language": "python",
   "name": "python3"
  },
  "language_info": {
   "codemirror_mode": {
    "name": "ipython",
    "version": 3
   },
   "file_extension": ".py",
   "mimetype": "text/x-python",
   "name": "python",
   "nbconvert_exporter": "python",
   "pygments_lexer": "ipython3",
   "version": "3.7.3"
  }
 },
 "nbformat": 4,
 "nbformat_minor": 2
}
