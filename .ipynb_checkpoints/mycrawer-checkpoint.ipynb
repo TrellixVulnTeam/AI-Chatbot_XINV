{
 "cells": [
  {
   "cell_type": "code",
   "execution_count": 19,
   "metadata": {},
   "outputs": [],
   "source": [
    "from selenium import webdriver\n",
    "from selenium.webdriver.support.wait import WebDriverWait\n",
    "import requests\n",
    "from bs4 import BeautifulSoup\n",
    "import json\n",
    "import math\n",
    "import sqlite3"
   ]
  },
  {
   "cell_type": "code",
   "execution_count": 20,
   "metadata": {},
   "outputs": [
    {
     "data": {
      "text/plain": [
       "True"
      ]
     },
     "execution_count": 20,
     "metadata": {},
     "output_type": "execute_result"
    }
   ],
   "source": [
    "driver = webdriver.Chrome()\n",
    "driver.get('https://www.booking.com')\n",
    "city = \"Las Vegas\"\n",
    "driver.find_element_by_id('ss').send_keys(city)\n",
    "\n",
    "driver.find_element_by_class_name(\"sb-searchbox__button\").click()\n",
    "\n",
    "WebDriverWait(driver, 10).until(lambda d: d.execute_script('return document.readyState') == 'complete')\n"
   ]
  },
  {
   "cell_type": "code",
   "execution_count": 21,
   "metadata": {},
   "outputs": [],
   "source": [
    "headers = {\n",
    "\"User-Agent\":\n",
    "    \"Mozilla/5.0 (Windows NT 6.3; WOW64) AppleWebKit/537.36 (KHTML, like Gecko) Chrome/44.0.2403.157 Safari/537.36\"\n",
    "}\n",
    "\n",
    "\n",
    "\n",
    "s = requests.session()\n",
    "s.headers.update(headers)\n",
    "#pass cookie to requests\n",
    "for cookie in driver.get_cookies():\n",
    "    c = {cookie['name']: cookie['value']}\n",
    "    s.cookies.update(c)\n",
    "    \n",
    "\n",
    "\n",
    "html = driver.page_source\n",
    "#print(html)\n",
    "\n",
    "soup=BeautifulSoup(html,'html.parser')"
   ]
  },
  {
   "cell_type": "code",
   "execution_count": 22,
   "metadata": {},
   "outputs": [],
   "source": [
    "def getnum(soup): \n",
    "    indexconta = []\n",
    "    pagenum = soup.find_all('li',class_='bui-pagination__item sr_pagination_item')\n",
    "    maxnum = int(5);\n",
    "    for num in pagenum:       #find page number\n",
    "        index = num.find('div',class_='bui-u-inline')\n",
    "        index = index.get_text()\n",
    "        index = int(index)\n",
    "        indexconta.append(index)\n",
    "    if max(indexconta) < maxnum:\n",
    "        return(max(indexconta))\n",
    "    else:\n",
    "        return(maxnum);"
   ]
  },
  {
   "cell_type": "code",
   "execution_count": 41,
   "metadata": {},
   "outputs": [
    {
     "name": "stdout",
     "output_type": "stream",
     "text": [
      "error\n"
     ]
    }
   ],
   "source": [
    "pagenumber = getnum(soup)\n",
    "conn = sqlite3.connect('booking.db')\n",
    "#c = conn.cursor()\n",
    "#c.execute(\"DROP TABLE hotels\")\n",
    "#c.execute('''CREATE TABLE IF NOT EXISTS\n",
    " #            hotels(name text, city text, region text, country text, address text, description text, pricerange text, rating int)''')\n",
    "\n",
    "file1 = open(\"hotel.txt\",\"a\") \n",
    "\n",
    "\n",
    "#add_hotel = (\"INSERT INTO hotels \"\n",
    "  #             \"(name,city,region,country,address,description,pricerange) \"\n",
    " #              \"VALUES (%s, %s, %s, %s, %s, %s, %s, %s)\")\n",
    "\n",
    "\n",
    "\n",
    "for i in range(getnum(soup)):\n",
    "    \n",
    "\n",
    "#html = driver.page_source\n",
    "#print(html)\n",
    "\n",
    "#soup=BeautifulSoup(html,'html.parser')\n",
    "#print(soup.title)\n",
    "\n",
    "\n",
    "    for link in soup.find_all(\"div\", class_=\"sr_item_main_block\"):\n",
    "            link2 = link.find('a',class_='hotel_name_link url')\n",
    "              #  print(link.get('href'))\n",
    "              # search for hotelwebsite and get value from header\n",
    "            str1 = 'https://www.booking.com'\n",
    "            str2 = link2.get('href')\n",
    "            #str2 = str2[2:]\n",
    "            str2 = str2.replace(\"\\r\",\"\")\n",
    "            str2 = str2.replace(\"\\n\",\"\")\n",
    "            #url1 = str1 +'/' +str2\n",
    "            url1 = str1 + str2\n",
    "            #print (url1)\n",
    "            response =requests.get(url1)\n",
    "            #print(response.status_code)\n",
    "            page = response.text\n",
    "            #print (page)\n",
    "            soup2=BeautifulSoup(page,'html.parser')\n",
    "            #a = soup2.find(\"streetAddress\")\n",
    "                #print (soup2.prettify())\n",
    "            #a = soup2.find('scr', class_ =\"bui-review-score__badge\")\n",
    "            data = json.loads(soup2.find('script', type='application/ld+json').text)\n",
    "            try:\n",
    "                    name =str(data['name'])\n",
    "                   # print(name)\n",
    "                    \n",
    "            except:\n",
    "                    name='na'\n",
    "                    \n",
    "            try:\n",
    "                    region = str(data['address']['addressRegion'])\n",
    "                    \n",
    "            except:\n",
    "                    region='na'\n",
    "                    \n",
    "            try:\n",
    "                    country = str(data['address']['addressCountry'])\n",
    "                    \n",
    "            except:\n",
    "                    country='na'\n",
    "                    \n",
    "            try:\n",
    "                    address = str(data['address']['streetAddress'])\n",
    "                    \n",
    "            except:\n",
    "                    address='na'\n",
    "                    \n",
    "            try:\n",
    "                    description = str(data['description'])\n",
    "                    \n",
    "            except:\n",
    "                    description='na'\n",
    "                    \n",
    "            try:\n",
    "                    pricerange = str(data['priceRange'])\n",
    "                    \n",
    "            except:\n",
    "                    pricerange='na'\n",
    "            try:\n",
    "                    rating = int(data['aggregateRating']['ratingValue'])\n",
    "                    \n",
    "            except:\n",
    "                    rating='na'\n",
    "            \n",
    "            file1.write(\"name: \"+ name)\n",
    "            \n",
    "           # params = (name, city,region, country, address, description,pricerange,rating)\n",
    "            \n",
    "         #   data_hotel = (name, city,region, country, address, description,pricerange)\n",
    "          #  c.execute(\"INSERT INTO hotels VALUES(name, city,region, country, address, description,pricerange,rating)\",params)\n",
    "        #    c.commit()\n",
    "         \n",
    "    print(i)         \n",
    "            \n",
    "    try:\n",
    "        driver.find_element_by_class_name(\"bui-pagination__item bui-pagination__next-arrow\").click()\n",
    "    except:\n",
    "        file1.close()\n",
    "        print(\"error\")\n",
    "        break\n",
    "    \n"
   ]
  },
  {
   "cell_type": "code",
   "execution_count": null,
   "metadata": {},
   "outputs": [],
   "source": [
    "   \n",
    "            \"\"\"\n",
    "            print (\"name: \"+ data['name'])\n",
    "            print (\"Address: \" + data['address']['streetAddress'])\n",
    "            print (\"type: \" + data['@type'])\n",
    "            try:\n",
    "                    rating = str(data['aggregateRating']['ratingValue'])\n",
    "                    \n",
    "            except:\n",
    "                    rating='na'\n",
    "            print (\"ratingValue: \" + rating)\n",
    "            \"\"\"  "
   ]
  },
  {
   "cell_type": "code",
   "execution_count": null,
   "metadata": {},
   "outputs": [],
   "source": []
  },
  {
   "cell_type": "code",
   "execution_count": null,
   "metadata": {},
   "outputs": [],
   "source": []
  }
 ],
 "metadata": {
  "kernelspec": {
   "display_name": "Python 3",
   "language": "python",
   "name": "python3"
  },
  "language_info": {
   "codemirror_mode": {
    "name": "ipython",
    "version": 3
   },
   "file_extension": ".py",
   "mimetype": "text/x-python",
   "name": "python",
   "nbconvert_exporter": "python",
   "pygments_lexer": "ipython3",
   "version": "3.7.3"
  }
 },
 "nbformat": 4,
 "nbformat_minor": 2
}
