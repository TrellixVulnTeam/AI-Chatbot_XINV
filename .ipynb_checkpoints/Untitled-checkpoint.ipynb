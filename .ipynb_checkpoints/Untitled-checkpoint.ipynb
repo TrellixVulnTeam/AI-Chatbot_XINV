{
 "cells": [
  {
   "cell_type": "code",
   "execution_count": 2,
   "metadata": {},
   "outputs": [
    {
     "ename": "SyntaxError",
     "evalue": "invalid syntax (<ipython-input-2-212c01992425>, line 10)",
     "output_type": "error",
     "traceback": [
      "\u001b[1;36m  File \u001b[1;32m\"<ipython-input-2-212c01992425>\"\u001b[1;36m, line \u001b[1;32m10\u001b[0m\n\u001b[1;33m    'packages':packages = [\"sqlite3\", \"selenium\",\"selenium.webdriver.support.wait\",\u001b[0m\n\u001b[1;37m                        ^\u001b[0m\n\u001b[1;31mSyntaxError\u001b[0m\u001b[1;31m:\u001b[0m invalid syntax\n"
     ]
    }
   ],
   "source": [
    "from cx_Freeze import setup, Executable\n",
    "\n",
    "base = None    \n",
    "\n",
    "executables = [Executable(\"chatbot.py\", base=base)]\n",
    "\n",
    "packages = [\"idna\"]\n",
    "options = {\n",
    "    'build_exe': {    \n",
    "        'packages': = [\"sqlite3\", \"selenium\",\"selenium.webdriver.support.wait\",\n",
    "                             \"selenium.webdriver.common.by\" ,\"requests\",\"bs4\",\"json\",\n",
    "                              \"math\",\"time\",\"selenium.webdriver.support\",\"selenium.webdriver.common.action_chains\",\n",
    "                              \"selenium.webdriver.chrome.options\",\"itertools\",\"random\",\n",
    "                              ],\n",
    "    },    \n",
    "}\n",
    "\n",
    "setup(\n",
    "    name = \"<any name>\",\n",
    "    options = options,\n",
    "    version = \"<any number>\",\n",
    "    description = '<any description>',\n",
    "    executables = executables\n",
    ")"
   ]
  },
  {
   "cell_type": "code",
   "execution_count": null,
   "metadata": {},
   "outputs": [],
   "source": []
  }
 ],
 "metadata": {
  "kernelspec": {
   "display_name": "Python 3",
   "language": "python",
   "name": "python3"
  },
  "language_info": {
   "codemirror_mode": {
    "name": "ipython",
    "version": 3
   },
   "file_extension": ".py",
   "mimetype": "text/x-python",
   "name": "python",
   "nbconvert_exporter": "python",
   "pygments_lexer": "ipython3",
   "version": "3.7.5"
  }
 },
 "nbformat": 4,
 "nbformat_minor": 2
}
