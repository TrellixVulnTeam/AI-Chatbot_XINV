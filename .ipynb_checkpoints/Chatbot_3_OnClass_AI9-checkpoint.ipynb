{
 "cells": [
  {
   "cell_type": "code",
   "execution_count": 32,
   "metadata": {},
   "outputs": [],
   "source": [
    "#### Virtual assistants and  accessing data"
   ]
  },
  {
   "cell_type": "code",
   "execution_count": 33,
   "metadata": {},
   "outputs": [],
   "source": [
    "## SQL statements in Python "
   ]
  },
  {
   "cell_type": "code",
   "execution_count": 1,
   "metadata": {},
   "outputs": [
    {
     "name": "stdout",
     "output_type": "stream",
     "text": [
      "[('Warwick Allerton Chicago', 'Chicago', 'Illinois', 'USA', '701 North Michigan Avenue, Streeterville, Chicago, IL 60611, United States of America', 'Located among the shopping, dining and entertainment on the Magnificent Mile, this boutique hotel is located in the heart of downtown Chicago and offers...', 94, 'LO', 8.2, 'MID', None, None, 'Downtown'), ('Best Western River North Hotel', 'Chicago', 'Illinois', 'USA', '125 West Ohio Street, River North, Chicago, IL 60610, United States of America', 'Just 5 blocks away from the famed shopping, dining and entertainment of the Magnificent Mile, this hotel is located in downtown Chicago and offers an...', 99, 'LO', 8.2, 'MID', None, None, 'Downtown'), ('The Palmer House Hilton', 'Chicago', 'Illinois', 'USA', '17 East Monroe Street, Chicago Loop, Chicago, IL 60603, United States of America', 'Just 1 block away from Millennium Park and the Art Institute of Chicago, this historic downtown hotel is located in Chicago’s theater and financial...', 125, 'LO', 8.3, 'MID', 'Millennium Park', None, 'Downtown'), ('River Hotel', 'Chicago', 'Illinois', 'USA', '75A East Wacker Drive, Chicago Loop, Chicago, IL 60601, United States of America', 'Ideally located in downtown Chicago along the Chicago River, this 4-star boutique hotel features modern guestrooms with free WiFi.', 99, 'LO', 8.6, 'MID', None, None, 'Downtown'), ('Comfort Suites Michigan Avenue', 'Chicago', 'Illinois', 'USA', '320 North Michigan Avenue, Chicago Loop, Chicago, IL 60601, United States of America', 'Just a block away from the shops and entertainment on the Magnificent Mile, this hotel is located in the heart of downtown Chicago and offers complimentary...', 99, 'LO', 8.6, 'MID', None, None, 'Downtown'), ('Wyndham Grand Chicago Riverfront', 'Chicago', 'Illinois', 'USA', '71 East Wacker Drive, Chicago Loop, Chicago, IL 60601, United States of America', 'Just 4 minutes’ walk away from the shopping, dining and entertainment on the Magnificent Mile, this downtown Chicago hotel offers on-site dining, 24-hour...', 104, 'LO', 8.7, 'MID', None, None, 'Downtown'), ('Hyatt Place Chicago River North', 'Chicago', 'Illinois', 'USA', '66 West Illinois Street, River North, Chicago, IL 60654, United States of America', 'Just 3 blocks away from the famed shopping, dining and entertainment on Michigan Avenue’s Magnificent Mile, this downtown Chicago hotel is located in the...', 119, 'LO', 8.7, 'MID', None, 'Michigan Avenue', 'Downtown'), ('La Quinta by Wyndham Chicago Downtown', 'Chicago', 'Illinois', 'USA', '1 South Franklin, Chicago Loop, Chicago, IL 60606, United States of America', 'Located in the heart of the Financial District in downtown Chicago, this hotel is located just 2 blocks from Willis Tower and offers contemporary rooms...', 119, 'LO', 8.9, 'MID', None, None, 'Downtown')]\n"
     ]
    }
   ],
   "source": [
    "# Import sqlite3\n",
    "import sqlite3\n",
    "\n",
    "# Open connection to DB\n",
    "conn = sqlite3.connect('hoteltest1.db')\n",
    "\n",
    "# Create a cursor\n",
    "c = conn.cursor()\n",
    "\n",
    "# Define area and ratings\n",
    "city, raterange, interest3,pricerange = \"Chicago\", \"MID\", \"Downtown\",\"LO\"\n",
    "t = (city, raterange,interest3,pricerange)\n",
    "\n",
    "# Execute the query\n",
    "c.execute('SELECT * FROM hotel WHERE city=? AND raterange=? AND interest3=? AND pricerange=?', t)\n",
    "\n",
    "# Print the results\n",
    "print(c.fetchall())"
   ]
  },
  {
   "cell_type": "code",
   "execution_count": 2,
   "metadata": {},
   "outputs": [],
   "source": [
    "## Creating queries from parameters"
   ]
  },
  {
   "cell_type": "code",
   "execution_count": 27,
   "metadata": {},
   "outputs": [],
   "source": [
    "# Define find_hotels()\n",
    "def find_hotels(params):\n",
    "    # Create the base query\n",
    "    query = 'SELECT * FROM hotel'\n",
    "    # Add filter clauses for each of the parameters\n",
    "    if len(params) > 0:\n",
    "        filters = [\"{}=?\".format(k) for k in params]\n",
    "        query += \" WHERE \" + \" and \".join(filters)\n",
    "    # Create the tuple of values\n",
    "    t = tuple(params.values())\n",
    "    \n",
    "    # Open connection to DB\n",
    "    conn = sqlite3.connect(\"hoteltest1.db\")\n",
    "    # Create a cursor\n",
    "    c = conn.cursor()\n",
    "    # Execute the query\n",
    "    c.execute(query,t)\n",
    "    # Return the results\n",
    "    return c.fetchall()"
   ]
  },
  {
   "cell_type": "code",
   "execution_count": 28,
   "metadata": {},
   "outputs": [],
   "source": [
    "## Using your custom function to find hotels"
   ]
  },
  {
   "cell_type": "code",
   "execution_count": 29,
   "metadata": {},
   "outputs": [],
   "source": [
    "# Create the dictionary of column names and values\n",
    "#params = {\"city\": \"Chicago\",\"interest3\": \"Downtown\",\"pricerange\":\"MID\"}\n",
    "\n",
    "# Find the hotels that match the parameters\n",
    "#print(find_hotels(params))"
   ]
  },
  {
   "cell_type": "code",
   "execution_count": 30,
   "metadata": {},
   "outputs": [],
   "source": [
    "## Creating SQL from natural language"
   ]
  },
  {
   "cell_type": "code",
   "execution_count": 65,
   "metadata": {},
   "outputs": [
    {
     "name": "stderr",
     "output_type": "stream",
     "text": [
      "C:\\Users\\Shouyan\\Anaconda3\\lib\\site-packages\\rasa_nlu\\training_data\\training_data.py:176: UserWarning: Intent 'askrating' has only 1 training examples! Minimum is 2, training may fail.\n",
      "  self.MIN_EXAMPLES_PER_INTENT))\n",
      "C:\\Users\\Shouyan\\Anaconda3\\lib\\site-packages\\rasa_nlu\\training_data\\training_data.py:176: UserWarning: Intent 'interest3' has only 1 training examples! Minimum is 2, training may fail.\n",
      "  self.MIN_EXAMPLES_PER_INTENT))\n",
      "C:\\Users\\Shouyan\\Anaconda3\\lib\\site-packages\\rasa_nlu\\training_data\\training_data.py:184: UserWarning: Entity 'interest1' has only 1 training examples! minimum is 2, training may fail.\n",
      "  self.MIN_EXAMPLES_PER_ENTITY))\n",
      "C:\\Users\\Shouyan\\Anaconda3\\lib\\site-packages\\rasa_nlu\\extractors\\entity_synonyms.py:105: UserWarning: Found conflicting synonym definitions for 'london'. Overwriting target 'London' with 'london'. Check your training data and remove conflicting synonym definitions to prevent this from happening.\n",
      "  repr(replacement)))\n"
     ]
    },
    {
     "name": "stdout",
     "output_type": "stream",
     "text": [
      "Fitting 2 folds for each of 6 candidates, totalling 12 fits\n"
     ]
    },
    {
     "name": "stderr",
     "output_type": "stream",
     "text": [
      "C:\\Users\\Shouyan\\Anaconda3\\lib\\site-packages\\sklearn\\model_selection\\_split.py:651: Warning: The least populated class in y has only 1 members, which is too few. The minimum number of members in any class cannot be less than n_splits=2.\n",
      "  % (min_groups, self.n_splits)), Warning)\n",
      "[Parallel(n_jobs=1)]: Using backend SequentialBackend with 1 concurrent workers.\n",
      "C:\\Users\\Shouyan\\Anaconda3\\lib\\site-packages\\sklearn\\metrics\\classification.py:1143: UndefinedMetricWarning: F-score is ill-defined and being set to 0.0 in labels with no predicted samples.\n",
      "  'precision', 'predicted', average, warn_for)\n",
      "C:\\Users\\Shouyan\\Anaconda3\\lib\\site-packages\\sklearn\\metrics\\classification.py:1143: UndefinedMetricWarning: F-score is ill-defined and being set to 0.0 in labels with no predicted samples.\n",
      "  'precision', 'predicted', average, warn_for)\n",
      "C:\\Users\\Shouyan\\Anaconda3\\lib\\site-packages\\sklearn\\metrics\\classification.py:1143: UndefinedMetricWarning: F-score is ill-defined and being set to 0.0 in labels with no predicted samples.\n",
      "  'precision', 'predicted', average, warn_for)\n",
      "C:\\Users\\Shouyan\\Anaconda3\\lib\\site-packages\\sklearn\\metrics\\classification.py:1143: UndefinedMetricWarning: F-score is ill-defined and being set to 0.0 in labels with no predicted samples.\n",
      "  'precision', 'predicted', average, warn_for)\n",
      "C:\\Users\\Shouyan\\Anaconda3\\lib\\site-packages\\sklearn\\metrics\\classification.py:1143: UndefinedMetricWarning: F-score is ill-defined and being set to 0.0 in labels with no predicted samples.\n",
      "  'precision', 'predicted', average, warn_for)\n",
      "C:\\Users\\Shouyan\\Anaconda3\\lib\\site-packages\\sklearn\\metrics\\classification.py:1143: UndefinedMetricWarning: F-score is ill-defined and being set to 0.0 in labels with no predicted samples.\n",
      "  'precision', 'predicted', average, warn_for)\n",
      "C:\\Users\\Shouyan\\Anaconda3\\lib\\site-packages\\sklearn\\metrics\\classification.py:1143: UndefinedMetricWarning: F-score is ill-defined and being set to 0.0 in labels with no predicted samples.\n",
      "  'precision', 'predicted', average, warn_for)\n",
      "C:\\Users\\Shouyan\\Anaconda3\\lib\\site-packages\\sklearn\\metrics\\classification.py:1143: UndefinedMetricWarning: F-score is ill-defined and being set to 0.0 in labels with no predicted samples.\n",
      "  'precision', 'predicted', average, warn_for)\n",
      "C:\\Users\\Shouyan\\Anaconda3\\lib\\site-packages\\sklearn\\metrics\\classification.py:1143: UndefinedMetricWarning: F-score is ill-defined and being set to 0.0 in labels with no predicted samples.\n",
      "  'precision', 'predicted', average, warn_for)\n",
      "C:\\Users\\Shouyan\\Anaconda3\\lib\\site-packages\\sklearn\\metrics\\classification.py:1143: UndefinedMetricWarning: F-score is ill-defined and being set to 0.0 in labels with no predicted samples.\n",
      "  'precision', 'predicted', average, warn_for)\n",
      "C:\\Users\\Shouyan\\Anaconda3\\lib\\site-packages\\sklearn\\metrics\\classification.py:1143: UndefinedMetricWarning: F-score is ill-defined and being set to 0.0 in labels with no predicted samples.\n",
      "  'precision', 'predicted', average, warn_for)\n",
      "C:\\Users\\Shouyan\\Anaconda3\\lib\\site-packages\\sklearn\\metrics\\classification.py:1143: UndefinedMetricWarning: F-score is ill-defined and being set to 0.0 in labels with no predicted samples.\n",
      "  'precision', 'predicted', average, warn_for)\n",
      "[Parallel(n_jobs=1)]: Done  12 out of  12 | elapsed:    0.0s finished\n"
     ]
    }
   ],
   "source": [
    "# Import necessary modules\n",
    "from rasa_nlu.training_data import load_data\n",
    "from rasa_nlu.config import RasaNLUModelConfig\n",
    "from rasa_nlu.model import Trainer\n",
    "from rasa_nlu import config\n",
    "\n",
    "# Create a trainer that uses this config\n",
    "trainer = Trainer(config.load(r\"C:\\Users\\Shouyan\\Documents\\ai\\rasa_nlu-master\\sample_configs\\config_spacy.yml\"))\n",
    "\n",
    "# Load the training data\n",
    "training_data = load_data(r'C:\\Users\\Shouyan\\Documents\\ai\\train1.json')\n",
    "\n",
    "# Create an interpreter by training the model\n",
    "interpreter = trainer.train(training_data)\n",
    "\n",
    "responses = [\n",
    "    \"I'm sorry :( I couldn't find anything like that\", \n",
    "    '{} is a great hotel!', \n",
    "    '{} or {} would work!', \n",
    "    '{} is one option, but I know others too :)'\n",
    "]"
   ]
  },
  {
   "cell_type": "code",
   "execution_count": 32,
   "metadata": {},
   "outputs": [
    {
     "name": "stdout",
     "output_type": "stream",
     "text": [
      "{'intent': {'name': 'hotel_search', 'confidence': 0.7863173110107876}, 'entities': [{'start': 9, 'end': 12, 'value': 'MID', 'entity': 'pricerange', 'confidence': 0.9319280424746955, 'extractor': 'CRFEntityExtractor', 'processors': ['EntitySynonymMapper']}, {'start': 32, 'end': 39, 'value': 'Chicago', 'entity': 'city', 'confidence': 0.7791385994564041, 'extractor': 'CRFEntityExtractor', 'processors': ['EntitySynonymMapper']}], 'intent_ranking': [{'name': 'hotel_search', 'confidence': 0.7863173110107876}, {'name': 'affirm', 'confidence': 0.04129277635044421}, {'name': 'goodbye', 'confidence': 0.03915904129286744}, {'name': 'city', 'confidence': 0.03711402184566688}, {'name': 'greet', 'confidence': 0.03041377604133163}, {'name': 'questingdetail', 'confidence': 0.017803803291646953}, {'name': 'askprice', 'confidence': 0.013607356134150954}, {'name': 'askrating', 'confidence': 0.013082730540113061}, {'name': 'pricerange', 'confidence': 0.01224121712254709}, {'name': 'interest3', 'confidence': 0.008967966370443921}], 'text': 'I want a mid range hotel in the Chicago'}\n",
      "Omni Chicago Hotel & Suites Magnificent Mile is one option, but I know others too :)\n"
     ]
    }
   ],
   "source": [
    "# Define respond()\n",
    "def respond(message):\n",
    "    # Extract the entities\n",
    "    entities = interpreter.parse(message)[\"entities\"]\n",
    "    # Initialize an empty params dictionary\n",
    "    params = {}\n",
    "    # Fill the dictionary with entities\n",
    "    for ent in entities:\n",
    "        params[ent[\"entity\"]] = str(ent[\"value\"])\n",
    "\n",
    "    # Find hotels that match the dictionary\n",
    "    results = find_hotels(params)\n",
    "    # Get the names of the hotels and index of the response\n",
    "    names = [r[0] for r in results]\n",
    "    index = min(len(results),3)\n",
    "    # Select the nth element of the responses array\n",
    "    return responses[index].format(*names)\n",
    "print(interpreter.parse(\"I want a mid range hotel in the Chicago\"))\n",
    "print(respond(\"I want a mid range hotel in the Chicago\"))"
   ]
  },
  {
   "cell_type": "code",
   "execution_count": 26,
   "metadata": {},
   "outputs": [],
   "source": [
    "#### Incremental slot filling and negation"
   ]
  },
  {
   "cell_type": "code",
   "execution_count": 10,
   "metadata": {},
   "outputs": [],
   "source": [
    "## Refining your search"
   ]
  },
  {
   "cell_type": "code",
   "execution_count": 89,
   "metadata": {},
   "outputs": [
    {
     "name": "stdout",
     "output_type": "stream",
     "text": [
      "USER: I'm looking for an hotel\n"
     ]
    },
    {
     "ename": "TypeError",
     "evalue": "find_hotels() missing 1 required positional argument: 'nparams'",
     "output_type": "error",
     "traceback": [
      "\u001b[1;31m---------------------------------------------------------------------------\u001b[0m",
      "\u001b[1;31mTypeError\u001b[0m                                 Traceback (most recent call last)",
      "\u001b[1;32m<ipython-input-89-775a3cb47431>\u001b[0m in \u001b[0;36m<module>\u001b[1;34m\u001b[0m\n\u001b[0;32m     20\u001b[0m     \u001b[0mprint\u001b[0m\u001b[1;33m(\u001b[0m\u001b[1;34m\"USER: {}\"\u001b[0m\u001b[1;33m.\u001b[0m\u001b[0mformat\u001b[0m\u001b[1;33m(\u001b[0m\u001b[0mmessage\u001b[0m\u001b[1;33m)\u001b[0m\u001b[1;33m)\u001b[0m\u001b[1;33m\u001b[0m\u001b[1;33m\u001b[0m\u001b[0m\n\u001b[0;32m     21\u001b[0m \u001b[1;33m\u001b[0m\u001b[0m\n\u001b[1;32m---> 22\u001b[1;33m     \u001b[0mresponse\u001b[0m\u001b[1;33m,\u001b[0m \u001b[0mparams\u001b[0m \u001b[1;33m=\u001b[0m \u001b[0mrespond\u001b[0m\u001b[1;33m(\u001b[0m\u001b[0mmessage\u001b[0m\u001b[1;33m,\u001b[0m \u001b[0mparams\u001b[0m\u001b[1;33m)\u001b[0m\u001b[1;33m\u001b[0m\u001b[1;33m\u001b[0m\u001b[0m\n\u001b[0m\u001b[0;32m     23\u001b[0m     \u001b[1;31m#print(params)\u001b[0m\u001b[1;33m\u001b[0m\u001b[1;33m\u001b[0m\u001b[1;33m\u001b[0m\u001b[0m\n\u001b[0;32m     24\u001b[0m     \u001b[1;32mif\u001b[0m \u001b[1;34m\"city\"\u001b[0m \u001b[1;32min\u001b[0m \u001b[0mparams\u001b[0m\u001b[1;33m:\u001b[0m\u001b[1;33m\u001b[0m\u001b[1;33m\u001b[0m\u001b[0m\n",
      "\u001b[1;32m<ipython-input-89-775a3cb47431>\u001b[0m in \u001b[0;36mrespond\u001b[1;34m(message, params)\u001b[0m\n\u001b[0;32m      7\u001b[0m         \u001b[0mparams\u001b[0m\u001b[1;33m[\u001b[0m\u001b[0ment\u001b[0m\u001b[1;33m[\u001b[0m\u001b[1;34m\"entity\"\u001b[0m\u001b[1;33m]\u001b[0m\u001b[1;33m]\u001b[0m \u001b[1;33m=\u001b[0m \u001b[0mstr\u001b[0m\u001b[1;33m(\u001b[0m\u001b[0ment\u001b[0m\u001b[1;33m[\u001b[0m\u001b[1;34m\"value\"\u001b[0m\u001b[1;33m]\u001b[0m\u001b[1;33m)\u001b[0m\u001b[1;33m\u001b[0m\u001b[1;33m\u001b[0m\u001b[0m\n\u001b[0;32m      8\u001b[0m     \u001b[1;31m# Find the hotels\u001b[0m\u001b[1;33m\u001b[0m\u001b[1;33m\u001b[0m\u001b[1;33m\u001b[0m\u001b[0m\n\u001b[1;32m----> 9\u001b[1;33m     \u001b[0mresults\u001b[0m \u001b[1;33m=\u001b[0m \u001b[0mfind_hotels\u001b[0m\u001b[1;33m(\u001b[0m\u001b[0mparams\u001b[0m\u001b[1;33m)\u001b[0m\u001b[1;33m\u001b[0m\u001b[1;33m\u001b[0m\u001b[0m\n\u001b[0m\u001b[0;32m     10\u001b[0m     \u001b[0mnames\u001b[0m \u001b[1;33m=\u001b[0m \u001b[1;33m[\u001b[0m\u001b[0mr\u001b[0m\u001b[1;33m[\u001b[0m\u001b[1;36m0\u001b[0m\u001b[1;33m]\u001b[0m \u001b[1;32mfor\u001b[0m \u001b[0mr\u001b[0m \u001b[1;32min\u001b[0m \u001b[0mresults\u001b[0m\u001b[1;33m]\u001b[0m\u001b[1;33m\u001b[0m\u001b[1;33m\u001b[0m\u001b[0m\n\u001b[0;32m     11\u001b[0m     \u001b[0mn\u001b[0m \u001b[1;33m=\u001b[0m \u001b[0mmin\u001b[0m\u001b[1;33m(\u001b[0m\u001b[0mlen\u001b[0m\u001b[1;33m(\u001b[0m\u001b[0mresults\u001b[0m\u001b[1;33m)\u001b[0m\u001b[1;33m,\u001b[0m \u001b[1;36m3\u001b[0m\u001b[1;33m)\u001b[0m\u001b[1;33m\u001b[0m\u001b[1;33m\u001b[0m\u001b[0m\n",
      "\u001b[1;31mTypeError\u001b[0m: find_hotels() missing 1 required positional argument: 'nparams'"
     ]
    }
   ],
   "source": [
    "# Define a respond function, taking the message and existing params as input\n",
    "def respond(message, params):\n",
    "    # Extract the entities\n",
    "    entities = interpreter.parse(message)[\"entities\"]\n",
    "    # Fill the dictionary with entities\n",
    "    for ent in entities:\n",
    "        params[ent[\"entity\"]] = str(ent[\"value\"])\n",
    "    # Find the hotels\n",
    "    results = find_hotels(params)\n",
    "    names = [r[0] for r in results]\n",
    "    n = min(len(results), 3)\n",
    "    # Return the appropriate response\n",
    "    return responses[n].format(*names), params\n",
    "\n",
    "# Initialize params dictionary\n",
    "params = {}\n",
    "\n",
    "# Pass the messages to the bot\n",
    "for message in [\"I'm looking for an hotel\", \"in New York\"]:\n",
    "    print(\"USER: {}\".format(message))\n",
    "\n",
    "    response, params = respond(message, params)\n",
    "    #print(params)\n",
    "    if \"city\" in params:\n",
    "        print(\"BOT: {}\".format(response))\n",
    "    else:\n",
    "        print(\"which city\")"
   ]
  },
  {
   "cell_type": "code",
   "execution_count": 90,
   "metadata": {},
   "outputs": [],
   "source": [
    "## Basic negation"
   ]
  },
  {
   "cell_type": "code",
   "execution_count": null,
   "metadata": {},
   "outputs": [],
   "source": []
  },
  {
   "cell_type": "code",
   "execution_count": null,
   "metadata": {},
   "outputs": [],
   "source": []
  },
  {
   "cell_type": "code",
   "execution_count": 91,
   "metadata": {},
   "outputs": [],
   "source": [
    "## Filtering with excluded slots"
   ]
  },
  {
   "cell_type": "code",
   "execution_count": 112,
   "metadata": {},
   "outputs": [],
   "source": [
    "'''\n",
    "def negated_ents(phrase, ent_vals):\n",
    "    #ents = [e for e in ent_vals if e in phrase]\n",
    "    ents = [e for e in ent_vals if e in phrase]\n",
    "    print(\"negastes\" + str(ents))\n",
    "    ends = sorted([phrase.index(e) + len(e) for e in ents])\n",
    "    start = 0\n",
    "    chunks = []\n",
    "    for end in ends:\n",
    "        chunks.append(phrase[start:end])\n",
    "        start = end\n",
    "    result = {}\n",
    "    for chunk in chunks:\n",
    "        for ent in ents:\n",
    "            if ent in chunk:\n",
    "                if \"not\" in chunk or \"n't\" in chunk:\n",
    "                    result[ent] = False\n",
    "                else:\n",
    "                    result[ent] = True\n",
    "    return result\n",
    "'''\n",
    "\n",
    "def negated_ents(phrase, ent_vals):\n",
    "    #ents = [e for e in ent_vals if e in phrase]\n",
    "    ents = [e for e in ent_vals ]\n",
    "    print(\"negastes\" + str(ents))\n",
    "    #ends = sorted([phrase.index(e) + len(e) for e in ents])\n",
    "    #start = 0\n",
    "    #chunks = []\n",
    "    #for end in ends:\n",
    "    #    chunks.append(phrase[start:end])\n",
    "    #    start = end\n",
    "    result = {}\n",
    "   # for chunk in chunks:\n",
    "    for ent in ents:\n",
    "  \n",
    "        if \"not\" in phrase or \"n't\" in phrase:\n",
    "                    result[ent] = False\n",
    "        else:\n",
    "                    result[ent] = True\n",
    "    return result\n",
    "\n",
    "def find_hotels(params, nparams):\n",
    "    query = 'SELECT * FROM hotel'\n",
    "    if len(params) > 0:\n",
    "        filters = [\"{}=?\".format(k) for k in params] + [\"{} <> ?\".format(k) for k in nparams] \n",
    "        query += \" WHERE \" + \" and \".join(filters)\n",
    "        print(filters)\n",
    "        print(query)\n",
    "    print (params.values())\n",
    "    t = tuple(params.values()) + tuple(nparams.values())\n",
    " \n",
    "    \n",
    "    # open connection to DB\n",
    "    conn = sqlite3.connect('hoteltest1.db')\n",
    "    # create a cursor\n",
    "    c = conn.cursor()\n",
    "    c.execute(query, t)\n",
    "    return c.fetchall()"
   ]
  },
  {
   "cell_type": "code",
   "execution_count": 113,
   "metadata": {},
   "outputs": [
    {
     "name": "stdout",
     "output_type": "stream",
     "text": [
      "USER: I want a hotel in chicago\n",
      "entvals ['Chicago']\n",
      "negastes['Chicago']\n",
      "negated is:{'Chicago': True}\n",
      "Chicago\n",
      "{}\n",
      "{'city': 'Chicago'}\n",
      "['city=?']\n",
      "SELECT * FROM hotel WHERE city=?\n",
      "dict_values(['Chicago'])\n",
      "{'city': 'Chicago'}\n",
      "{}\n",
      "BOT: The Irving on Oakley is one option, but I know others too :)\n",
      "USER: but not expensive\n",
      "entvals ['HI']\n",
      "negastes['HI']\n",
      "negated is:{'HI': False}\n",
      "HI\n",
      "{'pricerange': 'HI'}\n",
      "{'city': 'Chicago'}\n",
      "['city=?', 'pricerange <> ?']\n",
      "SELECT * FROM hotel WHERE city=? and pricerange <> ?\n",
      "dict_values(['Chicago'])\n",
      "{'city': 'Chicago'}\n",
      "{'pricerange': 'HI'}\n",
      "BOT: Found Hotel Chicago River North is one option, but I know others too :)\n"
     ]
    }
   ],
   "source": [
    "\n",
    "# Initialize params and neg_params\n",
    "params = {}\n",
    "nparams = {}\n",
    "# Define the respond function\n",
    "def respond(message, params, neg_params):\n",
    "    # Extract the entities\n",
    "    entities = interpreter.parse(message)[\"entities\"]\n",
    "    ent_vals = [e[\"value\"] for e in entities]\n",
    "    print(\"entvals \" + str(ent_vals))\n",
    "    # Look for negated entities\n",
    "    negated = negated_ents(message, ent_vals)\n",
    "    print(\"negated is:\"+  str(negated))\n",
    "    for ent in entities:\n",
    "        print(ent[\"value\"])\n",
    "        if ent[\"value\"] in negated and negated[ent[\"value\"]] != True:\n",
    "            \n",
    "           #params[ent[\"entity\"]] = str(ent[\"value\"])\n",
    "            nparams[ent[\"entity\"]] = str(ent[\"value\"])\n",
    "\n",
    "        else:\n",
    "            params[ent[\"entity\"]] = str(ent[\"value\"])\n",
    "            \n",
    "            #neg_params[ent[\"entity\"]] = str(ent[\"value\"])\n",
    "    # Find the hotels\n",
    "    print (nparams)\n",
    "    print (params)\n",
    "    results = find_hotels(params, nparams)\n",
    "    names = [r[0] for r in results]\n",
    "    n = min(len(results),3)\n",
    "    # Return the correct response\n",
    "    return responses[n].format(*names), params, nparams\n",
    "\n",
    "\n",
    "# Pass the messages to the bot\n",
    "for message in [\"I want a hotel in chicago\", \"but not expensive\"]:\n",
    "    print(\"USER: {}\".format(message))\n",
    "    response, params, nparams = respond(message, params, nparams)\n",
    "    print (params)\n",
    "    print (nparams)\n",
    "    print(\"BOT: {}\".format(response))\n"
   ]
  },
  {
   "cell_type": "code",
   "execution_count": null,
   "metadata": {},
   "outputs": [],
   "source": []
  },
  {
   "cell_type": "code",
   "execution_count": null,
   "metadata": {},
   "outputs": [],
   "source": []
  }
 ],
 "metadata": {
  "kernelspec": {
   "display_name": "Python 3",
   "language": "python",
   "name": "python3"
  },
  "language_info": {
   "codemirror_mode": {
    "name": "ipython",
    "version": 3
   },
   "file_extension": ".py",
   "mimetype": "text/x-python",
   "name": "python",
   "nbconvert_exporter": "python",
   "pygments_lexer": "ipython3",
   "version": "3.7.3"
  }
 },
 "nbformat": 4,
 "nbformat_minor": 2
}
