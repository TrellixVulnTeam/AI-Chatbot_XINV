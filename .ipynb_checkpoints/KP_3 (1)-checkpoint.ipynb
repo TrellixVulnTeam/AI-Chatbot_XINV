{
 "cells": [
  {
   "cell_type": "code",
   "execution_count": null,
   "metadata": {},
   "outputs": [],
   "source": [
    "#### Virtual assistants and  accessing data"
   ]
  },
  {
   "cell_type": "code",
   "execution_count": null,
   "metadata": {},
   "outputs": [],
   "source": [
    "## SQLite with Python"
   ]
  },
  {
   "cell_type": "code",
   "execution_count": 4,
   "metadata": {},
   "outputs": [
    {
     "data": {
      "text/plain": [
       "<sqlite3.Cursor at 0x110d13f80>"
      ]
     },
     "execution_count": 4,
     "metadata": {},
     "output_type": "execute_result"
    }
   ],
   "source": [
    "import sqlite3\n",
    "conn = sqlite3.connect('hotels.db')\n",
    "c = conn.cursor()\n",
    "c.execute(\"DROP TABLE hotels\")\n",
    "c.execute(\"CREATE TABLE IF NOT EXISTS hotels(name text, price text, location text, stars int)\")\n",
    "c.execute(\"INSERT INTO hotels(name, price, location, stars) VALUES('Hotel for Dogs', 'mid', 'east', 3)\")\n",
    "c.execute(\"INSERT INTO hotels(name, price, location, stars) VALUES('Hotel California', 'mid', 'north', 3)\")\n",
    "c.execute(\"INSERT INTO hotels(name, price, location, stars) VALUES('Grand Hotel', 'hi', 'south', 5)\")\n",
    "c.execute(\"INSERT INTO hotels(name, price, location, stars) VALUES('Cozy Cottage', 'lo', 'south', 2)\")\n",
    "c.execute(\"INSERT INTO hotels(name, price, location, stars) VALUES('Bens BnB', 'hi', 'north', 4)\")\n",
    "c.execute(\"INSERT INTO hotels(name, price, location, stars) VALUES('The Grand', 'hi', 'west', 5)\")\n",
    "c.execute(\"INSERT INTO hotels(name, price, location, stars) VALUES('Central Rooms', 'mid', 'center', 3)\")\n",
    "c.execute(\"commit\")"
   ]
  },
  {
   "cell_type": "code",
   "execution_count": 5,
   "metadata": {},
   "outputs": [
    {
     "data": {
      "text/plain": [
       "<sqlite3.Cursor at 0x110d13f80>"
      ]
     },
     "execution_count": 5,
     "metadata": {},
     "output_type": "execute_result"
    }
   ],
   "source": [
    "c.execute(\"SELECT * FROM hotels\")"
   ]
  },
  {
   "cell_type": "code",
   "execution_count": 6,
   "metadata": {},
   "outputs": [
    {
     "name": "stdout",
     "output_type": "stream",
     "text": [
      "[('Hotel for Dogs', 'mid', 'east', 3), ('Hotel California', 'mid', 'north', 3), ('Grand Hotel', 'hi', 'south', 5), ('Cozy Cottage', 'lo', 'south', 2), ('Bens BnB', 'hi', 'north', 4), ('The Grand', 'hi', 'west', 5), ('Central Rooms', 'mid', 'center', 3)]\n"
     ]
    }
   ],
   "source": [
    "print(c.fetchall())"
   ]
  },
  {
   "cell_type": "code",
   "execution_count": null,
   "metadata": {},
   "outputs": [],
   "source": [
    "## Exploring a DB with  natural language"
   ]
  },
  {
   "cell_type": "code",
   "execution_count": null,
   "metadata": {},
   "outputs": [],
   "source": [
    "# Parameters from text"
   ]
  },
  {
   "cell_type": "code",
   "execution_count": null,
   "metadata": {},
   "outputs": [],
   "source": [
    "# Import necessary modules\n",
    "from rasa_nlu.training_data import load_data\n",
    "from rasa_nlu.config import RasaNLUModelConfig\n",
    "from rasa_nlu.model import Trainer\n",
    "from rasa_nlu import config\n",
    "\n",
    "# Create a trainer that uses this config\n",
    "trainer = Trainer(config.load(\"/Users/fzhang/Documents/projects/rasa_nlu/sample_configs/config_spacy.yml\"))\n",
    "\n",
    "# Load the training data\n",
    "training_data = load_data('/Users/fzhang/Documents/projects/rasa_nlu/data/examples/rasa/demo-rasa.json')\n",
    "\n",
    "# Create an interpreter by training the model\n",
    "interpreter = trainer.train(training_data)"
   ]
  },
  {
   "cell_type": "code",
   "execution_count": null,
   "metadata": {},
   "outputs": [],
   "source": [
    "message = \"a cheap hotel in the north\""
   ]
  },
  {
   "cell_type": "code",
   "execution_count": null,
   "metadata": {},
   "outputs": [],
   "source": [
    "data = interpreter.parse(message)\n",
    "data"
   ]
  },
  {
   "cell_type": "code",
   "execution_count": null,
   "metadata": {},
   "outputs": [],
   "source": [
    "params = {}\n",
    "for ent in data[\"entities\"]:\n",
    "    params[ent[\"entity\"]] = ent[\"value\"]\n",
    "params"
   ]
  },
  {
   "cell_type": "code",
   "execution_count": null,
   "metadata": {},
   "outputs": [],
   "source": [
    "## Creating a query from parameters"
   ]
  },
  {
   "cell_type": "code",
   "execution_count": null,
   "metadata": {},
   "outputs": [],
   "source": [
    "query = \"select name FROM hotels\""
   ]
  },
  {
   "cell_type": "code",
   "execution_count": null,
   "metadata": {},
   "outputs": [],
   "source": [
    "filters = [\"{}=?\".format(k) for k in params.keys()]"
   ]
  },
  {
   "cell_type": "code",
   "execution_count": null,
   "metadata": {},
   "outputs": [],
   "source": [
    "filters"
   ]
  },
  {
   "cell_type": "code",
   "execution_count": null,
   "metadata": {},
   "outputs": [],
   "source": [
    "conditions = \" and \".join(filters)"
   ]
  },
  {
   "cell_type": "code",
   "execution_count": null,
   "metadata": {},
   "outputs": [],
   "source": [
    "conditions"
   ]
  },
  {
   "cell_type": "code",
   "execution_count": null,
   "metadata": {},
   "outputs": [],
   "source": [
    "final_q = \" WHERE \".join([query, conditions])"
   ]
  },
  {
   "cell_type": "code",
   "execution_count": null,
   "metadata": {},
   "outputs": [],
   "source": [
    "final_q"
   ]
  },
  {
   "cell_type": "code",
   "execution_count": null,
   "metadata": {},
   "outputs": [],
   "source": [
    "## Responses"
   ]
  },
  {
   "cell_type": "code",
   "execution_count": null,
   "metadata": {},
   "outputs": [],
   "source": [
    "responses = [\n",
    "    \"I'm sorry :( I couldn't find anything like that\",  \n",
    "    \"what about {}?\",\n",
    "    \"{} is one option, but I know others too :)\"\n",
    "]"
   ]
  },
  {
   "cell_type": "code",
   "execution_count": null,
   "metadata": {},
   "outputs": [],
   "source": [
    "results = c.fetchall() "
   ]
  },
  {
   "cell_type": "code",
   "execution_count": null,
   "metadata": {},
   "outputs": [],
   "source": [
    "len(results)"
   ]
  },
  {
   "cell_type": "code",
   "execution_count": null,
   "metadata": {},
   "outputs": [],
   "source": [
    "index = min(len(results), len(responses)-1)  "
   ]
  },
  {
   "cell_type": "code",
   "execution_count": null,
   "metadata": {},
   "outputs": [],
   "source": [
    "responses[index]"
   ]
  },
  {
   "cell_type": "code",
   "execution_count": null,
   "metadata": {},
   "outputs": [],
   "source": [
    "## Basic Memory"
   ]
  },
  {
   "cell_type": "code",
   "execution_count": null,
   "metadata": {},
   "outputs": [],
   "source": [
    "def respond(message, params):\n",
    "    # update params with entities in message   \n",
    "    # run query\n",
    "    # pick response\n",
    "    return response, params"
   ]
  },
  {
   "cell_type": "code",
   "execution_count": null,
   "metadata": {},
   "outputs": [],
   "source": [
    "# initialise params. params has memory\n",
    "params = {}"
   ]
  },
  {
   "cell_type": "code",
   "execution_count": null,
   "metadata": {},
   "outputs": [],
   "source": [
    "# message comes in\n",
    "response, params = respond(message, params)"
   ]
  },
  {
   "cell_type": "code",
   "execution_count": null,
   "metadata": {},
   "outputs": [],
   "source": [
    "## Catching negations\n",
    "import spacy\n",
    "nlp = spacy.load(\"en_core_web_md\")"
   ]
  },
  {
   "cell_type": "code",
   "execution_count": null,
   "metadata": {},
   "outputs": [],
   "source": [
    "doc = nlp('not sushi, maybe pizza?')"
   ]
  },
  {
   "cell_type": "code",
   "execution_count": null,
   "metadata": {},
   "outputs": [],
   "source": [
    "indices = [1, 4]"
   ]
  },
  {
   "cell_type": "code",
   "execution_count": null,
   "metadata": {},
   "outputs": [],
   "source": [
    "ents, negated_ents = [], []"
   ]
  },
  {
   "cell_type": "code",
   "execution_count": null,
   "metadata": {},
   "outputs": [],
   "source": [
    "start = 0\n",
    "for i in indices:\n",
    "    phrase = \"{}\".format(doc[start:i])\n",
    "    if \"not\" in phrase or \"n't\" in phrase: \n",
    "        negated_ents.append(doc[i])\n",
    "        print(negated_ents)\n",
    "    else:\n",
    "        ents.append(doc[i])\n",
    "        print(ents)\n",
    "        start = i\n",
    "\n",
    "print(ents)\n",
    "print(negated_ents)"
   ]
  },
  {
   "cell_type": "code",
   "execution_count": null,
   "metadata": {},
   "outputs": [],
   "source": []
  }
 ],
 "metadata": {
  "kernelspec": {
   "display_name": "Python 3",
   "language": "python",
   "name": "python3"
  },
  "language_info": {
   "codemirror_mode": {
    "name": "ipython",
    "version": 3
   },
   "file_extension": ".py",
   "mimetype": "text/x-python",
   "name": "python",
   "nbconvert_exporter": "python",
   "pygments_lexer": "ipython3",
   "version": "3.7.3"
  }
 },
 "nbformat": 4,
 "nbformat_minor": 2
}
